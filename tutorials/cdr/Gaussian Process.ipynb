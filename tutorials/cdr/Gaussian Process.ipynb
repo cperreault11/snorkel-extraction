{
 "cells": [
  {
   "cell_type": "code",
   "execution_count": 1,
   "id": "b134556d",
   "metadata": {},
   "outputs": [],
   "source": [
    "import numpy as np\n",
    "import matplotlib.pyplot as plt\n",
    "from sklearn.gaussian_process import GaussianProcessClassifier\n",
    "from sklearn.gaussian_process.kernels import RBF,WhiteKernel,DotProduct\n",
    "import pandas as pd\n",
    "import torch"
   ]
  },
  {
   "cell_type": "code",
   "execution_count": 2,
   "id": "041aacb7",
   "metadata": {},
   "outputs": [],
   "source": [
    "from snorkel import SnorkelSession\n",
    "from snorkel.models import candidate_subclass\n",
    "from snorkel.annotations import load_gold_labels\n",
    "from snorkel.learning.pytorch import LSTM\n",
    "from scipy import vstack"
   ]
  },
  {
   "cell_type": "code",
   "execution_count": 3,
   "id": "42bcf203",
   "metadata": {},
   "outputs": [
    {
     "name": "stdout",
     "output_type": "stream",
     "text": [
      "[LSTM] Loaded model <hand_labeled_small>\n"
     ]
    }
   ],
   "source": [
    "lstm_h = LSTM(n_threads=None)\n",
    "lstm_h.load('hand_labeled_small')"
   ]
  },
  {
   "cell_type": "code",
   "execution_count": 4,
   "id": "101a948a",
   "metadata": {},
   "outputs": [
    {
     "name": "stdout",
     "output_type": "stream",
     "text": [
      "[LSTM] Loaded model <weak_supervision>\n"
     ]
    }
   ],
   "source": [
    "lstm_l = LSTM(n_threads=None)\n",
    "lstm_l.load('weak_supervision')"
   ]
  },
  {
   "cell_type": "code",
   "execution_count": 5,
   "id": "ce18ebb9",
   "metadata": {},
   "outputs": [],
   "source": [
    "session = SnorkelSession()"
   ]
  },
  {
   "cell_type": "code",
   "execution_count": 98,
   "id": "8af22c8e",
   "metadata": {},
   "outputs": [],
   "source": [
    "ChemicalDisease = candidate_subclass('ChemicalDisease', ['chemical', 'disease'])\n",
    "\n",
    "train = session.query(ChemicalDisease).filter(ChemicalDisease.split == 0).all()\n",
    "dev = session.query(ChemicalDisease).filter(ChemicalDisease.split == 1).all()\n",
    "test = session.query(ChemicalDisease).filter(ChemicalDisease.split == 2).all()"
   ]
  },
  {
   "cell_type": "code",
   "execution_count": 7,
   "id": "44b1db4a",
   "metadata": {},
   "outputs": [
    {
     "data": {
      "text/plain": [
       "4683"
      ]
     },
     "execution_count": 7,
     "metadata": {},
     "output_type": "execute_result"
    }
   ],
   "source": [
    "len(test)"
   ]
  },
  {
   "cell_type": "code",
   "execution_count": 8,
   "id": "715c324a",
   "metadata": {},
   "outputs": [],
   "source": [
    "L_gold_dev = load_gold_labels(session, annotator_name='gold', split=1)\n",
    "L_gold_train = load_gold_labels(session, annotator_name='gold', split=0)\n",
    "L_gold_test = load_gold_labels(session, annotator_name='gold', split=2)"
   ]
  },
  {
   "cell_type": "code",
   "execution_count": 9,
   "id": "30e1d7ba",
   "metadata": {},
   "outputs": [],
   "source": [
    "from snorkel.annotations import load_marginals\n",
    "train_marginals = load_marginals(session, split=0)"
   ]
  },
  {
   "cell_type": "code",
   "execution_count": 99,
   "id": "f700de28",
   "metadata": {},
   "outputs": [],
   "source": [
    "dev.extend(train[:1000])\n",
    "combined = vstack((L_gold_dev.toarray(), L_gold_train[:1000].toarray()))\n",
    "combined[combined == -1] = 0\n",
    "y = np.append(1-combined, combined,axis=1)"
   ]
  },
  {
   "cell_type": "code",
   "execution_count": 107,
   "id": "cfe1d8a1",
   "metadata": {},
   "outputs": [],
   "source": [
    "from snorkel.models import Candidate\n",
    "features_small = lstm_l.feature_outputs(dev,1920)"
   ]
  },
  {
   "cell_type": "code",
   "execution_count": 101,
   "id": "f12b7978",
   "metadata": {},
   "outputs": [],
   "source": [
    "kernel =  RBF(1) + WhiteKernel(noise_level=.1) #first attempt at defining a kernel. Not exactly sure what will be best for this or how to tell\n",
    "gpc_high = GaussianProcessClassifier(kernel = kernel)"
   ]
  },
  {
   "cell_type": "code",
   "execution_count": 108,
   "id": "c8224983",
   "metadata": {},
   "outputs": [
    {
     "data": {
      "text/plain": [
       "torch.Size([192000])"
      ]
     },
     "execution_count": 108,
     "metadata": {},
     "output_type": "execute_result"
    }
   ],
   "source": [
    "features_small.shape"
   ]
  },
  {
   "cell_type": "code",
   "execution_count": 109,
   "id": "2f1fc612",
   "metadata": {},
   "outputs": [],
   "source": [
    "features_small = features_small.reshape(1920,100)\n"
   ]
  },
  {
   "cell_type": "code",
   "execution_count": 110,
   "id": "246492e0",
   "metadata": {},
   "outputs": [
    {
     "data": {
      "text/plain": [
       "GaussianProcessClassifier(copy_X_train=True,\n",
       "                          kernel=RBF(length_scale=1) + WhiteKernel(noise_level=0.1),\n",
       "                          max_iter_predict=100, multi_class='one_vs_rest',\n",
       "                          n_jobs=None, n_restarts_optimizer=0,\n",
       "                          optimizer='fmin_l_bfgs_b', random_state=None,\n",
       "                          warm_start=False)"
      ]
     },
     "execution_count": 110,
     "metadata": {},
     "output_type": "execute_result"
    }
   ],
   "source": [
    "gpc_high.fit(features_small.detach().numpy(),combined.reshape(1920,))"
   ]
  },
  {
   "cell_type": "code",
   "execution_count": 114,
   "id": "dfe96fe4",
   "metadata": {},
   "outputs": [],
   "source": [
    "test_features = lstm_l.feature_outputs(test,100).reshape(4683,100)"
   ]
  },
  {
   "cell_type": "code",
   "execution_count": 17,
   "id": "74204369",
   "metadata": {},
   "outputs": [],
   "source": [
    "uncertainty = []"
   ]
  },
  {
   "cell_type": "code",
   "execution_count": 115,
   "id": "ba48f536",
   "metadata": {},
   "outputs": [],
   "source": [
    "pred = gpc_high.predict(test_features.detach().numpy())"
   ]
  },
  {
   "cell_type": "code",
   "execution_count": 116,
   "id": "876d24ee",
   "metadata": {},
   "outputs": [],
   "source": [
    "test_y = L_gold_test.toarray()\n",
    "test_y[test_y==-1] = 0"
   ]
  },
  {
   "cell_type": "code",
   "execution_count": 117,
   "id": "ed25ab4a",
   "metadata": {},
   "outputs": [
    {
     "name": "stdout",
     "output_type": "stream",
     "text": [
      "0.15568240788790866\n"
     ]
    }
   ],
   "source": [
    "fp, tp, fn, tn = 0,0,0,0\n",
    "for e,x in enumerate(test_y):\n",
    "    if x==1 and pred[e]==1:\n",
    "        tp += 1\n",
    "    elif x==1 and pred[e]==0:\n",
    "        fn += 1\n",
    "    elif x==0 and pred[e]==1:\n",
    "        fp +=1\n",
    "    elif x==0 and pred[e]==0:\n",
    "        tn +=1\n",
    "p = tp / (tp + fp)\n",
    "r = tp / (tp + fn)\n",
    "print(2 / (1/p + 1/r))"
   ]
  },
  {
   "cell_type": "code",
   "execution_count": 118,
   "id": "1552dce0",
   "metadata": {},
   "outputs": [
    {
     "data": {
      "text/plain": [
       "RBF(length_scale=0.937) + WhiteKernel(noise_level=1e-05)"
      ]
     },
     "execution_count": 118,
     "metadata": {},
     "output_type": "execute_result"
    }
   ],
   "source": [
    "gpc_high.kernel_"
   ]
  },
  {
   "cell_type": "code",
   "execution_count": 21,
   "id": "88b0e2ab",
   "metadata": {},
   "outputs": [],
   "source": [
    "# ok so next step, train a gpc for both the high fidelity (1920 datapoints) and low fidelity (the rest of the train set)\n",
    "# then, create a new model that makes predictions based on both of these, and uses the one with lower uncertainty to make a prediciton\n",
    "# see which one has the better F1 score, and ideally we can beat at least the snorkel model, and even better would be wonderful\n",
    "# if we beat the hand labeled model"
   ]
  },
  {
   "cell_type": "code",
   "execution_count": 22,
   "id": "62f08bcc",
   "metadata": {},
   "outputs": [],
   "source": [
    "kernel2 = RBF(1,length_scale_bounds =[.1,1]) + WhiteKernel(noise_level=8.18e-05, noise_level_bounds = [8.18e-05,8.18e-05])\n",
    "gpc_low = GaussianProcessClassifier(kernel = kernel2)"
   ]
  },
  {
   "cell_type": "code",
   "execution_count": 23,
   "id": "8e6099dc",
   "metadata": {},
   "outputs": [
    {
     "data": {
      "text/plain": [
       "RBF(length_scale=4.84) + WhiteKernel(noise_level=8.18e-05)"
      ]
     },
     "execution_count": 23,
     "metadata": {},
     "output_type": "execute_result"
    }
   ],
   "source": [
    "gpc_high.kernel_"
   ]
  },
  {
   "cell_type": "code",
   "execution_count": 120,
   "id": "bbc4ab1d",
   "metadata": {},
   "outputs": [],
   "source": [
    "x = train[1000:]\n",
    "low_train_y = train_marginals[1000:]\n",
    "low_train_y[low_train_y <.5 ] = 0\n",
    "low_train_y[low_train_y >=.5] = 1\n",
    "#y = np.append(1-low_train_y, low_train_y,axis=1)"
   ]
  },
  {
   "cell_type": "code",
   "execution_count": 121,
   "id": "9d2c2848",
   "metadata": {},
   "outputs": [],
   "source": [
    "features_large = lstm_l.feature_outputs(x,100)"
   ]
  },
  {
   "cell_type": "code",
   "execution_count": 129,
   "id": "735533a1",
   "metadata": {},
   "outputs": [],
   "source": [
    "cov = np.matmul(features_large.detach().numpy().transpose() , features_large.detach().numpy())"
   ]
  },
  {
   "cell_type": "code",
   "execution_count": 139,
   "id": "3a124cf1",
   "metadata": {},
   "outputs": [],
   "source": [
    "s = np.linalg.svd(cov)\n",
    "s = s[2]"
   ]
  },
  {
   "cell_type": "code",
   "execution_count": 140,
   "id": "06aabcf9",
   "metadata": {},
   "outputs": [
    {
     "data": {
      "text/plain": [
       "array([[ -2.23308325e-01,   1.33821160e-01,   1.30315097e-02, ...,\n",
       "         -7.67141022e-03,   1.35805503e-01,  -4.49314900e-03],\n",
       "       [ -2.55532920e-01,   1.54999912e-01,   3.18487659e-02, ...,\n",
       "          2.17907168e-02,  -2.59740174e-01,  -7.03165354e-03],\n",
       "       [ -6.29722849e-02,  -6.89468160e-02,   4.27895673e-02, ...,\n",
       "          1.89673193e-02,   3.77352126e-02,   2.99257832e-03],\n",
       "       ..., \n",
       "       [  7.44430217e-05,  -1.49986823e-03,  -1.54076032e-02, ...,\n",
       "          6.51995977e-03,   1.40662678e-03,  -7.69380573e-03],\n",
       "       [  7.80556584e-05,  -9.12342512e-04,   1.62718520e-02, ...,\n",
       "          1.18965760e-03,  -1.85143366e-03,  -5.29571809e-03],\n",
       "       [  2.11892169e-04,   6.03222114e-04,   1.15504852e-02, ...,\n",
       "         -6.08208706e-04,   1.26374571e-03,   3.16347694e-03]], dtype=float32)"
      ]
     },
     "execution_count": 140,
     "metadata": {},
     "output_type": "execute_result"
    }
   ],
   "source": [
    "s"
   ]
  },
  {
   "cell_type": "code",
   "execution_count": 122,
   "id": "bfa205b8",
   "metadata": {},
   "outputs": [],
   "source": [
    "features_large = features_large.reshape(7433,100)"
   ]
  },
  {
   "cell_type": "code",
   "execution_count": 123,
   "id": "0f807ad2",
   "metadata": {},
   "outputs": [
    {
     "data": {
      "text/plain": [
       "GaussianProcessClassifier(copy_X_train=True,\n",
       "                          kernel=RBF(length_scale=1) + WhiteKernel(noise_level=8.18e-05),\n",
       "                          max_iter_predict=100, multi_class='one_vs_rest',\n",
       "                          n_jobs=None, n_restarts_optimizer=0,\n",
       "                          optimizer='fmin_l_bfgs_b', random_state=None,\n",
       "                          warm_start=False)"
      ]
     },
     "execution_count": 123,
     "metadata": {},
     "output_type": "execute_result"
    }
   ],
   "source": [
    "gpc_low.fit(features_large.detach().numpy(), low_train_y.reshape(7433,))"
   ]
  },
  {
   "cell_type": "code",
   "execution_count": 28,
   "id": "a6e25205",
   "metadata": {},
   "outputs": [
    {
     "data": {
      "text/plain": [
       "RBF(length_scale=1) + WhiteKernel(noise_level=8.18e-05)"
      ]
     },
     "execution_count": 28,
     "metadata": {},
     "output_type": "execute_result"
    }
   ],
   "source": [
    "gpc_low.kernel_"
   ]
  },
  {
   "cell_type": "code",
   "execution_count": 29,
   "id": "27295833",
   "metadata": {},
   "outputs": [],
   "source": [
    "q = []\n",
    "l = gpc_high.predict_proba(features_small.detach().numpy(), uncertainty = q)\n",
    "q = q[0]"
   ]
  },
  {
   "cell_type": "code",
   "execution_count": 30,
   "id": "832e094b",
   "metadata": {},
   "outputs": [],
   "source": [
    "un = []"
   ]
  },
  {
   "cell_type": "code",
   "execution_count": 31,
   "id": "144b8d14",
   "metadata": {},
   "outputs": [
    {
     "data": {
      "text/plain": [
       "array([[ 0.30936607,  0.69063393],\n",
       "       [ 0.34940898,  0.65059102],\n",
       "       [ 0.35583175,  0.64416825],\n",
       "       ..., \n",
       "       [ 0.39510062,  0.60489938],\n",
       "       [ 0.23210697,  0.76789303],\n",
       "       [ 0.37409694,  0.62590306]])"
      ]
     },
     "execution_count": 31,
     "metadata": {},
     "output_type": "execute_result"
    }
   ],
   "source": [
    "gpc_low.predict_proba(features_large.detach().numpy(), uncertainty = un)"
   ]
  },
  {
   "cell_type": "code",
   "execution_count": 32,
   "id": "14ae5573",
   "metadata": {},
   "outputs": [],
   "source": [
    "un = np.array(un[0])"
   ]
  },
  {
   "cell_type": "code",
   "execution_count": 33,
   "id": "a6d40004",
   "metadata": {},
   "outputs": [
    {
     "data": {
      "text/plain": [
       "0.39252454338954762"
      ]
     },
     "execution_count": 33,
     "metadata": {},
     "output_type": "execute_result"
    }
   ],
   "source": [
    "un.mean()"
   ]
  },
  {
   "cell_type": "code",
   "execution_count": 55,
   "id": "f6b63001",
   "metadata": {},
   "outputs": [],
   "source": [
    "pred_low = gpc_low.predict(test_features_low.detach().numpy())"
   ]
  },
  {
   "cell_type": "code",
   "execution_count": 56,
   "id": "1b2d5053",
   "metadata": {},
   "outputs": [],
   "source": [
    "pred_high = gpc_high.predict(test_features.detach().numpy())"
   ]
  },
  {
   "cell_type": "code",
   "execution_count": 35,
   "id": "fd5b54df",
   "metadata": {},
   "outputs": [
    {
     "data": {
      "text/plain": [
       "0.0"
      ]
     },
     "execution_count": 35,
     "metadata": {},
     "output_type": "execute_result"
    }
   ],
   "source": [
    "pred_low.min()"
   ]
  },
  {
   "cell_type": "code",
   "execution_count": 36,
   "id": "b8e10cb7",
   "metadata": {},
   "outputs": [],
   "source": [
    "test_features_low = lstm_l.feature_outputs(test,100).reshape(4683,100)"
   ]
  },
  {
   "cell_type": "code",
   "execution_count": 53,
   "id": "52296463",
   "metadata": {},
   "outputs": [
    {
     "name": "stdout",
     "output_type": "stream",
     "text": [
      "0.4676022693341296\n"
     ]
    }
   ],
   "source": [
    "fp, tp, fn, tn = 0,0,0,0\n",
    "for e,x in enumerate(test_y):\n",
    "    if x==1 and preds[e]==1:\n",
    "        tp += 1\n",
    "    elif x==1 and preds[e]==0:\n",
    "        fn += 1\n",
    "    elif x==0 and preds[e]==1:\n",
    "        fp +=1\n",
    "    elif x==0 and preds[e]==0:\n",
    "        tn +=1\n",
    "p = tp / (tp + fp)\n",
    "r = tp / (tp + fn)\n",
    "print(2 / (1/p + 1/r))"
   ]
  },
  {
   "cell_type": "code",
   "execution_count": 71,
   "id": "0f416b54",
   "metadata": {},
   "outputs": [],
   "source": [
    "buckets = np.linspace(0,1.3, 20)"
   ]
  },
  {
   "cell_type": "code",
   "execution_count": 91,
   "id": "11ed0c2b",
   "metadata": {},
   "outputs": [
    {
     "name": "stdout",
     "output_type": "stream",
     "text": [
      "Bucket 0.06842105263157895: \n",
      " Count: 0\n",
      " F1: 0\n",
      "0,0,0,0\n",
      "Bucket 0.1368421052631579: \n",
      " Count: 12\n",
      " F1: 0.4444444444444444\n",
      "2,3,5,2\n",
      "Bucket 0.20526315789473687: \n",
      " Count: 798\n",
      " F1: 0.30158730158730157\n",
      "38,35,584,141\n",
      "Bucket 0.2736842105263158: \n",
      " Count: 1739\n",
      " F1: 0.4856879039704524\n",
      "263,281,919,276\n",
      "Bucket 0.34210526315789475: \n",
      " Count: 1351\n",
      " F1: 0.5178743961352656\n",
      "268,275,584,224\n",
      "Bucket 0.41052631578947374: \n",
      " Count: 599\n",
      " F1: 0.4291845493562232\n",
      "100,141,233,125\n",
      "Bucket 0.4789473684210527: \n",
      " Count: 128\n",
      " F1: 0.39534883720930236\n",
      "17,12,59,40\n",
      "Bucket 0.5473684210526316: \n",
      " Count: 42\n",
      " F1: 0.3846153846153846\n",
      "5,5,21,11\n",
      "Bucket 0.6157894736842106: \n",
      " Count: 13\n",
      " F1: 1.0\n",
      "2,0,11,0\n",
      "Bucket 0.6842105263157895: \n",
      " Count: 1\n",
      " F1: 0\n",
      "0,1,0,0\n",
      "Bucket 0.7526315789473684: \n",
      " Count: 0\n",
      " F1: 0\n",
      "0,0,0,0\n",
      "Bucket 0.8210526315789475: \n",
      " Count: 0\n",
      " F1: 0\n",
      "0,0,0,0\n",
      "Bucket 0.8894736842105264: \n",
      " Count: 0\n",
      " F1: 0\n",
      "0,0,0,0\n",
      "Bucket 0.9578947368421054: \n",
      " Count: 0\n",
      " F1: 0\n",
      "0,0,0,0\n",
      "Bucket 1.0263157894736843: \n",
      " Count: 0\n",
      " F1: 0\n",
      "0,0,0,0\n",
      "Bucket 1.0947368421052632: \n",
      " Count: 0\n",
      " F1: 0\n",
      "0,0,0,0\n",
      "Bucket 1.1631578947368422: \n",
      " Count: 0\n",
      " F1: 0\n",
      "0,0,0,0\n",
      "Bucket 1.231578947368421: \n",
      " Count: 0\n",
      " F1: 0\n",
      "0,0,0,0\n",
      "Bucket 1.3: \n",
      " Count: 0\n",
      " F1: 0\n",
      "0,0,0,0\n"
     ]
    }
   ],
   "source": [
    "f1scores = []\n",
    "\n",
    "for i in range(buckets.size -1):\n",
    "    count = 0\n",
    "    tp,fp,tn,fn = 0,0,0,0\n",
    "    for j,p in enumerate(test_y):\n",
    "        if uh[j] >= buckets[i] and uh[j] < buckets[i+1]:\n",
    "            count += 1\n",
    "            if p == 0 and pred_high[j] == 0:\n",
    "                tn += 1\n",
    "            elif p == 0 and pred_high[j] == 1:\n",
    "                fp += 1\n",
    "            elif p == 1 and pred_high[j] == 0:\n",
    "                fn += 1\n",
    "            else: #p == 1 and preds[j] == 1:\n",
    "                tp += 1\n",
    "    try:\n",
    "        p = tp / (tp + fp)\n",
    "    except:\n",
    "        p = 0\n",
    "    try:\n",
    "        r = tp / (tp + fn)\n",
    "    except: \n",
    "        r = 0\n",
    "    try:\n",
    "        f1 = 2/(1/p + 1/r)\n",
    "    except:\n",
    "        f1 = 0\n",
    "    f1scores.append(f1)\n",
    "    print (\"Bucket {}: \\n Count: {}\\n F1: {}\\n{},{},{},{}\".format(buckets[i+1], count, f1,tp,fp,tn,fn))"
   ]
  },
  {
   "cell_type": "code",
   "execution_count": 92,
   "id": "b38293d3",
   "metadata": {},
   "outputs": [],
   "source": [
    "f1scores = np.array(f1scores)"
   ]
  },
  {
   "cell_type": "code",
   "execution_count": 93,
   "id": "9981e7f3",
   "metadata": {},
   "outputs": [
    {
     "data": {
      "text/plain": [
       "array([ 0.06842105,  0.13684211,  0.20526316,  0.27368421,  0.34210526,\n",
       "        0.41052632,  0.47894737,  0.54736842,  0.61578947,  0.68421053,\n",
       "        0.75263158,  0.82105263,  0.88947368,  0.95789474,  1.02631579,\n",
       "        1.09473684,  1.16315789,  1.23157895,  1.3       ])"
      ]
     },
     "execution_count": 93,
     "metadata": {},
     "output_type": "execute_result"
    }
   ],
   "source": [
    "buckets[1:]"
   ]
  },
  {
   "cell_type": "code",
   "execution_count": 94,
   "id": "5e4e9ab4",
   "metadata": {},
   "outputs": [
    {
     "data": {
      "text/plain": [
       "<BarContainer object of 19 artists>"
      ]
     },
     "execution_count": 94,
     "metadata": {},
     "output_type": "execute_result"
    },
    {
     "data": {
      "image/png": "[encoded data removed]",
      "text/plain": [
       "<Figure size 432x288 with 1 Axes>"
      ]
     },
     "metadata": {
      "needs_background": "light"
     },
     "output_type": "display_data"
    }
   ],
   "source": [
    "plt.bar(np.arange(19),f1scores)\n"
   ]
  },
  {
   "cell_type": "code",
   "execution_count": 268,
   "id": "2086482b",
   "metadata": {},
   "outputs": [
    {
     "name": "stdout",
     "output_type": "stream",
     "text": [
      "0.3217332734620566 0.9464993394980185\n"
     ]
    }
   ],
   "source": [
    "print (p,r)"
   ]
  },
  {
   "cell_type": "code",
   "execution_count": 267,
   "id": "0f92b72f",
   "metadata": {},
   "outputs": [
    {
     "name": "stdout",
     "output_type": "stream",
     "text": [
      "3021 1433 81 148\n"
     ]
    }
   ],
   "source": [
    "print (fp, tp, fn, tn)"
   ]
  },
  {
   "cell_type": "code",
   "execution_count": 52,
   "id": "ee9df9f5",
   "metadata": {},
   "outputs": [],
   "source": [
    "preds = []\n",
    "for i in pred_multi:\n",
    "    if i[0] >= .5:\n",
    "        preds.append(0)\n",
    "    else:\n",
    "        preds.append(1)"
   ]
  },
  {
   "cell_type": "code",
   "execution_count": 49,
   "id": "e45aa3d3",
   "metadata": {},
   "outputs": [],
   "source": [
    "c = 0\n",
    "def predict_multi(features_h, features_l):\n",
    "    c = 0\n",
    "    uh = []\n",
    "    ul = []\n",
    "    ph = gpc_high.predict_proba(features_h, uncertainty = uh)\n",
    "    pl = gpc_low.predict_proba(features_l, uncertainty = ul)\n",
    "    ul = np.array(ul[0])\n",
    "    uh = np.array(uh[0])\n",
    "    #ul /= ul.mean()\n",
    "    #uh /= uh.mean()\n",
    "    res = []\n",
    "    for i in range(len(ph)):\n",
    "        if uh[i] < ul[i]:\n",
    "            res.append(ph[i])\n",
    "        else:\n",
    "            c += 1\n",
    "            res.append(pl[i])\n",
    "    return res, ul, uh,c"
   ]
  },
  {
   "cell_type": "code",
   "execution_count": 50,
   "id": "c6bc460f",
   "metadata": {},
   "outputs": [],
   "source": [
    "pred_multi,ul,uh,c = predict_multi(test_features.detach().numpy(),test_features_low.detach().numpy())"
   ]
  },
  {
   "cell_type": "code",
   "execution_count": 51,
   "id": "c12c1944",
   "metadata": {},
   "outputs": [
    {
     "name": "stdout",
     "output_type": "stream",
     "text": [
      "0.519958176437 0.273798980653\n"
     ]
    }
   ],
   "source": [
    "print (ul.mean(), uh.mean())"
   ]
  },
  {
   "cell_type": "code",
   "execution_count": 154,
   "id": "17ab040a",
   "metadata": {
    "scrolled": true
   },
   "outputs": [
    {
     "data": {
      "text/plain": [
       "RBF(length_scale=4.84) + WhiteKernel(noise_level=8.18e-05)"
      ]
     },
     "execution_count": 154,
     "metadata": {},
     "output_type": "execute_result"
    }
   ],
   "source": [
    "gpc_low.kernel_"
   ]
  },
  {
   "cell_type": "code",
   "execution_count": 157,
   "id": "45081d87",
   "metadata": {},
   "outputs": [
    {
     "name": "stdout",
     "output_type": "stream",
     "text": [
      "(4683,) 0.505423555155 0.273798980653\n"
     ]
    }
   ],
   "source": [
    "ul = np.array(ul)\n",
    "uh = np.array(uh)\n",
    "print (ul.shape, ul.mean(), uh.mean())"
   ]
  },
  {
   "cell_type": "code",
   "execution_count": 162,
   "id": "9162a3fa",
   "metadata": {},
   "outputs": [
    {
     "data": {
      "text/plain": [
       "2520"
      ]
     },
     "execution_count": 162,
     "metadata": {},
     "output_type": "execute_result"
    }
   ],
   "source": [
    "c"
   ]
  },
  {
   "cell_type": "code",
   "execution_count": 72,
   "id": "8211e944",
   "metadata": {},
   "outputs": [
    {
     "data": {
      "text/plain": [
       "array([[ 0.49925432,  0.50074568],\n",
       "       [ 0.41321913,  0.58678087],\n",
       "       [ 0.46745588,  0.53254412],\n",
       "       ..., \n",
       "       [ 0.5377594 ,  0.4622406 ],\n",
       "       [ 0.45638348,  0.54361652],\n",
       "       [ 0.59356109,  0.40643891]])"
      ]
     },
     "execution_count": 72,
     "metadata": {},
     "output_type": "execute_result"
    }
   ],
   "source": [
    "ul_train = []\n",
    "gpc_low.predict_proba(test_features.detach().numpy(), uncertainty = ul_train)"
   ]
  },
  {
   "cell_type": "code",
   "execution_count": 73,
   "id": "2d55a317",
   "metadata": {},
   "outputs": [
    {
     "data": {
      "text/plain": [
       "1.4319304127654084"
      ]
     },
     "execution_count": 73,
     "metadata": {},
     "output_type": "execute_result"
    }
   ],
   "source": [
    "ul_train = np.array(ul_train)\n",
    "ul_train.min()"
   ]
  },
  {
   "cell_type": "code",
   "execution_count": 75,
   "id": "0654fb73",
   "metadata": {},
   "outputs": [
    {
     "data": {
      "text/plain": [
       "DotProduct(sigma_0=0.629) + WhiteKernel(noise_level=0.0356)"
      ]
     },
     "execution_count": 75,
     "metadata": {},
     "output_type": "execute_result"
    }
   ],
   "source": [
    "gpc_low.kernel_"
   ]
  },
  {
   "cell_type": "code",
   "execution_count": 94,
   "id": "c3f624b9",
   "metadata": {},
   "outputs": [],
   "source": [
    "prob_multi = pred_multi\n",
    "pred_multi = []\n",
    "for x in prob_multi:\n",
    "    if x[0] > .5:\n",
    "        pred_multi.append(0)\n",
    "    else:\n",
    "        pred_multi.append(1)"
   ]
  },
  {
   "cell_type": "code",
   "execution_count": 41,
   "id": "92a3e078",
   "metadata": {},
   "outputs": [
    {
     "data": {
      "text/plain": [
       "[1,\n",
       " 0,\n",
       " 0,\n",
       " 0,\n",
       " 0,\n",
       " 0,\n",
       " 0,\n",
       " 0,\n",
       " 0,\n",
       " 1,\n",
       " 1,\n",
       " 0,\n",
       " 1,\n",
       " 1,\n",
       " 0,\n",
       " 0,\n",
       " 0,\n",
       " 0,\n",
       " 0,\n",
       " 0,\n",
       " 0,\n",
       " 0,\n",
       " 0,\n",
       " 1,\n",
       " 1,\n",
       " 1,\n",
       " 0,\n",
       " 0,\n",
       " 0,\n",
       " 0,\n",
       " 1,\n",
       " 0,\n",
       " 0,\n",
       " 1,\n",
       " 0,\n",
       " 0,\n",
       " 0,\n",
       " 0,\n",
       " 1,\n",
       " 1,\n",
       " 0,\n",
       " 0,\n",
       " 0,\n",
       " 0,\n",
       " 0,\n",
       " 1,\n",
       " 1,\n",
       " 0,\n",
       " 0,\n",
       " 1,\n",
       " 0,\n",
       " 0,\n",
       " 0,\n",
       " 0,\n",
       " 1,\n",
       " 0,\n",
       " 0,\n",
       " 0,\n",
       " 0,\n",
       " 0,\n",
       " 0,\n",
       " 0,\n",
       " 0,\n",
       " 0,\n",
       " 0,\n",
       " 0,\n",
       " 0,\n",
       " 0,\n",
       " 0,\n",
       " 0,\n",
       " 0,\n",
       " 1,\n",
       " 0,\n",
       " 0,\n",
       " 0,\n",
       " 0,\n",
       " 0,\n",
       " 0,\n",
       " 0,\n",
       " 1,\n",
       " 0,\n",
       " 0,\n",
       " 0,\n",
       " 0,\n",
       " 0,\n",
       " 0,\n",
       " 0,\n",
       " 1,\n",
       " 0,\n",
       " 1,\n",
       " 0,\n",
       " 0,\n",
       " 0,\n",
       " 0,\n",
       " 1,\n",
       " 0,\n",
       " 0,\n",
       " 0,\n",
       " 0,\n",
       " 0,\n",
       " 0,\n",
       " 0,\n",
       " 0,\n",
       " 0,\n",
       " 0,\n",
       " 0,\n",
       " 0,\n",
       " 1,\n",
       " 1,\n",
       " 1,\n",
       " 1,\n",
       " 1,\n",
       " 1,\n",
       " 1,\n",
       " 1,\n",
       " 0,\n",
       " 1,\n",
       " 1,\n",
       " 0,\n",
       " 0,\n",
       " 0,\n",
       " 0,\n",
       " 0,\n",
       " 1,\n",
       " 1,\n",
       " 1,\n",
       " 1,\n",
       " 0,\n",
       " 0,\n",
       " 1,\n",
       " 1,\n",
       " 0,\n",
       " 0,\n",
       " 0,\n",
       " 1,\n",
       " 0,\n",
       " 1,\n",
       " 0,\n",
       " 1,\n",
       " 1,\n",
       " 0,\n",
       " 0,\n",
       " 0,\n",
       " 0,\n",
       " 0,\n",
       " 0,\n",
       " 0,\n",
       " 0,\n",
       " 0,\n",
       " 0,\n",
       " 0,\n",
       " 0,\n",
       " 0,\n",
       " 1,\n",
       " 1,\n",
       " 1,\n",
       " 1,\n",
       " 1,\n",
       " 0,\n",
       " 0,\n",
       " 0,\n",
       " 0,\n",
       " 0,\n",
       " 0,\n",
       " 0,\n",
       " 0,\n",
       " 0,\n",
       " 0,\n",
       " 0,\n",
       " 0,\n",
       " 0,\n",
       " 0,\n",
       " 0,\n",
       " 1,\n",
       " 1,\n",
       " 1,\n",
       " 0,\n",
       " 0,\n",
       " 0,\n",
       " 0,\n",
       " 1,\n",
       " 1,\n",
       " 0,\n",
       " 0,\n",
       " 0,\n",
       " 0,\n",
       " 1,\n",
       " 1,\n",
       " 0,\n",
       " 0,\n",
       " 1,\n",
       " 1,\n",
       " 0,\n",
       " 0,\n",
       " 0,\n",
       " 0,\n",
       " 0,\n",
       " 0,\n",
       " 0,\n",
       " 0,\n",
       " 0,\n",
       " 1,\n",
       " 0,\n",
       " 1,\n",
       " 0,\n",
       " 0,\n",
       " 0,\n",
       " 0,\n",
       " 0,\n",
       " 1,\n",
       " 1,\n",
       " 0,\n",
       " 0,\n",
       " 0,\n",
       " 0,\n",
       " 0,\n",
       " 1,\n",
       " 0,\n",
       " 0,\n",
       " 0,\n",
       " 0,\n",
       " 0,\n",
       " 0,\n",
       " 0,\n",
       " 0,\n",
       " 1,\n",
       " 1,\n",
       " 0,\n",
       " 0,\n",
       " 0,\n",
       " 0,\n",
       " 1,\n",
       " 1,\n",
       " 1,\n",
       " 0,\n",
       " 1,\n",
       " 0,\n",
       " 0,\n",
       " 0,\n",
       " 0,\n",
       " 0,\n",
       " 0,\n",
       " 0,\n",
       " 0,\n",
       " 0,\n",
       " 0,\n",
       " 0,\n",
       " 0,\n",
       " 0,\n",
       " 0,\n",
       " 1,\n",
       " 1,\n",
       " 0,\n",
       " 1,\n",
       " 0,\n",
       " 0,\n",
       " 0,\n",
       " 0,\n",
       " 0,\n",
       " 0,\n",
       " 0,\n",
       " 0,\n",
       " 0,\n",
       " 0,\n",
       " 0,\n",
       " 0,\n",
       " 1,\n",
       " 0,\n",
       " 0,\n",
       " 1,\n",
       " 1,\n",
       " 1,\n",
       " 0,\n",
       " 1,\n",
       " 0,\n",
       " 1,\n",
       " 0,\n",
       " 0,\n",
       " 1,\n",
       " 0,\n",
       " 0,\n",
       " 0,\n",
       " 0,\n",
       " 0,\n",
       " 0,\n",
       " 1,\n",
       " 0,\n",
       " 1,\n",
       " 1,\n",
       " 0,\n",
       " 0,\n",
       " 0,\n",
       " 0,\n",
       " 1,\n",
       " 1,\n",
       " 0,\n",
       " 1,\n",
       " 0,\n",
       " 1,\n",
       " 1,\n",
       " 0,\n",
       " 0,\n",
       " 0,\n",
       " 0,\n",
       " 1,\n",
       " 0,\n",
       " 0,\n",
       " 0,\n",
       " 0,\n",
       " 1,\n",
       " 0,\n",
       " 0,\n",
       " 1,\n",
       " 0,\n",
       " 1,\n",
       " 0,\n",
       " 0,\n",
       " 0,\n",
       " 0,\n",
       " 0,\n",
       " 1,\n",
       " 1,\n",
       " 1,\n",
       " 0,\n",
       " 0,\n",
       " 0,\n",
       " 0,\n",
       " 0,\n",
       " 0,\n",
       " 0,\n",
       " 0,\n",
       " 1,\n",
       " 1,\n",
       " 1,\n",
       " 1,\n",
       " 1,\n",
       " 0,\n",
       " 0,\n",
       " 0,\n",
       " 0,\n",
       " 1,\n",
       " 1,\n",
       " 0,\n",
       " 0,\n",
       " 0,\n",
       " 0,\n",
       " 0,\n",
       " 1,\n",
       " 1,\n",
       " 0,\n",
       " 1,\n",
       " 1,\n",
       " 0,\n",
       " 0,\n",
       " 0,\n",
       " 0,\n",
       " 0,\n",
       " 0,\n",
       " 0,\n",
       " 0,\n",
       " 0,\n",
       " 1,\n",
       " 1,\n",
       " 0,\n",
       " 0,\n",
       " 1,\n",
       " 1,\n",
       " 0,\n",
       " 0,\n",
       " 0,\n",
       " 0,\n",
       " 0,\n",
       " 0,\n",
       " 1,\n",
       " 0,\n",
       " 0,\n",
       " 0,\n",
       " 0,\n",
       " 0,\n",
       " 0,\n",
       " 0,\n",
       " 0,\n",
       " 0,\n",
       " 0,\n",
       " 0,\n",
       " 1,\n",
       " 1,\n",
       " 1,\n",
       " 0,\n",
       " 0,\n",
       " 0,\n",
       " 0,\n",
       " 0,\n",
       " 1,\n",
       " 0,\n",
       " 0,\n",
       " 1,\n",
       " 0,\n",
       " 0,\n",
       " 1,\n",
       " 0,\n",
       " 0,\n",
       " 1,\n",
       " 1,\n",
       " 0,\n",
       " 0,\n",
       " 0,\n",
       " 0,\n",
       " 0,\n",
       " 0,\n",
       " 0,\n",
       " 0,\n",
       " 0,\n",
       " 0,\n",
       " 0,\n",
       " 0,\n",
       " 0,\n",
       " 1,\n",
       " 0,\n",
       " 1,\n",
       " 0,\n",
       " 1,\n",
       " 0,\n",
       " 0,\n",
       " 0,\n",
       " 0,\n",
       " 0,\n",
       " 0,\n",
       " 0,\n",
       " 1,\n",
       " 1,\n",
       " 0,\n",
       " 1,\n",
       " 1,\n",
       " 0,\n",
       " 0,\n",
       " 0,\n",
       " 1,\n",
       " 0,\n",
       " 1,\n",
       " 0,\n",
       " 1,\n",
       " 1,\n",
       " 1,\n",
       " 1,\n",
       " 1,\n",
       " 1,\n",
       " 1,\n",
       " 1,\n",
       " 0,\n",
       " 0,\n",
       " 0,\n",
       " 0,\n",
       " 0,\n",
       " 0,\n",
       " 1,\n",
       " 0,\n",
       " 1,\n",
       " 1,\n",
       " 0,\n",
       " 1,\n",
       " 0,\n",
       " 0,\n",
       " 0,\n",
       " 0,\n",
       " 0,\n",
       " 0,\n",
       " 0,\n",
       " 0,\n",
       " 0,\n",
       " 0,\n",
       " 0,\n",
       " 1,\n",
       " 0,\n",
       " 1,\n",
       " 1,\n",
       " 1,\n",
       " 0,\n",
       " 0,\n",
       " 0,\n",
       " 1,\n",
       " 1,\n",
       " 1,\n",
       " 1,\n",
       " 0,\n",
       " 1,\n",
       " 0,\n",
       " 1,\n",
       " 0,\n",
       " 1,\n",
       " 0,\n",
       " 0,\n",
       " 0,\n",
       " 0,\n",
       " 0,\n",
       " 0,\n",
       " 0,\n",
       " 0,\n",
       " 0,\n",
       " 0,\n",
       " 0,\n",
       " 0,\n",
       " 0,\n",
       " 1,\n",
       " 0,\n",
       " 0,\n",
       " 0,\n",
       " 0,\n",
       " 0,\n",
       " 1,\n",
       " 0,\n",
       " 0,\n",
       " 0,\n",
       " 0,\n",
       " 0,\n",
       " 1,\n",
       " 1,\n",
       " 1,\n",
       " 0,\n",
       " 0,\n",
       " 0,\n",
       " 0,\n",
       " 0,\n",
       " 0,\n",
       " 0,\n",
       " 0,\n",
       " 0,\n",
       " 1,\n",
       " 1,\n",
       " 0,\n",
       " 0,\n",
       " 1,\n",
       " 1,\n",
       " 0,\n",
       " 0,\n",
       " 0,\n",
       " 1,\n",
       " 0,\n",
       " 0,\n",
       " 1,\n",
       " 1,\n",
       " 0,\n",
       " 0,\n",
       " 0,\n",
       " 0,\n",
       " 0,\n",
       " 0,\n",
       " 1,\n",
       " 0,\n",
       " 0,\n",
       " 0,\n",
       " 0,\n",
       " 0,\n",
       " 0,\n",
       " 0,\n",
       " 0,\n",
       " 1,\n",
       " 0,\n",
       " 0,\n",
       " 1,\n",
       " 0,\n",
       " 0,\n",
       " 0,\n",
       " 0,\n",
       " 0,\n",
       " 1,\n",
       " 1,\n",
       " 1,\n",
       " 0,\n",
       " 0,\n",
       " 0,\n",
       " 0,\n",
       " 0,\n",
       " 0,\n",
       " 0,\n",
       " 0,\n",
       " 0,\n",
       " 0,\n",
       " 1,\n",
       " 0,\n",
       " 0,\n",
       " 0,\n",
       " 0,\n",
       " 0,\n",
       " 0,\n",
       " 0,\n",
       " 0,\n",
       " 0,\n",
       " 1,\n",
       " 1,\n",
       " 0,\n",
       " 0,\n",
       " 0,\n",
       " 1,\n",
       " 0,\n",
       " 0,\n",
       " 0,\n",
       " 0,\n",
       " 0,\n",
       " 0,\n",
       " 0,\n",
       " 0,\n",
       " 0,\n",
       " 0,\n",
       " 0,\n",
       " 1,\n",
       " 1,\n",
       " 0,\n",
       " 0,\n",
       " 0,\n",
       " 0,\n",
       " 1,\n",
       " 0,\n",
       " 1,\n",
       " 0,\n",
       " 1,\n",
       " 0,\n",
       " 0,\n",
       " 1,\n",
       " 0,\n",
       " 1,\n",
       " 0,\n",
       " 0,\n",
       " 0,\n",
       " 0,\n",
       " 0,\n",
       " 0,\n",
       " 0,\n",
       " 0,\n",
       " 0,\n",
       " 1,\n",
       " 1,\n",
       " 0,\n",
       " 0,\n",
       " 0,\n",
       " 1,\n",
       " 0,\n",
       " 0,\n",
       " 0,\n",
       " 0,\n",
       " 1,\n",
       " 0,\n",
       " 1,\n",
       " 0,\n",
       " 1,\n",
       " 0,\n",
       " 0,\n",
       " 0,\n",
       " 0,\n",
       " 0,\n",
       " 1,\n",
       " 0,\n",
       " 1,\n",
       " 0,\n",
       " 0,\n",
       " 0,\n",
       " 0,\n",
       " 0,\n",
       " 1,\n",
       " 1,\n",
       " 0,\n",
       " 1,\n",
       " 1,\n",
       " 0,\n",
       " 1,\n",
       " 1,\n",
       " 0,\n",
       " 0,\n",
       " 0,\n",
       " 0,\n",
       " 0,\n",
       " 0,\n",
       " 0,\n",
       " 1,\n",
       " 1,\n",
       " 1,\n",
       " 1,\n",
       " 0,\n",
       " 0,\n",
       " 0,\n",
       " 0,\n",
       " 0,\n",
       " 0,\n",
       " 0,\n",
       " 0,\n",
       " 0,\n",
       " 0,\n",
       " 0,\n",
       " 0,\n",
       " 0,\n",
       " 0,\n",
       " 0,\n",
       " 1,\n",
       " 1,\n",
       " 1,\n",
       " 0,\n",
       " 1,\n",
       " 1,\n",
       " 0,\n",
       " 0,\n",
       " 0,\n",
       " 0,\n",
       " 1,\n",
       " 0,\n",
       " 0,\n",
       " 0,\n",
       " 0,\n",
       " 0,\n",
       " 0,\n",
       " 0,\n",
       " 0,\n",
       " 1,\n",
       " 0,\n",
       " 0,\n",
       " 0,\n",
       " 0,\n",
       " 0,\n",
       " 0,\n",
       " 0,\n",
       " 0,\n",
       " 0,\n",
       " 0,\n",
       " 1,\n",
       " 0,\n",
       " 1,\n",
       " 0,\n",
       " 1,\n",
       " 1,\n",
       " 0,\n",
       " 0,\n",
       " 0,\n",
       " 0,\n",
       " 0,\n",
       " 0,\n",
       " 0,\n",
       " 0,\n",
       " 0,\n",
       " 0,\n",
       " 1,\n",
       " 1,\n",
       " 0,\n",
       " 0,\n",
       " 0,\n",
       " 0,\n",
       " 1,\n",
       " 1,\n",
       " 0,\n",
       " 1,\n",
       " 0,\n",
       " 0,\n",
       " 0,\n",
       " 1,\n",
       " 0,\n",
       " 0,\n",
       " 0,\n",
       " 1,\n",
       " 0,\n",
       " 1,\n",
       " 1,\n",
       " 1,\n",
       " 1,\n",
       " 0,\n",
       " 0,\n",
       " 0,\n",
       " 1,\n",
       " 0,\n",
       " 0,\n",
       " 0,\n",
       " 1,\n",
       " 0,\n",
       " 0,\n",
       " 0,\n",
       " 1,\n",
       " 1,\n",
       " 0,\n",
       " 1,\n",
       " 1,\n",
       " 1,\n",
       " 0,\n",
       " 1,\n",
       " 1,\n",
       " 1,\n",
       " 0,\n",
       " 0,\n",
       " 1,\n",
       " 1,\n",
       " 1,\n",
       " 1,\n",
       " 0,\n",
       " 0,\n",
       " 0,\n",
       " 0,\n",
       " 0,\n",
       " 1,\n",
       " 0,\n",
       " 0,\n",
       " 0,\n",
       " 1,\n",
       " 1,\n",
       " 0,\n",
       " 0,\n",
       " 1,\n",
       " 1,\n",
       " 0,\n",
       " 1,\n",
       " 0,\n",
       " 0,\n",
       " 0,\n",
       " 0,\n",
       " 0,\n",
       " 0,\n",
       " 1,\n",
       " 0,\n",
       " 0,\n",
       " 0,\n",
       " 0,\n",
       " 0,\n",
       " 1,\n",
       " 1,\n",
       " 0,\n",
       " 0,\n",
       " 0,\n",
       " 0,\n",
       " 0,\n",
       " 0,\n",
       " 0,\n",
       " 0,\n",
       " 0,\n",
       " 0,\n",
       " 0,\n",
       " 0,\n",
       " 0,\n",
       " 0,\n",
       " 0,\n",
       " 0,\n",
       " 0,\n",
       " 0,\n",
       " 0,\n",
       " 0,\n",
       " 0,\n",
       " 0,\n",
       " 0,\n",
       " 0,\n",
       " 0,\n",
       " 0,\n",
       " 0,\n",
       " 0,\n",
       " 0,\n",
       " 0,\n",
       " 0,\n",
       " 0,\n",
       " 0,\n",
       " 1,\n",
       " 1,\n",
       " 0,\n",
       " 0,\n",
       " 0,\n",
       " 0,\n",
       " 0,\n",
       " 0,\n",
       " 0,\n",
       " 0,\n",
       " 0,\n",
       " 0,\n",
       " 0,\n",
       " 0,\n",
       " 0,\n",
       " 1,\n",
       " 0,\n",
       " 1,\n",
       " 0,\n",
       " 0,\n",
       " 0,\n",
       " 1,\n",
       " 0,\n",
       " 0,\n",
       " 0,\n",
       " 0,\n",
       " 0,\n",
       " 1,\n",
       " 0,\n",
       " 0,\n",
       " 0,\n",
       " 0,\n",
       " 1,\n",
       " 0,\n",
       " 0,\n",
       " 1,\n",
       " 0,\n",
       " 0,\n",
       " 0,\n",
       " 0,\n",
       " 1,\n",
       " 0,\n",
       " 0,\n",
       " 0,\n",
       " 0,\n",
       " 0,\n",
       " 0,\n",
       " 0,\n",
       " 0,\n",
       " 0,\n",
       " 0,\n",
       " 0,\n",
       " 1,\n",
       " 1,\n",
       " 0,\n",
       " 0,\n",
       " 0,\n",
       " 0,\n",
       " 0,\n",
       " 0,\n",
       " 1,\n",
       " 1,\n",
       " 1,\n",
       " 1,\n",
       " 0,\n",
       " 1,\n",
       " 0,\n",
       " 0,\n",
       " 0,\n",
       " 0,\n",
       " 0,\n",
       " 1,\n",
       " 0,\n",
       " 0,\n",
       " 0,\n",
       " 0,\n",
       " 0,\n",
       " 0,\n",
       " 0,\n",
       " 0,\n",
       " 0,\n",
       " 0,\n",
       " 1,\n",
       " 1,\n",
       " 1,\n",
       " 1,\n",
       " 1,\n",
       " 0,\n",
       " 0,\n",
       " 0,\n",
       " 0,\n",
       " 1,\n",
       " 0,\n",
       " 1,\n",
       " 0,\n",
       " 1,\n",
       " 0,\n",
       " 1,\n",
       " 0,\n",
       " 0,\n",
       " 1,\n",
       " 0,\n",
       " 0,\n",
       " 0,\n",
       " 0,\n",
       " 0,\n",
       " 0,\n",
       " 0,\n",
       " 1,\n",
       " 0,\n",
       " 0,\n",
       " 0,\n",
       " 0,\n",
       " 1,\n",
       " 0,\n",
       " 0,\n",
       " 1,\n",
       " 0,\n",
       " 0,\n",
       " 0,\n",
       " 1,\n",
       " 0,\n",
       " 0,\n",
       " 0,\n",
       " 0,\n",
       " 0,\n",
       " 0,\n",
       " 0,\n",
       " 0,\n",
       " 0,\n",
       " 0,\n",
       " 0,\n",
       " 0,\n",
       " 0,\n",
       " 0,\n",
       " 1,\n",
       " 1,\n",
       " 0,\n",
       " 1,\n",
       " 0,\n",
       " 0,\n",
       " 0,\n",
       " 0,\n",
       " 0,\n",
       " 0,\n",
       " 1,\n",
       " 1,\n",
       " 1,\n",
       " ...]"
      ]
     },
     "execution_count": 41,
     "metadata": {},
     "output_type": "execute_result"
    }
   ],
   "source": [
    "pred_multi"
   ]
  },
  {
   "cell_type": "code",
   "execution_count": 48,
   "id": "15e49f7b",
   "metadata": {},
   "outputs": [
    {
     "ename": "ValueError",
     "evalue": "The truth value of an array with more than one element is ambiguous. Use a.any() or a.all()",
     "output_type": "error",
     "traceback": [
      "\u001b[0;31m---------------------------------------------------------------------------\u001b[0m",
      "\u001b[0;31mValueError\u001b[0m                                Traceback (most recent call last)",
      "\u001b[0;32m<ipython-input-48-b2c7364d16a5>\u001b[0m in \u001b[0;36m<module>\u001b[0;34m\u001b[0m\n\u001b[1;32m      5\u001b[0m     \u001b[0;32melif\u001b[0m \u001b[0mx\u001b[0m\u001b[0;34m==\u001b[0m\u001b[0;36m1\u001b[0m \u001b[0;32mand\u001b[0m \u001b[0mpred_multi\u001b[0m\u001b[0;34m[\u001b[0m\u001b[0me\u001b[0m\u001b[0;34m]\u001b[0m\u001b[0;34m==\u001b[0m\u001b[0;36m0\u001b[0m\u001b[0;34m:\u001b[0m\u001b[0;34m\u001b[0m\u001b[0;34m\u001b[0m\u001b[0m\n\u001b[1;32m      6\u001b[0m         \u001b[0mfn\u001b[0m \u001b[0;34m+=\u001b[0m \u001b[0;36m1\u001b[0m\u001b[0;34m\u001b[0m\u001b[0;34m\u001b[0m\u001b[0m\n\u001b[0;32m----> 7\u001b[0;31m     \u001b[0;32melif\u001b[0m \u001b[0mx\u001b[0m\u001b[0;34m==\u001b[0m\u001b[0;36m0\u001b[0m \u001b[0;32mand\u001b[0m \u001b[0mpred_multi\u001b[0m\u001b[0;34m[\u001b[0m\u001b[0me\u001b[0m\u001b[0;34m]\u001b[0m\u001b[0;34m==\u001b[0m\u001b[0;36m1\u001b[0m\u001b[0;34m:\u001b[0m\u001b[0;34m\u001b[0m\u001b[0;34m\u001b[0m\u001b[0m\n\u001b[0m\u001b[1;32m      8\u001b[0m         \u001b[0mfp\u001b[0m \u001b[0;34m+=\u001b[0m\u001b[0;36m1\u001b[0m\u001b[0;34m\u001b[0m\u001b[0;34m\u001b[0m\u001b[0m\n\u001b[1;32m      9\u001b[0m     \u001b[0;32melif\u001b[0m \u001b[0mx\u001b[0m\u001b[0;34m==\u001b[0m\u001b[0;36m0\u001b[0m \u001b[0;32mand\u001b[0m \u001b[0mpred_multi\u001b[0m\u001b[0;34m[\u001b[0m\u001b[0me\u001b[0m\u001b[0;34m]\u001b[0m\u001b[0;34m==\u001b[0m\u001b[0;36m0\u001b[0m\u001b[0;34m:\u001b[0m\u001b[0;34m\u001b[0m\u001b[0;34m\u001b[0m\u001b[0m\n",
      "\u001b[0;31mValueError\u001b[0m: The truth value of an array with more than one element is ambiguous. Use a.any() or a.all()"
     ]
    }
   ],
   "source": [
    "fp, tp, fn, tn = 0,0,0,0\n",
    "for e,x in enumerate(test_y):\n",
    "    if x==1 and pred_multi[e]==1:\n",
    "        tp += 1\n",
    "    elif x==1 and pred_multi[e]==0:\n",
    "        fn += 1\n",
    "    elif x==0 and pred_multi[e]==1:\n",
    "        fp +=1\n",
    "    elif x==0 and pred_multi[e]==0:\n",
    "        tn +=1\n",
    "p = tp / (tp + fp)\n",
    "r = tp / (tp + fn)\n",
    "print(2 / (1/p + 1/r))"
   ]
  },
  {
   "cell_type": "code",
   "execution_count": 47,
   "id": "e55c4768",
   "metadata": {},
   "outputs": [
    {
     "data": {
      "text/plain": [
       "[array([ 0.33682608,  0.32045873,  0.26405045, ...,  0.25729349,\n",
       "         0.21182223,  0.25401706])]"
      ]
     },
     "execution_count": 47,
     "metadata": {},
     "output_type": "execute_result"
    }
   ],
   "source": [
    "uh"
   ]
  },
  {
   "cell_type": "code",
   "execution_count": 48,
   "id": "94bcd5c1",
   "metadata": {},
   "outputs": [
    {
     "data": {
      "text/plain": [
       "[array([ 1.00001,  1.00001,  1.00001, ...,  1.00001,  1.00001,  1.00001])]"
      ]
     },
     "execution_count": 48,
     "metadata": {},
     "output_type": "execute_result"
    }
   ],
   "source": [
    "ul"
   ]
  },
  {
   "cell_type": "code",
   "execution_count": 49,
   "id": "6839f959",
   "metadata": {},
   "outputs": [
    {
     "data": {
      "text/plain": [
       "array([[  9.59702492e-01,  -2.07846183e-02,  -1.17311694e-01, ...,\n",
       "         -2.46625650e-03,   1.67484596e-10,  -3.84214109e-05],\n",
       "       [ -8.29112902e-03,  -1.40086794e-02,  -1.56942697e-05, ...,\n",
       "         -1.21911453e-05,   6.36399448e-01,   2.56081312e-09],\n",
       "       [ -3.95614728e-02,   8.69552823e-05,  -2.61835448e-05, ...,\n",
       "         -3.06349443e-06,   7.43018985e-01,   1.17367854e-07],\n",
       "       ..., \n",
       "       [  9.63983417e-01,  -2.62822419e-01,  -2.57440988e-05, ...,\n",
       "         -7.91611171e-07,   3.50048794e-07,   2.46662626e-06],\n",
       "       [  9.75530505e-01,  -6.72372818e-01,  -3.59097077e-03, ...,\n",
       "         -3.20851768e-06,   1.78752000e-08,   1.22803950e-03],\n",
       "       [  5.81623614e-01,   4.32778895e-01,  -1.84212957e-04, ...,\n",
       "         -2.65563340e-08,   6.51431968e-04,   3.38046555e-03]], dtype=float32)"
      ]
     },
     "execution_count": 49,
     "metadata": {},
     "output_type": "execute_result"
    }
   ],
   "source": [
    "features_large.detach().numpy()[:2000]"
   ]
  },
  {
   "cell_type": "code",
   "execution_count": 51,
   "id": "1b44da3c",
   "metadata": {},
   "outputs": [
    {
     "data": {
      "text/plain": [
       "701"
      ]
     },
     "execution_count": 51,
     "metadata": {},
     "output_type": "execute_result"
    }
   ],
   "source": [
    "sum(low_train_y.reshape(7433,)[:2000])"
   ]
  },
  {
   "cell_type": "code",
   "execution_count": 52,
   "id": "76fd511d",
   "metadata": {},
   "outputs": [
    {
     "data": {
      "text/plain": [
       "array([[ -8.55939090e-01,   5.15784677e-08,   4.09696877e-05, ...,\n",
       "          5.54602444e-02,  -9.22462263e-04,   3.37288119e-02],\n",
       "       [  2.35044971e-01,  -5.28448284e-01,   9.33671072e-02, ...,\n",
       "         -6.68086708e-01,   2.75011361e-01,  -3.23511660e-03],\n",
       "       [ -9.99716043e-01,   5.55167929e-08,   2.33703286e-05, ...,\n",
       "          1.52055383e-01,  -1.11736618e-02,   3.03702801e-02],\n",
       "       ..., \n",
       "       [  3.35348338e-01,  -7.60109186e-01,   8.92941773e-01, ...,\n",
       "         -1.06721291e-06,  -7.43226707e-02,   2.81780269e-02],\n",
       "       [  6.74467683e-01,  -8.22979748e-01,   9.49120045e-01, ...,\n",
       "         -5.42428374e-01,  -5.02795279e-01,  -6.65749237e-02],\n",
       "       [  7.60913432e-01,  -7.61401474e-01,   3.95959496e-01, ...,\n",
       "         -6.79969673e-07,   6.77862298e-03,  -8.65873822e-04]], dtype=float32)"
      ]
     },
     "execution_count": 52,
     "metadata": {},
     "output_type": "execute_result"
    }
   ],
   "source": [
    "features_small.detach().numpy()"
   ]
  },
  {
   "cell_type": "code",
   "execution_count": 53,
   "id": "a7ff8de0",
   "metadata": {},
   "outputs": [
    {
     "data": {
      "text/plain": [
       "array([0, 1, 0, ..., 0, 1, 0], dtype=int64)"
      ]
     },
     "execution_count": 53,
     "metadata": {},
     "output_type": "execute_result"
    }
   ],
   "source": [
    "combined.reshape(1920,)"
   ]
  },
  {
   "cell_type": "code",
   "execution_count": 54,
   "id": "3c93fc7c",
   "metadata": {},
   "outputs": [
    {
     "data": {
      "text/plain": [
       "array([0, 1, 1, ..., 0, 0, 0])"
      ]
     },
     "execution_count": 54,
     "metadata": {},
     "output_type": "execute_result"
    }
   ],
   "source": [
    "low_train_y.reshape(7433,)[:2000]"
   ]
  },
  {
   "cell_type": "code",
   "execution_count": 55,
   "id": "b670fe23",
   "metadata": {},
   "outputs": [
    {
     "data": {
      "text/plain": [
       "0.93958333333333333"
      ]
     },
     "execution_count": 55,
     "metadata": {},
     "output_type": "execute_result"
    }
   ],
   "source": [
    "gpc_high.score(features_small.detach().numpy(),combined.reshape(1920,))"
   ]
  },
  {
   "cell_type": "code",
   "execution_count": 56,
   "id": "1b9cc2bd",
   "metadata": {},
   "outputs": [
    {
     "data": {
      "text/plain": [
       "0.83999999999999997"
      ]
     },
     "execution_count": 56,
     "metadata": {},
     "output_type": "execute_result"
    }
   ],
   "source": [
    "gpc_low.score(features_large.detach().numpy()[:2000], low_train_y.reshape(7433,)[:2000])"
   ]
  },
  {
   "cell_type": "code",
   "execution_count": 70,
   "id": "7f480ac6",
   "metadata": {},
   "outputs": [],
   "source": [
    "u = []"
   ]
  },
  {
   "cell_type": "code",
   "execution_count": 96,
   "id": "396a1d2d",
   "metadata": {},
   "outputs": [
    {
     "data": {
      "text/plain": [
       "array([[ 0.71464359,  0.28535641],\n",
       "       [ 0.49435244,  0.50564756],\n",
       "       [ 0.48459987,  0.51540013],\n",
       "       ..., \n",
       "       [ 0.77893781,  0.22106219],\n",
       "       [ 0.65645597,  0.34354403],\n",
       "       [ 0.78134485,  0.21865515]])"
      ]
     },
     "execution_count": 96,
     "metadata": {},
     "output_type": "execute_result"
    }
   ],
   "source": [
    "gpc_low.predict_proba(features_large.detach().numpy(), uncertainty = u)"
   ]
  },
  {
   "cell_type": "code",
   "execution_count": 99,
   "id": "b18ed099",
   "metadata": {},
   "outputs": [
    {
     "data": {
      "text/plain": [
       "7433"
      ]
     },
     "execution_count": 99,
     "metadata": {},
     "output_type": "execute_result"
    }
   ],
   "source": [
    "len(u[0])"
   ]
  },
  {
   "cell_type": "code",
   "execution_count": 146,
   "id": "b2bd0bd8",
   "metadata": {},
   "outputs": [],
   "source": [
    "a = []\n",
    "h = gpc_high.predict_proba(test_features.detach().numpy(), uncertainty = a)"
   ]
  },
  {
   "cell_type": "code",
   "execution_count": 152,
   "id": "a6a9a6dd",
   "metadata": {},
   "outputs": [
    {
     "data": {
      "text/plain": [
       "0.27379898065277769"
      ]
     },
     "execution_count": 152,
     "metadata": {},
     "output_type": "execute_result"
    }
   ],
   "source": [
    "a[0].mean()"
   ]
  },
  {
   "cell_type": "code",
   "execution_count": 78,
   "id": "f996d0af",
   "metadata": {},
   "outputs": [
    {
     "data": {
      "text/plain": [
       "RBF(length_scale=4.84) + WhiteKernel(noise_level=8.18e-05)"
      ]
     },
     "execution_count": 78,
     "metadata": {},
     "output_type": "execute_result"
    }
   ],
   "source": [
    "gpc_high.kernel_"
   ]
  },
  {
   "cell_type": "code",
   "execution_count": 106,
   "id": "f3275a32",
   "metadata": {},
   "outputs": [
    {
     "data": {
      "text/plain": [
       "RBF(length_scale=0.774) + RBF(length_scale=1.51) + WhiteKernel(noise_level=1e-05)"
      ]
     },
     "execution_count": 106,
     "metadata": {},
     "output_type": "execute_result"
    }
   ],
   "source": [
    "gpc_low.kernel_"
   ]
  },
  {
   "cell_type": "code",
   "execution_count": 127,
   "id": "eec1ac4d",
   "metadata": {},
   "outputs": [],
   "source": [
    "out = lstm_l.marginals(test)"
   ]
  },
  {
   "cell_type": "code",
   "execution_count": 168,
   "id": "29d3bc9c",
   "metadata": {},
   "outputs": [],
   "source": [
    "comb = []\n",
    "for e,p in enumerate(h):\n",
    "    if a[0][e] < .35:\n",
    "        comb.append(p[1])\n",
    "    else:\n",
    "        comb.append(out[e])"
   ]
  },
  {
   "cell_type": "code",
   "execution_count": 169,
   "id": "77a4191d",
   "metadata": {},
   "outputs": [],
   "source": [
    "c = np.array(comb)\n",
    "c[c < .5] = 0\n",
    "c[c!=0] = 1"
   ]
  },
  {
   "cell_type": "code",
   "execution_count": 170,
   "id": "e22c62f6",
   "metadata": {},
   "outputs": [
    {
     "name": "stdout",
     "output_type": "stream",
     "text": [
      "0.47920665387076133\n"
     ]
    }
   ],
   "source": [
    "fp, tp, fn, tn = 0,0,0,0\n",
    "for e,x in enumerate(test_y):\n",
    "    if x==1 and c[e]==1:\n",
    "        tp += 1\n",
    "    elif x==1 and c[e]==0:\n",
    "        fn += 1\n",
    "    elif x==0 and c[e]==1:\n",
    "        fp +=1\n",
    "    elif x==0 and c[e]==0:\n",
    "        tn +=1\n",
    "p = tp / (tp + fp)\n",
    "r = tp / (tp + fn)\n",
    "print(2 / (1/p + 1/r))"
   ]
  },
  {
   "cell_type": "code",
   "execution_count": 142,
   "id": "f60e3f20",
   "metadata": {},
   "outputs": [],
   "source": [
    "ph = []\n",
    "for i in h:\n",
    "    if i[0] > .5:\n",
    "        ph.append(0)\n",
    "    else:\n",
    "        ph.append(1)"
   ]
  },
  {
   "cell_type": "code",
   "execution_count": 144,
   "id": "9a77fd84",
   "metadata": {},
   "outputs": [
    {
     "data": {
      "text/plain": [
       "0"
      ]
     },
     "execution_count": 144,
     "metadata": {},
     "output_type": "execute_result"
    }
   ],
   "source": [
    "x[0]"
   ]
  },
  {
   "cell_type": "code",
   "execution_count": null,
   "id": "b40e2687",
   "metadata": {},
   "outputs": [],
   "source": [
    "# histogram of prediction accuracy by uncertainty, should really do this on the train set rather than test set"
   ]
  }
 ],
 "metadata": {
  "kernelspec": {
   "display_name": "Python 3 (ipykernel)",
   "language": "python",
   "name": "python3"
  },
  "language_info": {
   "codemirror_mode": {
    "name": "ipython",
    "version": 3
   },
   "file_extension": ".py",
   "mimetype": "text/x-python",
   "name": "python",
   "nbconvert_exporter": "python",
   "pygments_lexer": "ipython3",
   "version": "3.6.13"
  }
 },
 "nbformat": 4,
 "nbformat_minor": 5
}
