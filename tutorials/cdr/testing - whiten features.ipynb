{
 "cells": [
  {
   "cell_type": "code",
   "execution_count": 1,
   "id": "acf5e20b",
   "metadata": {},
   "outputs": [],
   "source": [
    "%load_ext autoreload\n",
    "%autoreload 2\n",
    "%matplotlib inline\n",
    "\n",
    "import numpy as np\n",
    "import matplotlib.pyplot as plt\n",
    "from sklearn.gaussian_process import GaussianProcessClassifier\n",
    "from sklearn.gaussian_process.kernels import RBF,WhiteKernel,DotProduct\n",
    "import pandas as pd\n",
    "import torch\n",
    "\n"
   ]
  },
  {
   "cell_type": "code",
   "execution_count": 2,
   "id": "05855f8b",
   "metadata": {},
   "outputs": [],
   "source": [
    "from snorkel import SnorkelSession\n",
    "from snorkel.models import candidate_subclass\n",
    "from snorkel.annotations import load_gold_labels\n",
    "from snorkel.learning.pytorch import LSTM\n",
    "from snorkel.annotations import load_marginals\n",
    "\n",
    "from scipy import vstack\n",
    "session = SnorkelSession()"
   ]
  },
  {
   "cell_type": "code",
   "execution_count": 3,
   "id": "d71d0b60",
   "metadata": {},
   "outputs": [
    {
     "name": "stdout",
     "output_type": "stream",
     "text": [
      "Training set:\t8433 candidates\n",
      "Dev set:\t920 candidates\n",
      "Test set:\t4683 candidates\n"
     ]
    }
   ],
   "source": [
    "ChemicalDisease = candidate_subclass('ChemicalDisease', ['chemical', 'disease'])\n",
    "\n",
    "train = session.query(ChemicalDisease).filter(ChemicalDisease.split == 0).all()\n",
    "dev = session.query(ChemicalDisease).filter(ChemicalDisease.split == 1).all()\n",
    "test = session.query(ChemicalDisease).filter(ChemicalDisease.split == 2).all()\n",
    "\n",
    "print('Training set:\\t{0} candidates'.format(len(train)))\n",
    "print('Dev set:\\t{0} candidates'.format(len(dev)))\n",
    "print('Test set:\\t{0} candidates'.format(len(test)))"
   ]
  },
  {
   "cell_type": "code",
   "execution_count": 4,
   "id": "e9942887",
   "metadata": {},
   "outputs": [],
   "source": [
    "train_marginals = load_marginals(session, split=0)"
   ]
  },
  {
   "cell_type": "code",
   "execution_count": 5,
   "id": "610642d7",
   "metadata": {},
   "outputs": [
    {
     "name": "stdout",
     "output_type": "stream",
     "text": [
      "AnnotatorLabels created: 0\n"
     ]
    }
   ],
   "source": [
    "from load_external_annotations import load_external_labels\n",
    "load_external_labels(session, ChemicalDisease, split=2, annotator='gold')\n",
    "L_gold_test = load_gold_labels(session, annotator_name='gold', split=2)\n",
    "L_gold_dev = load_gold_labels(session,annotator_name='gold',split=1)"
   ]
  },
  {
   "cell_type": "code",
   "execution_count": 6,
   "id": "4b8d5afa",
   "metadata": {},
   "outputs": [
    {
     "data": {
      "text/plain": [
       "(920, 1)"
      ]
     },
     "execution_count": 6,
     "metadata": {},
     "output_type": "execute_result"
    }
   ],
   "source": [
    "L_gold_dev.shape"
   ]
  },
  {
   "cell_type": "code",
   "execution_count": 7,
   "id": "27b6a039",
   "metadata": {},
   "outputs": [],
   "source": [
    "dev_labels = L_gold_dev.toarray().reshape(920,)\n",
    "dev_labels[dev_labels == -1] = 0"
   ]
  },
  {
   "cell_type": "code",
   "execution_count": 8,
   "id": "db040ab8",
   "metadata": {},
   "outputs": [],
   "source": [
    "full_train_set = train.copy()\n",
    "full_train_set.extend(dev)\n",
    "full_train_labels = list(train_marginals).copy()\n",
    "full_train_labels.extend(dev_labels)\n",
    "full_train_labels = np.array(full_train_labels)\n"
   ]
  },
  {
   "cell_type": "code",
   "execution_count": 9,
   "id": "5c3772d4",
   "metadata": {},
   "outputs": [
    {
     "name": "stdout",
     "output_type": "stream",
     "text": [
      "[LSTM] Loaded model <trained_on_all>\n"
     ]
    }
   ],
   "source": [
    "lstm = LSTM(n_threads=None)\n",
    "\n",
    "lstm.load('trained_on_all')"
   ]
  },
  {
   "cell_type": "code",
   "execution_count": 10,
   "id": "88d822ea",
   "metadata": {},
   "outputs": [
    {
     "name": "stderr",
     "output_type": "stream",
     "text": [
      "/home/cperreault/anaconda3/envs/snorkel-extraction/lib/python3.6/site-packages/torch/nn/functional.py:1386: UserWarning: nn.functional.sigmoid is deprecated. Use torch.sigmoid instead.\n",
      "  warnings.warn(\"nn.functional.sigmoid is deprecated. Use torch.sigmoid instead.\")\n"
     ]
    },
    {
     "data": {
      "text/plain": [
       "(0.40493910690121787, 0.79062087186261554, 0.53557046979865774)"
      ]
     },
     "execution_count": 10,
     "metadata": {},
     "output_type": "execute_result"
    }
   ],
   "source": [
    "lstm.score(test, L_gold_test)"
   ]
  },
  {
   "cell_type": "code",
   "execution_count": 11,
   "id": "9234882c",
   "metadata": {},
   "outputs": [],
   "source": [
    "# am I reshaping correctly?\n",
    "dev_features = lstm.feature_outputs(dev, 100).detach().numpy().reshape(920,10)\n",
    "train_features = lstm.feature_outputs(train, 100).detach().numpy().reshape(8433,10)"
   ]
  },
  {
   "cell_type": "code",
   "execution_count": 12,
   "id": "4e32067d",
   "metadata": {},
   "outputs": [],
   "source": [
    "dev_centered = dev_features - np.mean(dev_features, axis=0)\n",
    "train_centered = train_features - np.mean(train_features, axis = 0)"
   ]
  },
  {
   "cell_type": "code",
   "execution_count": 13,
   "id": "0fe22b6a",
   "metadata": {},
   "outputs": [],
   "source": [
    "dev_cov = np.cov(dev_features.T)\n",
    "train_cov = np.cov(train_features.T)"
   ]
  },
  {
   "cell_type": "code",
   "execution_count": 14,
   "id": "348745cb",
   "metadata": {},
   "outputs": [
    {
     "data": {
      "text/plain": [
       "(10, 10)"
      ]
     },
     "execution_count": 14,
     "metadata": {},
     "output_type": "execute_result"
    }
   ],
   "source": [
    "dev_cov.shape"
   ]
  },
  {
   "cell_type": "code",
   "execution_count": 15,
   "id": "001e8f12",
   "metadata": {},
   "outputs": [],
   "source": [
    "dev_w, dev_v = np.linalg.eig(dev_cov)\n",
    "train_w, train_v = np.linalg.eig(train_cov)"
   ]
  },
  {
   "cell_type": "code",
   "execution_count": 16,
   "id": "5dd533b9",
   "metadata": {},
   "outputs": [],
   "source": [
    "dev_diagw = np.diag(1/(dev_w**.5))\n",
    "dev_diagw = dev_diagw.real.round(4)\n",
    "train_diagw = np.diag(1/(train_w**.5))\n",
    "train_diagw = train_diagw.real.round(4)"
   ]
  },
  {
   "cell_type": "code",
   "execution_count": 17,
   "id": "77025e5e",
   "metadata": {},
   "outputs": [],
   "source": [
    "dev_white = np.dot(np.dot(dev_diagw, dev_v.T), dev_centered.T).T\n",
    "train_white = np.dot(np.dot(train_diagw, train_v.T), train_centered.T).T"
   ]
  },
  {
   "cell_type": "code",
   "execution_count": 156,
   "id": "e7fccca2",
   "metadata": {},
   "outputs": [],
   "source": [
    "kernel_dev = RBF(1) + WhiteKernel(1)\n",
    "kernel_train = RBF(1) + WhiteKernel(1)\n",
    "gpc_dev = GaussianProcessClassifier(kernel = kernel_dev)\n",
    "gpc_train = GaussianProcessClassifier(kernel = kernel_train)"
   ]
  },
  {
   "cell_type": "code",
   "execution_count": 40,
   "id": "48f0d044",
   "metadata": {},
   "outputs": [],
   "source": [
    "dev_norm = dev_centered / np.max(dev_centered, axis=0)\n",
    "train_norm = train_centered / np.max(train_centered, axis =0)"
   ]
  },
  {
   "cell_type": "code",
   "execution_count": 155,
   "id": "c93c155e",
   "metadata": {},
   "outputs": [
    {
     "data": {
      "text/plain": [
       "<matplotlib.collections.PathCollection at 0x7f6ffc9109e8>"
      ]
     },
     "execution_count": 155,
     "metadata": {},
     "output_type": "execute_result"
    },
    {
     "data": {
      "image/png": "[encoded data removed]",
      "text/plain": [
       "<Figure size 432x288 with 1 Axes>"
      ]
     },
     "metadata": {
      "needs_background": "light"
     },
     "output_type": "display_data"
    }
   ],
   "source": [
    "plt.scatter(dev_norm[:,1],dev_norm[:,2])"
   ]
  },
  {
   "cell_type": "code",
   "execution_count": 38,
   "id": "f32e981a",
   "metadata": {},
   "outputs": [
    {
     "data": {
      "text/plain": [
       "(10,)"
      ]
     },
     "execution_count": 38,
     "metadata": {},
     "output_type": "execute_result"
    }
   ],
   "source": [
    "np.max(dev_centered, axis = 0).shape"
   ]
  },
  {
   "cell_type": "code",
   "execution_count": 23,
   "id": "3a13f23d",
   "metadata": {},
   "outputs": [],
   "source": [
    "train_labels = train_marginals.copy()\n",
    "train_labels[train_labels > .5] = 1\n",
    "train_labels[train_labels <= .5] = 0"
   ]
  },
  {
   "cell_type": "code",
   "execution_count": 157,
   "id": "6ef1d0d6",
   "metadata": {},
   "outputs": [
    {
     "data": {
      "text/plain": [
       "GaussianProcessClassifier(copy_X_train=True,\n",
       "                          kernel=RBF(length_scale=1) + WhiteKernel(noise_level=1),\n",
       "                          max_iter_predict=100, multi_class='one_vs_rest',\n",
       "                          n_jobs=None, n_restarts_optimizer=0,\n",
       "                          optimizer='fmin_l_bfgs_b', random_state=None,\n",
       "                          warm_start=False)"
      ]
     },
     "execution_count": 157,
     "metadata": {},
     "output_type": "execute_result"
    }
   ],
   "source": [
    "gpc_dev.fit(dev_norm, dev_labels.reshape(920,))"
   ]
  },
  {
   "cell_type": "code",
   "execution_count": 158,
   "id": "5d22d6ff",
   "metadata": {},
   "outputs": [
    {
     "data": {
      "text/plain": [
       "RBF(length_scale=1.15) + WhiteKernel(noise_level=1e-05)"
      ]
     },
     "execution_count": 158,
     "metadata": {},
     "output_type": "execute_result"
    }
   ],
   "source": [
    "gpc_dev.kernel_"
   ]
  },
  {
   "cell_type": "code",
   "execution_count": 41,
   "id": "9165ae1a",
   "metadata": {},
   "outputs": [
    {
     "data": {
      "text/plain": [
       "GaussianProcessClassifier(copy_X_train=True,\n",
       "                          kernel=RBF(length_scale=1) + WhiteKernel(noise_level=1),\n",
       "                          max_iter_predict=100, multi_class='one_vs_rest',\n",
       "                          n_jobs=None, n_restarts_optimizer=0,\n",
       "                          optimizer='fmin_l_bfgs_b', random_state=None,\n",
       "                          warm_start=False)"
      ]
     },
     "execution_count": 41,
     "metadata": {},
     "output_type": "execute_result"
    }
   ],
   "source": [
    "gpc_train.fit(train_norm, train_labels.reshape(8433,))"
   ]
  },
  {
   "cell_type": "code",
   "execution_count": 159,
   "id": "9d14a61c",
   "metadata": {},
   "outputs": [
    {
     "ename": "AttributeError",
     "evalue": "'GaussianProcessClassifier' object has no attribute 'n_classes_'",
     "output_type": "error",
     "traceback": [
      "\u001b[0;31m---------------------------------------------------------------------------\u001b[0m",
      "\u001b[0;31mAttributeError\u001b[0m                            Traceback (most recent call last)",
      "\u001b[0;32m<ipython-input-159-b6b6bf7a90d4>\u001b[0m in \u001b[0;36m<module>\u001b[0;34m\u001b[0m\n\u001b[0;32m----> 1\u001b[0;31m \u001b[0mgpc_train\u001b[0m\u001b[0;34m.\u001b[0m\u001b[0mkernel_\u001b[0m\u001b[0;34m\u001b[0m\u001b[0;34m\u001b[0m\u001b[0m\n\u001b[0m",
      "\u001b[0;32m~/anaconda3/envs/snorkel-extraction/lib/python3.6/site-packages/sklearn/gaussian_process/gpc.py\u001b[0m in \u001b[0;36mkernel_\u001b[0;34m(self)\u001b[0m\n\u001b[1;32m    684\u001b[0m     \u001b[0;34m@\u001b[0m\u001b[0mproperty\u001b[0m\u001b[0;34m\u001b[0m\u001b[0;34m\u001b[0m\u001b[0m\n\u001b[1;32m    685\u001b[0m     \u001b[0;32mdef\u001b[0m \u001b[0mkernel_\u001b[0m\u001b[0;34m(\u001b[0m\u001b[0mself\u001b[0m\u001b[0;34m)\u001b[0m\u001b[0;34m:\u001b[0m\u001b[0;34m\u001b[0m\u001b[0;34m\u001b[0m\u001b[0m\n\u001b[0;32m--> 686\u001b[0;31m         \u001b[0;32mif\u001b[0m \u001b[0mself\u001b[0m\u001b[0;34m.\u001b[0m\u001b[0mn_classes_\u001b[0m \u001b[0;34m==\u001b[0m \u001b[0;36m2\u001b[0m\u001b[0;34m:\u001b[0m\u001b[0;34m\u001b[0m\u001b[0;34m\u001b[0m\u001b[0m\n\u001b[0m\u001b[1;32m    687\u001b[0m             \u001b[0;32mreturn\u001b[0m \u001b[0mself\u001b[0m\u001b[0;34m.\u001b[0m\u001b[0mbase_estimator_\u001b[0m\u001b[0;34m.\u001b[0m\u001b[0mkernel_\u001b[0m\u001b[0;34m\u001b[0m\u001b[0;34m\u001b[0m\u001b[0m\n\u001b[1;32m    688\u001b[0m         \u001b[0;32melse\u001b[0m\u001b[0;34m:\u001b[0m\u001b[0;34m\u001b[0m\u001b[0;34m\u001b[0m\u001b[0m\n",
      "\u001b[0;31mAttributeError\u001b[0m: 'GaussianProcessClassifier' object has no attribute 'n_classes_'"
     ]
    }
   ],
   "source": [
    "gpc_train.kernel_"
   ]
  },
  {
   "cell_type": "code",
   "execution_count": 43,
   "id": "b53cfd33",
   "metadata": {},
   "outputs": [],
   "source": [
    "test_features = lstm.feature_outputs(test,100)"
   ]
  },
  {
   "cell_type": "code",
   "execution_count": 44,
   "id": "3ff32497",
   "metadata": {},
   "outputs": [
    {
     "data": {
      "text/plain": [
       "RBF(length_scale=1.29) + WhiteKernel(noise_level=1e-05)"
      ]
     },
     "execution_count": 44,
     "metadata": {},
     "output_type": "execute_result"
    }
   ],
   "source": [
    "gpc_train.kernel_"
   ]
  },
  {
   "cell_type": "code",
   "execution_count": 160,
   "id": "201c9cdc",
   "metadata": {},
   "outputs": [],
   "source": [
    "ud = []\n",
    "ut = []\n",
    "preds_d = gpc_dev.predict_proba(test_features.detach().numpy().reshape(4683,10), uncertainty = ud)\n",
    "#preds_t = gpc_train.predict_proba(test_features.detach().numpy().reshape(4683,10), uncertainty = ut)"
   ]
  },
  {
   "cell_type": "code",
   "execution_count": 161,
   "id": "15b96c06",
   "metadata": {},
   "outputs": [],
   "source": [
    "ud = ud[0]\n",
    "#ut = ut[0]"
   ]
  },
  {
   "cell_type": "code",
   "execution_count": 145,
   "id": "17053894",
   "metadata": {},
   "outputs": [
    {
     "data": {
      "text/plain": [
       "array([0, 1], dtype=int64)"
      ]
     },
     "execution_count": 145,
     "metadata": {},
     "output_type": "execute_result"
    }
   ],
   "source": [
    "gpc_dev.classes_"
   ]
  },
  {
   "cell_type": "code",
   "execution_count": 165,
   "id": "95d5bf50",
   "metadata": {},
   "outputs": [
    {
     "data": {
      "text/plain": [
       "1.0000100000000001"
      ]
     },
     "execution_count": 165,
     "metadata": {},
     "output_type": "execute_result"
    }
   ],
   "source": [
    "ud"
   ]
  },
  {
   "cell_type": "code",
   "execution_count": 162,
   "id": "d30dad3a",
   "metadata": {},
   "outputs": [
    {
     "data": {
      "text/plain": [
       "array([[ 0.49999954,  0.50000046],\n",
       "       [ 0.49825962,  0.50174038],\n",
       "       [ 0.59181157,  0.40818843],\n",
       "       ..., \n",
       "       [ 0.49734277,  0.50265723],\n",
       "       [ 0.44500853,  0.55499147],\n",
       "       [ 0.45615477,  0.54384523]])"
      ]
     },
     "execution_count": 162,
     "metadata": {},
     "output_type": "execute_result"
    }
   ],
   "source": [
    "preds_d"
   ]
  },
  {
   "cell_type": "code",
   "execution_count": 147,
   "id": "69a50fa5",
   "metadata": {},
   "outputs": [
    {
     "name": "stderr",
     "output_type": "stream",
     "text": [
      "/home/cperreault/anaconda3/envs/snorkel-extraction/lib/python3.6/site-packages/torch/nn/functional.py:1386: UserWarning: nn.functional.sigmoid is deprecated. Use torch.sigmoid instead.\n",
      "  warnings.warn(\"nn.functional.sigmoid is deprecated. Use torch.sigmoid instead.\")\n"
     ]
    },
    {
     "data": {
      "text/plain": [
       "array([ 0.72838098,  0.67866069,  0.46372822, ...,  0.6755054 ,\n",
       "        0.63941175,  0.63752621], dtype=float32)"
      ]
     },
     "execution_count": 147,
     "metadata": {},
     "output_type": "execute_result"
    }
   ],
   "source": [
    "lstm.marginals(test)"
   ]
  },
  {
   "cell_type": "code",
   "execution_count": 148,
   "id": "b34891ed",
   "metadata": {},
   "outputs": [
    {
     "data": {
      "text/plain": [
       "array([0, 1, 0, ..., 0, 0, 0], dtype=int64)"
      ]
     },
     "execution_count": 148,
     "metadata": {},
     "output_type": "execute_result"
    }
   ],
   "source": [
    "test_y"
   ]
  },
  {
   "cell_type": "code",
   "execution_count": 166,
   "id": "23a340fa",
   "metadata": {},
   "outputs": [],
   "source": [
    "# what is the order of the probabilties? I think I was probably doingit backwards actually. \n",
    "pd, pt = [],[]\n",
    "for x in preds_d:\n",
    "    if x[0] > .5:\n",
    "        pd.append(0)\n",
    "    else:\n",
    "        pd.append(1)\n",
    "for x in preds_t:\n",
    "    if x[0] > .5:\n",
    "        pt.append(0)\n",
    "    else:\n",
    "        pt.append(1) "
   ]
  },
  {
   "cell_type": "code",
   "execution_count": 167,
   "id": "d757f812",
   "metadata": {},
   "outputs": [],
   "source": [
    "ud = np.array(ud)\n",
    "ut = np.array(ut)"
   ]
  },
  {
   "cell_type": "code",
   "execution_count": 151,
   "id": "2ec9b8f7",
   "metadata": {},
   "outputs": [
    {
     "data": {
      "text/plain": [
       "0.24177084421181586"
      ]
     },
     "execution_count": 151,
     "metadata": {},
     "output_type": "execute_result"
    }
   ],
   "source": [
    "ud.mean()"
   ]
  },
  {
   "cell_type": "code",
   "execution_count": 152,
   "id": "2c647222",
   "metadata": {},
   "outputs": [
    {
     "data": {
      "text/plain": [
       "0.94028378290305437"
      ]
     },
     "execution_count": 152,
     "metadata": {},
     "output_type": "execute_result"
    }
   ],
   "source": [
    "ud.max()"
   ]
  },
  {
   "cell_type": "code",
   "execution_count": 140,
   "id": "3de6edfd",
   "metadata": {},
   "outputs": [
    {
     "name": "stderr",
     "output_type": "stream",
     "text": [
      "/home/cperreault/anaconda3/envs/snorkel-extraction/lib/python3.6/site-packages/ipykernel_launcher.py:1: RuntimeWarning: Mean of empty slice.\n",
      "  \"\"\"Entry point for launching an IPython kernel.\n",
      "/home/cperreault/anaconda3/envs/snorkel-extraction/lib/python3.6/site-packages/numpy/core/_methods.py:80: RuntimeWarning: invalid value encountered in double_scalars\n",
      "  ret = ret.dtype.type(ret / rcount)\n"
     ]
    },
    {
     "data": {
      "text/plain": [
       "nan"
      ]
     },
     "execution_count": 140,
     "metadata": {},
     "output_type": "execute_result"
    }
   ],
   "source": [
    "ut.mean()"
   ]
  },
  {
   "cell_type": "code",
   "execution_count": 141,
   "id": "94f5e627",
   "metadata": {},
   "outputs": [
    {
     "ename": "ValueError",
     "evalue": "zero-size array to reduction operation maximum which has no identity",
     "output_type": "error",
     "traceback": [
      "\u001b[0;31m---------------------------------------------------------------------------\u001b[0m",
      "\u001b[0;31mValueError\u001b[0m                                Traceback (most recent call last)",
      "\u001b[0;32m<ipython-input-141-a3728e1bf5f2>\u001b[0m in \u001b[0;36m<module>\u001b[0;34m\u001b[0m\n\u001b[0;32m----> 1\u001b[0;31m \u001b[0mut\u001b[0m\u001b[0;34m.\u001b[0m\u001b[0mmax\u001b[0m\u001b[0;34m(\u001b[0m\u001b[0;34m)\u001b[0m\u001b[0;34m\u001b[0m\u001b[0;34m\u001b[0m\u001b[0m\n\u001b[0m",
      "\u001b[0;32m~/anaconda3/envs/snorkel-extraction/lib/python3.6/site-packages/numpy/core/_methods.py\u001b[0m in \u001b[0;36m_amax\u001b[0;34m(a, axis, out, keepdims)\u001b[0m\n\u001b[1;32m     24\u001b[0m \u001b[0;31m# small reductions\u001b[0m\u001b[0;34m\u001b[0m\u001b[0;34m\u001b[0m\u001b[0;34m\u001b[0m\u001b[0m\n\u001b[1;32m     25\u001b[0m \u001b[0;32mdef\u001b[0m \u001b[0m_amax\u001b[0m\u001b[0;34m(\u001b[0m\u001b[0ma\u001b[0m\u001b[0;34m,\u001b[0m \u001b[0maxis\u001b[0m\u001b[0;34m=\u001b[0m\u001b[0;32mNone\u001b[0m\u001b[0;34m,\u001b[0m \u001b[0mout\u001b[0m\u001b[0;34m=\u001b[0m\u001b[0;32mNone\u001b[0m\u001b[0;34m,\u001b[0m \u001b[0mkeepdims\u001b[0m\u001b[0;34m=\u001b[0m\u001b[0;32mFalse\u001b[0m\u001b[0;34m)\u001b[0m\u001b[0;34m:\u001b[0m\u001b[0;34m\u001b[0m\u001b[0;34m\u001b[0m\u001b[0m\n\u001b[0;32m---> 26\u001b[0;31m     \u001b[0;32mreturn\u001b[0m \u001b[0mumr_maximum\u001b[0m\u001b[0;34m(\u001b[0m\u001b[0ma\u001b[0m\u001b[0;34m,\u001b[0m \u001b[0maxis\u001b[0m\u001b[0;34m,\u001b[0m \u001b[0;32mNone\u001b[0m\u001b[0;34m,\u001b[0m \u001b[0mout\u001b[0m\u001b[0;34m,\u001b[0m \u001b[0mkeepdims\u001b[0m\u001b[0;34m)\u001b[0m\u001b[0;34m\u001b[0m\u001b[0;34m\u001b[0m\u001b[0m\n\u001b[0m\u001b[1;32m     27\u001b[0m \u001b[0;34m\u001b[0m\u001b[0m\n\u001b[1;32m     28\u001b[0m \u001b[0;32mdef\u001b[0m \u001b[0m_amin\u001b[0m\u001b[0;34m(\u001b[0m\u001b[0ma\u001b[0m\u001b[0;34m,\u001b[0m \u001b[0maxis\u001b[0m\u001b[0;34m=\u001b[0m\u001b[0;32mNone\u001b[0m\u001b[0;34m,\u001b[0m \u001b[0mout\u001b[0m\u001b[0;34m=\u001b[0m\u001b[0;32mNone\u001b[0m\u001b[0;34m,\u001b[0m \u001b[0mkeepdims\u001b[0m\u001b[0;34m=\u001b[0m\u001b[0;32mFalse\u001b[0m\u001b[0;34m)\u001b[0m\u001b[0;34m:\u001b[0m\u001b[0;34m\u001b[0m\u001b[0;34m\u001b[0m\u001b[0m\n",
      "\u001b[0;31mValueError\u001b[0m: zero-size array to reduction operation maximum which has no identity"
     ]
    }
   ],
   "source": [
    "ut.max()"
   ]
  },
  {
   "cell_type": "code",
   "execution_count": 115,
   "id": "19ebc33b",
   "metadata": {},
   "outputs": [],
   "source": [
    "test_y = L_gold_test.toarray().reshape(4683,)\n",
    "test_y[test_y == -1] = 0"
   ]
  },
  {
   "cell_type": "code",
   "execution_count": 116,
   "id": "23eb0a7c",
   "metadata": {},
   "outputs": [],
   "source": [
    "buckets = np.linspace(0,1,15)"
   ]
  },
  {
   "cell_type": "code",
   "execution_count": 170,
   "id": "5477b44c",
   "metadata": {},
   "outputs": [
    {
     "data": {
      "text/plain": [
       "1514"
      ]
     },
     "execution_count": 170,
     "metadata": {},
     "output_type": "execute_result"
    }
   ],
   "source": [
    "sum(1 for x in test_y if x == 1)"
   ]
  },
  {
   "cell_type": "code",
   "execution_count": 172,
   "id": "686e0476",
   "metadata": {},
   "outputs": [],
   "source": [
    "pre = gpc_dev.predict(test_features.detach().numpy().reshape(4683,10))"
   ]
  },
  {
   "cell_type": "code",
   "execution_count": 178,
   "id": "01f0a6e7",
   "metadata": {},
   "outputs": [],
   "source": [
    "acc = []\n",
    "for i in range(14):\n",
    "    cor, inc = 0,0\n",
    "    count  =0\n",
    "    for j,p in enumerate(test_y):\n",
    "        if ud[j] >= buckets[i] and ud[j] < buckets[i+1]:\n",
    "            count += 1\n",
    "            if p == pre[j]:\n",
    "                cor += 1\n",
    "    if count > 0:\n",
    "        acc.append(cor/count)\n",
    "    else:\n",
    "        acc.append(0)\n",
    "                "
   ]
  },
  {
   "cell_type": "code",
   "execution_count": 180,
   "id": "ef98452d",
   "metadata": {},
   "outputs": [
    {
     "data": {
      "text/plain": [
       "<BarContainer object of 14 artists>"
      ]
     },
     "execution_count": 180,
     "metadata": {},
     "output_type": "execute_result"
    },
    {
     "data": {
      "image/png": "[encoded data removed]",
      "text/plain": [
       "<Figure size 432x288 with 1 Axes>"
      ]
     },
     "metadata": {
      "needs_background": "light"
     },
     "output_type": "display_data"
    }
   ],
   "source": [
    "plt.bar(np.arange(14),acc)"
   ]
  },
  {
   "cell_type": "code",
   "execution_count": null,
   "id": "1ec82ca9",
   "metadata": {},
   "outputs": [],
   "source": []
  },
  {
   "cell_type": "code",
   "execution_count": 184,
   "id": "2b72e0c2",
   "metadata": {
    "scrolled": false
   },
   "outputs": [
    {
     "name": "stdout",
     "output_type": "stream",
     "text": [
      "Bucket 0.07142857142857142: \n",
      " Count: 116\n",
      " F1: 0\n",
      "0,2,78,36\n",
      "Bucket 0.14285714285714285: \n",
      " Count: 391\n",
      " F1: 0.1625\n",
      "13,35,244,99\n",
      "Bucket 0.21428571428571427: \n",
      " Count: 242\n",
      " F1: 0.14814814814814814\n",
      "10,52,117,63\n",
      "Bucket 0.2857142857142857: \n",
      " Count: 171\n",
      " F1: 0.2040816326530612\n",
      "10,49,83,29\n",
      "Bucket 0.3571428571428571: \n",
      " Count: 158\n",
      " F1: 0.28\n",
      "14,45,72,27\n",
      "Bucket 0.42857142857142855: \n",
      " Count: 118\n",
      " F1: 0.42222222222222217\n",
      "19,36,47,16\n",
      "Bucket 0.5: \n",
      " Count: 108\n",
      " F1: 0.4054054054054054\n",
      "15,30,49,14\n",
      "Bucket 0.5714285714285714: \n",
      " Count: 107\n",
      " F1: 0.41025641025641024\n",
      "16,25,45,21\n",
      "Bucket 0.6428571428571428: \n",
      " Count: 105\n",
      " F1: 0.3283582089552239\n",
      "11,26,49,19\n",
      "Bucket 0.7142857142857142: \n",
      " Count: 122\n",
      " F1: 0.3466666666666666\n",
      "13,33,60,16\n",
      "Bucket 0.7857142857142857: \n",
      " Count: 126\n",
      " F1: 0.4375\n",
      "21,35,51,19\n",
      "Bucket 0.8571428571428571: \n",
      " Count: 173\n",
      " F1: 0.46153846153846156\n",
      "30,47,73,23\n",
      "Bucket 0.9285714285714285: \n",
      " Count: 252\n",
      " F1: 0.5310734463276836\n",
      "47,58,122,25\n",
      "Bucket 1.0: \n",
      " Count: 1452\n",
      " F1: 0.5291970802919708\n",
      "290,379,646,137\n"
     ]
    }
   ],
   "source": [
    "f1scores = []\n",
    "tpfp = []\n",
    "tnfn = []\n",
    "for i in range(14):\n",
    "    count = 0\n",
    "    tp,fp,tn,fn = 0,0,0,0\n",
    "    for j,p in enumerate(test_y):\n",
    "        if ud[j] >= buckets[i] and ud[j] < buckets[i+1]:\n",
    "            count += 1\n",
    "            if p == 0 and pd[j] == 0:\n",
    "                tn += 1\n",
    "            elif p == 0 and pd[j] == 1:\n",
    "                fp += 1\n",
    "            elif p == 1 and pd[j] == 0:\n",
    "                fn += 1\n",
    "            else: #p == 1 and preds[j] == 1:\n",
    "                tp += 1\n",
    "    try:\n",
    "        p = tp / (tp + fp)\n",
    "    except:\n",
    "        p = 0\n",
    "    try:\n",
    "        r = tp / (tp + fn)\n",
    "    except: \n",
    "        r = 0\n",
    "    try:\n",
    "        f1 = 2/(1/p + 1/r)\n",
    "    except:\n",
    "        f1 = 0\n",
    "    f1scores.append(f1)\n",
    "    tpfp.append(tp/(tp +fp))\n",
    "    tnfn.append(tn/(tn +fn))\n",
    "    print (\"Bucket {}: \\n Count: {}\\n F1: {}\\n{},{},{},{}\".format(buckets[i+1], count, f1,tp,fp,tn,fn))"
   ]
  },
  {
   "cell_type": "code",
   "execution_count": 185,
   "id": "c1b47810",
   "metadata": {},
   "outputs": [
    {
     "data": {
      "text/plain": [
       "<BarContainer object of 14 artists>"
      ]
     },
     "execution_count": 185,
     "metadata": {},
     "output_type": "execute_result"
    },
    {
     "data": {
      "image/png": "[encoded data removed]",
      "text/plain": [
       "<Figure size 432x288 with 1 Axes>"
      ]
     },
     "metadata": {
      "needs_background": "light"
     },
     "output_type": "display_data"
    }
   ],
   "source": [
    "plt.bar(np.arange(14),tpfp)"
   ]
  },
  {
   "cell_type": "code",
   "execution_count": 186,
   "id": "71af7b42",
   "metadata": {},
   "outputs": [
    {
     "data": {
      "text/plain": [
       "<BarContainer object of 14 artists>"
      ]
     },
     "execution_count": 186,
     "metadata": {},
     "output_type": "execute_result"
    },
    {
     "data": {
      "image/png": "[encoded data removed]",
      "text/plain": [
       "<Figure size 432x288 with 1 Axes>"
      ]
     },
     "metadata": {
      "needs_background": "light"
     },
     "output_type": "display_data"
    }
   ],
   "source": [
    "plt.bar(np.arange(14),tnfn)"
   ]
  },
  {
   "cell_type": "code",
   "execution_count": 169,
   "id": "dafe3608",
   "metadata": {},
   "outputs": [
    {
     "data": {
      "text/plain": [
       "<BarContainer object of 14 artists>"
      ]
     },
     "execution_count": 169,
     "metadata": {},
     "output_type": "execute_result"
    },
    {
     "data": {
      "image/png": "[encoded data removed]",
      "text/plain": [
       "<Figure size 432x288 with 1 Axes>"
      ]
     },
     "metadata": {
      "needs_background": "light"
     },
     "output_type": "display_data"
    }
   ],
   "source": [
    "plt.bar(np.arange(len(f1scores)),f1scores)"
   ]
  },
  {
   "cell_type": "code",
   "execution_count": 119,
   "id": "6c3da007",
   "metadata": {},
   "outputs": [
    {
     "name": "stdout",
     "output_type": "stream",
     "text": [
      "Bucket 0.07142857142857142: \n",
      " Count: 561\n",
      " F1: 0.3855421686746988\n",
      "96,239,159,67\n",
      "Bucket 0.14285714285714285: \n",
      " Count: 364\n",
      " F1: 0.40282685512367494\n",
      "57,128,138,41\n",
      "Bucket 0.21428571428571427: \n",
      " Count: 213\n",
      " F1: 0.2556390977443609\n",
      "17,63,97,36\n",
      "Bucket 0.2857142857142857: \n",
      " Count: 155\n",
      " F1: 0.4482758620689655\n",
      "26,42,65,22\n",
      "Bucket 0.3571428571428571: \n",
      " Count: 134\n",
      " F1: 0.38383838383838387\n",
      "19,37,54,24\n",
      "Bucket 0.42857142857142855: \n",
      " Count: 130\n",
      " F1: 0.37499999999999994\n",
      "15,30,65,20\n",
      "Bucket 0.5: \n",
      " Count: 107\n",
      " F1: 0.24615384615384617\n",
      "8,32,50,17\n",
      "Bucket 0.5714285714285714: \n",
      " Count: 100\n",
      " F1: 0.4383561643835616\n",
      "16,27,43,14\n",
      "Bucket 0.6428571428571428: \n",
      " Count: 109\n",
      " F1: 0.42105263157894735\n",
      "16,28,49,16\n",
      "Bucket 0.7142857142857142: \n",
      " Count: 141\n",
      " F1: 0.49504950495049505\n",
      "25,34,65,17\n",
      "Bucket 0.7857142857142857: \n",
      " Count: 148\n",
      " F1: 0.568421052631579\n",
      "27,29,80,12\n",
      "Bucket 0.8571428571428571: \n",
      " Count: 185\n",
      " F1: 0.5205479452054794\n",
      "38,54,77,16\n",
      "Bucket 0.9285714285714285: \n",
      " Count: 243\n",
      " F1: 0.47619047619047616\n",
      "40,70,115,18\n",
      "Bucket 1.0: \n",
      " Count: 1366\n",
      " F1: 0.5696316262353998\n",
      "317,354,570,125\n"
     ]
    }
   ],
   "source": [
    "f1scores = []\n",
    "for i in range(14):\n",
    "    count = 0\n",
    "    tp,fp,tn,fn = 0,0,0,0\n",
    "    for j,p in enumerate(test_y):\n",
    "        if ut[j] >= buckets[i] and ut[j] < buckets[i+1]:\n",
    "            count += 1\n",
    "            if p == 0 and pt[j] == 0:\n",
    "                tn += 1\n",
    "            elif p == 0 and pt[j] == 1:\n",
    "                fp += 1\n",
    "            elif p == 1 and pt[j] == 0:\n",
    "                fn += 1\n",
    "            else: #p == 1 and preds[j] == 1:\n",
    "                tp += 1\n",
    "    try:\n",
    "        p = tp / (tp + fp)\n",
    "    except:\n",
    "        p = 0\n",
    "    try:\n",
    "        r = tp / (tp + fn)\n",
    "    except: \n",
    "        r = 0\n",
    "    try:\n",
    "        f1 = 2/(1/p + 1/r)\n",
    "    except:\n",
    "        f1 = 0\n",
    "    f1scores.append(f1)\n",
    "    print (\"Bucket {}: \\n Count: {}\\n F1: {}\\n{},{},{},{}\".format(buckets[i+1], count, f1,tp,fp,tn,fn))"
   ]
  },
  {
   "cell_type": "code",
   "execution_count": 120,
   "id": "78411c41",
   "metadata": {},
   "outputs": [
    {
     "data": {
      "text/plain": [
       "<BarContainer object of 14 artists>"
      ]
     },
     "execution_count": 120,
     "metadata": {},
     "output_type": "execute_result"
    },
    {
     "data": {
      "image/png": "[encoded data removed]",
      "text/plain": [
       "<Figure size 432x288 with 1 Axes>"
      ]
     },
     "metadata": {
      "needs_background": "light"
     },
     "output_type": "display_data"
    }
   ],
   "source": [
    "plt.bar(np.arange(len(f1scores)),f1scores)"
   ]
  },
  {
   "cell_type": "code",
   "execution_count": 123,
   "id": "8873e5cc",
   "metadata": {},
   "outputs": [],
   "source": [
    "tp,fp,tn,fn = 0,0,0,0\n",
    "for j,p in enumerate (test_y):\n",
    "        if p == 0 and pt[j] == 0:\n",
    "            tn += 1\n",
    "        elif p == 0 and pt[j] == 1:\n",
    "            fp += 1\n",
    "        elif p == 1 and pt[j] == 0:\n",
    "            fn += 1\n",
    "        else: #p == 1 and preds[j] == 1:\n",
    "            tp += 1\n",
    "try:\n",
    "    p = tp / (tp + fp)\n",
    "except:\n",
    "    p = 0\n",
    "try:\n",
    "    r = tp / (tp + fn)\n",
    "except: \n",
    "    r = 0\n",
    "try:\n",
    "    f1 = 2/(1/p + 1/r)\n",
    "except:\n",
    "    f1 = 0"
   ]
  },
  {
   "cell_type": "code",
   "execution_count": 124,
   "id": "acb4f757",
   "metadata": {},
   "outputs": [
    {
     "data": {
      "text/plain": [
       "0.5325720218011939"
      ]
     },
     "execution_count": 124,
     "metadata": {},
     "output_type": "execute_result"
    }
   ],
   "source": [
    "f1"
   ]
  },
  {
   "cell_type": "code",
   "execution_count": 103,
   "id": "a1486696",
   "metadata": {},
   "outputs": [
    {
     "data": {
      "text/plain": [
       "0.20819112627986347"
      ]
     },
     "execution_count": 103,
     "metadata": {},
     "output_type": "execute_result"
    }
   ],
   "source": [
    "p"
   ]
  },
  {
   "cell_type": "code",
   "execution_count": 104,
   "id": "7dba755f",
   "metadata": {},
   "outputs": [
    {
     "ename": "AttributeError",
     "evalue": "'numpy.ndarray' object has no attribute 'detach'",
     "output_type": "error",
     "traceback": [
      "\u001b[0;31m---------------------------------------------------------------------------\u001b[0m",
      "\u001b[0;31mAttributeError\u001b[0m                            Traceback (most recent call last)",
      "\u001b[0;32m<ipython-input-104-3eefcd4ea6d1>\u001b[0m in \u001b[0;36m<module>\u001b[0;34m\u001b[0m\n\u001b[0;32m----> 1\u001b[0;31m \u001b[0mdev_cov\u001b[0m\u001b[0;34m=\u001b[0m \u001b[0mnp\u001b[0m\u001b[0;34m.\u001b[0m\u001b[0mmatmul\u001b[0m\u001b[0;34m(\u001b[0m\u001b[0mdev_features\u001b[0m\u001b[0;34m.\u001b[0m\u001b[0mdetach\u001b[0m\u001b[0;34m(\u001b[0m\u001b[0;34m)\u001b[0m\u001b[0;34m.\u001b[0m\u001b[0mnumpy\u001b[0m\u001b[0;34m(\u001b[0m\u001b[0;34m)\u001b[0m\u001b[0;34m.\u001b[0m\u001b[0mreshape\u001b[0m\u001b[0;34m(\u001b[0m\u001b[0;36m920\u001b[0m\u001b[0;34m,\u001b[0m\u001b[0;36m10\u001b[0m\u001b[0;34m)\u001b[0m\u001b[0;34m.\u001b[0m\u001b[0mtranspose\u001b[0m\u001b[0;34m(\u001b[0m\u001b[0;34m)\u001b[0m\u001b[0;34m,\u001b[0m \u001b[0mdev_features\u001b[0m\u001b[0;34m.\u001b[0m\u001b[0mdetach\u001b[0m\u001b[0;34m(\u001b[0m\u001b[0;34m)\u001b[0m\u001b[0;34m.\u001b[0m\u001b[0mnumpy\u001b[0m\u001b[0;34m(\u001b[0m\u001b[0;34m)\u001b[0m\u001b[0;34m.\u001b[0m\u001b[0mreshape\u001b[0m\u001b[0;34m(\u001b[0m\u001b[0;36m920\u001b[0m\u001b[0;34m,\u001b[0m\u001b[0;36m10\u001b[0m\u001b[0;34m)\u001b[0m\u001b[0;34m)\u001b[0m\u001b[0;34m\u001b[0m\u001b[0;34m\u001b[0m\u001b[0m\n\u001b[0m",
      "\u001b[0;31mAttributeError\u001b[0m: 'numpy.ndarray' object has no attribute 'detach'"
     ]
    }
   ],
   "source": [
    "dev_cov= np.matmul(dev_features.detach().numpy().reshape(920,10).transpose(), dev_features.detach().numpy().reshape(920,10))"
   ]
  },
  {
   "cell_type": "code",
   "execution_count": 105,
   "id": "ba012469",
   "metadata": {},
   "outputs": [
    {
     "data": {
      "text/plain": [
       "(array([[ -1.75624362e-02,  -5.07831935e-01,   4.76890351e-01,\n",
       "          -4.52880033e-01,  -2.50661105e-01,   1.92713573e-01,\n",
       "          -3.87244354e-01,  -2.43594895e-01,   2.70553847e-03,\n",
       "           2.48650847e-04],\n",
       "        [  1.39541445e-02,  -3.80187015e-01,  -6.86840118e-01,\n",
       "          -2.31602724e-01,   2.85723805e-01,  -2.15405557e-01,\n",
       "          -4.18618747e-01,   7.91484016e-02,   3.79902102e-02,\n",
       "           1.37429684e-01],\n",
       "        [  1.08962639e-02,  -1.06213725e-01,  -1.67330246e-01,\n",
       "          -8.71600972e-02,   8.47431516e-02,  -8.24925681e-02,\n",
       "           2.42685386e-01,  -4.91430492e-01,  -7.11025771e-01,\n",
       "          -3.64773114e-01],\n",
       "        [ -9.53384556e-03,   1.27960265e-01,   9.86448365e-02,\n",
       "           9.51896011e-02,   1.39126252e-01,   2.35602634e-01,\n",
       "          -4.64984909e-01,   5.28507116e-01,  -3.08186997e-01,\n",
       "          -5.47145990e-01],\n",
       "        [  4.55275794e-02,   1.26058109e-01,  -4.94351729e-02,\n",
       "           5.55763049e-01,  -7.67240175e-02,   2.65446791e-01,\n",
       "          -4.78325604e-01,  -3.49147122e-01,  -2.53739987e-01,\n",
       "           4.23424773e-01],\n",
       "        [  2.12533493e-02,  -5.51826016e-01,  -2.61453308e-01,\n",
       "           3.72632455e-01,  -5.42807637e-01,   2.14611005e-01,\n",
       "           2.56959839e-01,   2.63625349e-01,  -3.28706845e-02,\n",
       "          -1.02559181e-01],\n",
       "        [ -9.96656008e-01,   2.37362459e-02,  -5.27837424e-02,\n",
       "           1.04736707e-02,  -3.83354623e-02,   2.60606984e-02,\n",
       "          -1.30451566e-02,  -1.97800497e-02,  -1.47768547e-02,\n",
       "           1.70006548e-02],\n",
       "        [  3.60169463e-02,   3.91828417e-01,  -1.68306957e-01,\n",
       "          -2.17142295e-01,  -7.16035459e-01,  -4.25883288e-01,\n",
       "          -2.42169249e-01,   3.82349879e-02,  -1.20316197e-01,\n",
       "          -3.20634171e-02],\n",
       "        [ -1.50990531e-02,  -1.00432825e-01,   2.20064795e-01,\n",
       "          -1.43826783e-01,   6.47335495e-02,  -1.48638038e-01,\n",
       "           1.57500886e-01,   4.68459350e-01,  -5.61345573e-01,\n",
       "           5.78720456e-01],\n",
       "        [  4.37533450e-02,   2.92108036e-01,  -3.35786379e-01,\n",
       "          -4.57086185e-01,  -1.00498148e-01,   7.30396753e-01,\n",
       "           1.45762133e-01,   2.93937513e-02,  -5.23917394e-02,\n",
       "           1.50477527e-01]]),\n",
       " array([  1.25058613e+01,   1.22438506e-01,   9.22952809e-02,\n",
       "          7.14927435e-02,   5.53923592e-02,   3.49035192e-02,\n",
       "          2.19976441e-02,   1.72790894e-02,   9.35339043e-03,\n",
       "          7.15571283e-03]),\n",
       " array([[ -1.75624362e-02,   1.39541445e-02,   1.08962639e-02,\n",
       "          -9.53384556e-03,   4.55275794e-02,   2.12533493e-02,\n",
       "          -9.96656008e-01,   3.60169463e-02,  -1.50990531e-02,\n",
       "           4.37533450e-02],\n",
       "        [ -5.07831935e-01,  -3.80187015e-01,  -1.06213725e-01,\n",
       "           1.27960265e-01,   1.26058109e-01,  -5.51826016e-01,\n",
       "           2.37362459e-02,   3.91828417e-01,  -1.00432825e-01,\n",
       "           2.92108036e-01],\n",
       "        [  4.76890351e-01,  -6.86840118e-01,  -1.67330246e-01,\n",
       "           9.86448365e-02,  -4.94351729e-02,  -2.61453308e-01,\n",
       "          -5.27837424e-02,  -1.68306957e-01,   2.20064795e-01,\n",
       "          -3.35786379e-01],\n",
       "        [ -4.52880033e-01,  -2.31602724e-01,  -8.71600972e-02,\n",
       "           9.51896011e-02,   5.55763049e-01,   3.72632455e-01,\n",
       "           1.04736707e-02,  -2.17142295e-01,  -1.43826783e-01,\n",
       "          -4.57086185e-01],\n",
       "        [ -2.50661105e-01,   2.85723805e-01,   8.47431516e-02,\n",
       "           1.39126252e-01,  -7.67240175e-02,  -5.42807637e-01,\n",
       "          -3.83354623e-02,  -7.16035459e-01,   6.47335495e-02,\n",
       "          -1.00498148e-01],\n",
       "        [  1.92713573e-01,  -2.15405557e-01,  -8.24925681e-02,\n",
       "           2.35602634e-01,   2.65446791e-01,   2.14611005e-01,\n",
       "           2.60606984e-02,  -4.25883288e-01,  -1.48638038e-01,\n",
       "           7.30396753e-01],\n",
       "        [ -3.87244354e-01,  -4.18618747e-01,   2.42685386e-01,\n",
       "          -4.64984909e-01,  -4.78325604e-01,   2.56959839e-01,\n",
       "          -1.30451566e-02,  -2.42169249e-01,   1.57500886e-01,\n",
       "           1.45762133e-01],\n",
       "        [ -2.43594895e-01,   7.91484016e-02,  -4.91430492e-01,\n",
       "           5.28507116e-01,  -3.49147122e-01,   2.63625349e-01,\n",
       "          -1.97800497e-02,   3.82349879e-02,   4.68459350e-01,\n",
       "           2.93937513e-02],\n",
       "        [  2.70553847e-03,   3.79902102e-02,  -7.11025771e-01,\n",
       "          -3.08186997e-01,  -2.53739987e-01,  -3.28706845e-02,\n",
       "          -1.47768547e-02,  -1.20316197e-01,  -5.61345573e-01,\n",
       "          -5.23917394e-02],\n",
       "        [  2.48650847e-04,   1.37429684e-01,  -3.64773114e-01,\n",
       "          -5.47145990e-01,   4.23424773e-01,  -1.02559181e-01,\n",
       "           1.70006548e-02,  -3.20634171e-02,   5.78720456e-01,\n",
       "           1.50477527e-01]]))"
      ]
     },
     "execution_count": 105,
     "metadata": {},
     "output_type": "execute_result"
    }
   ],
   "source": [
    "np.linalg.svd(dev_cov)"
   ]
  },
  {
   "cell_type": "code",
   "execution_count": 106,
   "id": "6839daf4",
   "metadata": {},
   "outputs": [
    {
     "ename": "NameError",
     "evalue": "name 'gpc_d' is not defined",
     "output_type": "error",
     "traceback": [
      "\u001b[0;31m---------------------------------------------------------------------------\u001b[0m",
      "\u001b[0;31mNameError\u001b[0m                                 Traceback (most recent call last)",
      "\u001b[0;32m<ipython-input-106-be4587a0fb54>\u001b[0m in \u001b[0;36m<module>\u001b[0;34m\u001b[0m\n\u001b[0;32m----> 1\u001b[0;31m \u001b[0mgpc_d\u001b[0m\u001b[0;34m.\u001b[0m\u001b[0mscore\u001b[0m\u001b[0;34m(\u001b[0m\u001b[0mtest_features\u001b[0m\u001b[0;34m,\u001b[0m \u001b[0mtest_y\u001b[0m\u001b[0;34m)\u001b[0m\u001b[0;34m\u001b[0m\u001b[0;34m\u001b[0m\u001b[0m\n\u001b[0m",
      "\u001b[0;31mNameError\u001b[0m: name 'gpc_d' is not defined"
     ]
    }
   ],
   "source": [
    "gpc_d.score(test_features, test_y)"
   ]
  },
  {
   "cell_type": "code",
   "execution_count": null,
   "id": "a15fc1f0",
   "metadata": {},
   "outputs": [],
   "source": []
  },
  {
   "cell_type": "code",
   "execution_count": null,
   "id": "952442b8",
   "metadata": {},
   "outputs": [],
   "source": []
  }
 ],
 "metadata": {
  "kernelspec": {
   "display_name": "Python 3 (ipykernel)",
   "language": "python",
   "name": "python3"
  },
  "language_info": {
   "codemirror_mode": {
    "name": "ipython",
    "version": 3
   },
   "file_extension": ".py",
   "mimetype": "text/x-python",
   "name": "python",
   "nbconvert_exporter": "python",
   "pygments_lexer": "ipython3",
   "version": "3.6.13"
  }
 },
 "nbformat": 4,
 "nbformat_minor": 5
}
