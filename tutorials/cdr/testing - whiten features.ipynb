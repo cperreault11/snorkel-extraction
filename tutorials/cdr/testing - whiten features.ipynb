{
 "cells": [
  {
   "cell_type": "code",
   "execution_count": 1,
   "id": "acf5e20b",
   "metadata": {},
   "outputs": [],
   "source": [
    "%load_ext autoreload\n",
    "%autoreload 2\n",
    "%matplotlib inline\n",
    "\n",
    "import numpy as np\n",
    "import matplotlib.pyplot as plt\n",
    "from sklearn.gaussian_process import GaussianProcessClassifier\n",
    "from sklearn.gaussian_process.kernels import RBF,WhiteKernel,DotProduct\n",
    "import pandas as pd\n",
    "import torch\n",
    "\n"
   ]
  },
  {
   "cell_type": "code",
   "execution_count": 2,
   "id": "05855f8b",
   "metadata": {},
   "outputs": [],
   "source": [
    "from snorkel import SnorkelSession\n",
    "from snorkel.models import candidate_subclass\n",
    "from snorkel.annotations import load_gold_labels\n",
    "from snorkel.learning.pytorch import LSTM\n",
    "from snorkel.annotations import load_marginals\n",
    "\n",
    "from scipy import vstack\n",
    "session = SnorkelSession()"
   ]
  },
  {
   "cell_type": "code",
   "execution_count": 3,
   "id": "d71d0b60",
   "metadata": {},
   "outputs": [
    {
     "name": "stdout",
     "output_type": "stream",
     "text": [
      "Training set:\t8439 candidates\n",
      "Dev set:\t920 candidates\n",
      "Test set:\t4687 candidates\n"
     ]
    }
   ],
   "source": [
    "ChemicalDisease = candidate_subclass('ChemicalDisease', ['chemical', 'disease'])\n",
    "\n",
    "train = session.query(ChemicalDisease).filter(ChemicalDisease.split == 0).all()\n",
    "dev = session.query(ChemicalDisease).filter(ChemicalDisease.split == 1).all()\n",
    "test = session.query(ChemicalDisease).filter(ChemicalDisease.split == 2).all()\n",
    "\n",
    "print('Training set:\\t{0} candidates'.format(len(train)))\n",
    "print('Dev set:\\t{0} candidates'.format(len(dev)))\n",
    "print('Test set:\\t{0} candidates'.format(len(test)))"
   ]
  },
  {
   "cell_type": "code",
   "execution_count": 4,
   "id": "e9942887",
   "metadata": {},
   "outputs": [],
   "source": [
    "train_marginals = load_marginals(session, split=0)"
   ]
  },
  {
   "cell_type": "code",
   "execution_count": 67,
   "id": "610642d7",
   "metadata": {},
   "outputs": [
    {
     "name": "stdout",
     "output_type": "stream",
     "text": [
      "AnnotatorLabels created: 0\n"
     ]
    }
   ],
   "source": [
    "from load_external_annotations import load_external_labels\n",
    "load_external_labels(session, ChemicalDisease, split=2, annotator='gold')\n",
    "L_gold_test = load_gold_labels(session, annotator_name='gold', split=2)\n",
    "L_gold_dev = load_gold_labels(session,annotator_name='gold',split=1)\n",
    "L_gold_train = load_gold_labels(session,annotator_name = 'gold', split=0)"
   ]
  },
  {
   "cell_type": "code",
   "execution_count": 70,
   "id": "4b8d5afa",
   "metadata": {},
   "outputs": [
    {
     "data": {
      "text/plain": [
       "<8439x1 sparse matrix of type '<class 'numpy.float64'>'\n",
       "\twith 0 stored elements in Compressed Sparse Row format>"
      ]
     },
     "execution_count": 70,
     "metadata": {},
     "output_type": "execute_result"
    }
   ],
   "source": [
    "L_gold_train"
   ]
  },
  {
   "cell_type": "code",
   "execution_count": 7,
   "id": "27b6a039",
   "metadata": {},
   "outputs": [],
   "source": [
    "dev_labels = L_gold_dev.toarray().reshape(920,)\n",
    "dev_labels[dev_labels == -1] = 0"
   ]
  },
  {
   "cell_type": "code",
   "execution_count": 69,
   "id": "05465cac",
   "metadata": {},
   "outputs": [],
   "source": [
    "train_labels_gold = L_gold_train.toarray().reshape(8439,)\n",
    "train_labels_gold[train_labels_gold == -1] = 0"
   ]
  },
  {
   "cell_type": "code",
   "execution_count": 8,
   "id": "db040ab8",
   "metadata": {},
   "outputs": [],
   "source": [
    "full_train_set = train.copy()\n",
    "full_train_set.extend(dev)\n",
    "full_train_labels = list(train_marginals).copy()\n",
    "full_train_labels.extend(dev_labels)\n",
    "full_train_labels = np.array(full_train_labels)\n"
   ]
  },
  {
   "cell_type": "code",
   "execution_count": 9,
   "id": "5c3772d4",
   "metadata": {},
   "outputs": [
    {
     "name": "stdout",
     "output_type": "stream",
     "text": [
      "[LSTM] Loaded model <trained_on_all_5_layers>\n"
     ]
    }
   ],
   "source": [
    "lstm = LSTM(n_threads=None)\n",
    "\n",
    "lstm.load('trained_on_all_5_layers')"
   ]
  },
  {
   "cell_type": "code",
   "execution_count": 10,
   "id": "88d822ea",
   "metadata": {},
   "outputs": [
    {
     "name": "stderr",
     "output_type": "stream",
     "text": [
      "/home/eric/anaconda3/envs/snorkel-extraction/lib/python3.6/site-packages/torch/nn/functional.py:1386: UserWarning: nn.functional.sigmoid is deprecated. Use torch.sigmoid instead.\n",
      "  warnings.warn(\"nn.functional.sigmoid is deprecated. Use torch.sigmoid instead.\")\n"
     ]
    },
    {
     "data": {
      "text/plain": [
       "(0.40300457217504898, 0.81344759393539878, 0.5389823105481546)"
      ]
     },
     "execution_count": 10,
     "metadata": {},
     "output_type": "execute_result"
    }
   ],
   "source": [
    "lstm.score(test, L_gold_test)"
   ]
  },
  {
   "cell_type": "code",
   "execution_count": 11,
   "id": "9234882c",
   "metadata": {},
   "outputs": [],
   "source": [
    "# am I reshaping correctly?\n",
    "dev_features = lstm.feature_outputs(dev, 100).detach().numpy().reshape(920,10)\n",
    "train_features = lstm.feature_outputs(train, 100).detach().numpy().reshape(8439,10)"
   ]
  },
  {
   "cell_type": "code",
   "execution_count": 12,
   "id": "4e32067d",
   "metadata": {},
   "outputs": [],
   "source": [
    "dev_centered = dev_features - np.mean(dev_features, axis=0)\n",
    "train_centered = train_features - np.mean(train_features, axis = 0)"
   ]
  },
  {
   "cell_type": "code",
   "execution_count": 13,
   "id": "e7fccca2",
   "metadata": {},
   "outputs": [],
   "source": [
    "kernel_dev = RBF(1) + WhiteKernel(1)\n",
    "kernel_train = RBF(1) + WhiteKernel(1)\n",
    "gpc_dev = GaussianProcessClassifier(kernel = kernel_dev)\n",
    "gpc_train = GaussianProcessClassifier(kernel = kernel_train)"
   ]
  },
  {
   "cell_type": "code",
   "execution_count": 14,
   "id": "48f0d044",
   "metadata": {},
   "outputs": [],
   "source": [
    "dev_norm = dev_centered / np.max(dev_centered, axis=0)\n",
    "train_norm = train_centered / np.max(train_centered, axis =0)"
   ]
  },
  {
   "cell_type": "code",
   "execution_count": 15,
   "id": "3a13f23d",
   "metadata": {},
   "outputs": [],
   "source": [
    "train_labels = train_marginals.copy()\n",
    "train_labels[train_labels > .5] = 1\n",
    "train_labels[train_labels <= .5] = 0"
   ]
  },
  {
   "cell_type": "code",
   "execution_count": 63,
   "id": "0d2f241f",
   "metadata": {},
   "outputs": [],
   "source": [
    "dev_extended = np.concatenate((dev_features, train_features[:1000]))"
   ]
  },
  {
   "cell_type": "code",
   "execution_count": 64,
   "id": "b5c6cb78",
   "metadata": {},
   "outputs": [],
   "source": [
    "dev_ex_cen = dev_extended - np.mean(dev_extended,axis=0)\n",
    "train_small_cen = train_features[1000:] - np.mean(train_features[1000:],axis=0)"
   ]
  },
  {
   "cell_type": "code",
   "execution_count": 65,
   "id": "43c2dcf1",
   "metadata": {},
   "outputs": [],
   "source": [
    "devex_norm = dev_ex_cen / np.max(dev_ex_cen, axis = 0)\n",
    "trainex_norm = train_small_cen / np.max(train_small_cen, axis=0)"
   ]
  },
  {
   "cell_type": "code",
   "execution_count": 66,
   "id": "1de0b480",
   "metadata": {},
   "outputs": [],
   "source": [
    "kernel_devex = RBF(1) + WhiteKernel(1)\n",
    "kernel_trainex = RBF(1) + WhiteKernel(1)\n",
    "gpc_devex = GaussianProcessClassifier(kernel = kernel_dev)\n",
    "gpc_trainex = GaussianProcessClassifier(kernel = kernel_train)"
   ]
  },
  {
   "cell_type": "code",
   "execution_count": null,
   "id": "be5a2600",
   "metadata": {},
   "outputs": [],
   "source": [
    "gpc_devex.fit(devex_norm, dev)"
   ]
  },
  {
   "cell_type": "code",
   "execution_count": 16,
   "id": "6ef1d0d6",
   "metadata": {},
   "outputs": [
    {
     "data": {
      "text/plain": [
       "GaussianProcessClassifier(copy_X_train=True,\n",
       "                          kernel=RBF(length_scale=1) + WhiteKernel(noise_level=1),\n",
       "                          max_iter_predict=100, multi_class='one_vs_rest',\n",
       "                          n_jobs=None, n_restarts_optimizer=0,\n",
       "                          optimizer='fmin_l_bfgs_b', random_state=None,\n",
       "                          warm_start=False)"
      ]
     },
     "execution_count": 16,
     "metadata": {},
     "output_type": "execute_result"
    }
   ],
   "source": [
    "gpc_dev.fit(dev_norm, dev_labels.reshape(920,))"
   ]
  },
  {
   "cell_type": "code",
   "execution_count": 17,
   "id": "5d22d6ff",
   "metadata": {},
   "outputs": [
    {
     "data": {
      "text/plain": [
       "RBF(length_scale=2.12) + WhiteKernel(noise_level=1e-05)"
      ]
     },
     "execution_count": 17,
     "metadata": {},
     "output_type": "execute_result"
    }
   ],
   "source": [
    "gpc_dev.kernel_"
   ]
  },
  {
   "cell_type": "code",
   "execution_count": 18,
   "id": "9165ae1a",
   "metadata": {},
   "outputs": [
    {
     "data": {
      "text/plain": [
       "GaussianProcessClassifier(copy_X_train=True,\n",
       "                          kernel=RBF(length_scale=1) + WhiteKernel(noise_level=1),\n",
       "                          max_iter_predict=100, multi_class='one_vs_rest',\n",
       "                          n_jobs=None, n_restarts_optimizer=0,\n",
       "                          optimizer='fmin_l_bfgs_b', random_state=None,\n",
       "                          warm_start=False)"
      ]
     },
     "execution_count": 18,
     "metadata": {},
     "output_type": "execute_result"
    }
   ],
   "source": [
    "gpc_train.fit(train_norm, train_labels.reshape(8439,))"
   ]
  },
  {
   "cell_type": "code",
   "execution_count": 19,
   "id": "9d14a61c",
   "metadata": {},
   "outputs": [
    {
     "data": {
      "text/plain": [
       "RBF(length_scale=1.15) + WhiteKernel(noise_level=1e-05)"
      ]
     },
     "execution_count": 19,
     "metadata": {},
     "output_type": "execute_result"
    }
   ],
   "source": [
    "gpc_train.kernel_"
   ]
  },
  {
   "cell_type": "code",
   "execution_count": 20,
   "id": "b53cfd33",
   "metadata": {},
   "outputs": [],
   "source": [
    "test_features = lstm.feature_outputs(test,100).detach().numpy().reshape(4687,10)"
   ]
  },
  {
   "cell_type": "code",
   "execution_count": 21,
   "id": "4533c559",
   "metadata": {},
   "outputs": [],
   "source": [
    "test_dev_norm = (test_features - np.mean(dev_features, axis=0)) / np.max(dev_centered, axis=0)\n",
    "test_train_norm = (test_features - np.mean(train_features, axis=0)) / np.max(train_centered, axis = 0)"
   ]
  },
  {
   "cell_type": "code",
   "execution_count": 22,
   "id": "3ff32497",
   "metadata": {},
   "outputs": [
    {
     "data": {
      "text/plain": [
       "RBF(length_scale=1.15) + WhiteKernel(noise_level=1e-05)"
      ]
     },
     "execution_count": 22,
     "metadata": {},
     "output_type": "execute_result"
    }
   ],
   "source": [
    "gpc_train.kernel_"
   ]
  },
  {
   "cell_type": "code",
   "execution_count": 39,
   "id": "201c9cdc",
   "metadata": {},
   "outputs": [],
   "source": [
    "ud = []\n",
    "ut = []\n",
    "preds_d = gpc_dev.predict_proba(test_dev_norm, uncertainty = ud)\n",
    "preds_t = gpc_train.predict_proba(test_train_norm, uncertainty = ut)"
   ]
  },
  {
   "cell_type": "code",
   "execution_count": 24,
   "id": "cc25c28f",
   "metadata": {},
   "outputs": [
    {
     "data": {
      "text/plain": [
       "array([[ 0.60848572,  0.39151428],\n",
       "       [ 0.6259474 ,  0.3740526 ],\n",
       "       [ 0.62983046,  0.37016954],\n",
       "       ..., \n",
       "       [ 0.87129271,  0.12870729],\n",
       "       [ 0.40950771,  0.59049229],\n",
       "       [ 0.56703016,  0.43296984]])"
      ]
     },
     "execution_count": 24,
     "metadata": {},
     "output_type": "execute_result"
    }
   ],
   "source": [
    "preds_d"
   ]
  },
  {
   "cell_type": "code",
   "execution_count": 33,
   "id": "e3bbba93",
   "metadata": {},
   "outputs": [
    {
     "data": {
      "text/plain": [
       "array([[ 0.83794774,  0.16205226],\n",
       "       [ 0.07162196,  0.92837804],\n",
       "       [ 0.07068817,  0.92931183],\n",
       "       ..., \n",
       "       [ 0.24684097,  0.75315903],\n",
       "       [ 0.06486014,  0.93513986],\n",
       "       [ 0.07476662,  0.92523338]])"
      ]
     },
     "execution_count": 33,
     "metadata": {},
     "output_type": "execute_result"
    }
   ],
   "source": [
    "preds_t"
   ]
  },
  {
   "cell_type": "code",
   "execution_count": 40,
   "id": "15b96c06",
   "metadata": {},
   "outputs": [],
   "source": [
    "ud = ud[0]\n",
    "ut = ut[0]"
   ]
  },
  {
   "cell_type": "code",
   "execution_count": 78,
   "id": "f50b252b",
   "metadata": {},
   "outputs": [],
   "source": [
    "ud = np.array(ud)"
   ]
  },
  {
   "cell_type": "code",
   "execution_count": 81,
   "id": "4716d7d6",
   "metadata": {},
   "outputs": [
    {
     "data": {
      "text/plain": [
       "0.050164682909455714"
      ]
     },
     "execution_count": 81,
     "metadata": {},
     "output_type": "execute_result"
    }
   ],
   "source": [
    "ud.mean()"
   ]
  },
  {
   "cell_type": "code",
   "execution_count": 29,
   "id": "66969a42",
   "metadata": {},
   "outputs": [],
   "source": [
    "gen = (i for i,x in enumerate(ud) if x < .03)"
   ]
  },
  {
   "cell_type": "code",
   "execution_count": 32,
   "id": "b34891ed",
   "metadata": {},
   "outputs": [],
   "source": [
    "test_y = L_gold_test.toarray().reshape(4687,)\n",
    "test_y[test_y == -1] = 0"
   ]
  },
  {
   "cell_type": "code",
   "execution_count": 41,
   "id": "23a340fa",
   "metadata": {},
   "outputs": [
    {
     "name": "stderr",
     "output_type": "stream",
     "text": [
      "/home/eric/anaconda3/envs/snorkel-extraction/lib/python3.6/site-packages/torch/nn/functional.py:1386: UserWarning: nn.functional.sigmoid is deprecated. Use torch.sigmoid instead.\n",
      "  warnings.warn(\"nn.functional.sigmoid is deprecated. Use torch.sigmoid instead.\")\n"
     ]
    }
   ],
   "source": [
    "# what is the order of the probabilties? I think I was probably doingit backwards actually. \n",
    "pd, pt, pnn = [],[],[]\n",
    "for x in preds_d:\n",
    "    if x[0] > .5:\n",
    "        pd.append(0)\n",
    "    else:\n",
    "        pd.append(1)\n",
    "for x in preds_t:\n",
    "    if x[0] > .5:\n",
    "        pt.append(0)\n",
    "    else:\n",
    "        pt.append(1) \n",
    "for x in lstm.marginals(test):\n",
    "    if x < .5:\n",
    "        pnn.append(0)\n",
    "    else:\n",
    "        pnn.append(1) "
   ]
  },
  {
   "cell_type": "code",
   "execution_count": 30,
   "id": "ff845eb0",
   "metadata": {},
   "outputs": [],
   "source": [
    "preds_nn = lstm.marginals(test)"
   ]
  },
  {
   "cell_type": "code",
   "execution_count": 393,
   "id": "23eb0a7c",
   "metadata": {},
   "outputs": [],
   "source": [
    "buckets = np.linspace(0,.5,15)"
   ]
  },
  {
   "cell_type": "code",
   "execution_count": 77,
   "id": "5477b44c",
   "metadata": {},
   "outputs": [
    {
     "data": {
      "text/plain": [
       "1517"
      ]
     },
     "execution_count": 77,
     "metadata": {},
     "output_type": "execute_result"
    }
   ],
   "source": [
    "sum(1 for x in test_y if x == 1)"
   ]
  },
  {
   "cell_type": "code",
   "execution_count": 44,
   "id": "686e0476",
   "metadata": {},
   "outputs": [],
   "source": [
    "pre = gpc_train.predict(train_norm)"
   ]
  },
  {
   "cell_type": "code",
   "execution_count": 45,
   "id": "01f0a6e7",
   "metadata": {},
   "outputs": [],
   "source": [
    "acc = []\n",
    "for i in range(14):\n",
    "    cor, inc = 0,0\n",
    "    count  =0\n",
    "    for j,p in enumerate(test_y.reshape(4687,)):\n",
    "        dif = 1 - max(preds_t[j])\n",
    "        if dif >= buckets[i] and dif < buckets[i+1]:\n",
    "            count += 1\n",
    "            if p == pre[j]:\n",
    "                cor += 1\n",
    "    if count > 0:\n",
    "        acc.append(cor/count)\n",
    "    else:\n",
    "        acc.append(0)\n",
    "                "
   ]
  },
  {
   "cell_type": "code",
   "execution_count": 46,
   "id": "ef98452d",
   "metadata": {},
   "outputs": [
    {
     "data": {
      "text/plain": [
       "<BarContainer object of 14 artists>"
      ]
     },
     "execution_count": 46,
     "metadata": {},
     "output_type": "execute_result"
    },
    {
     "data": {
      "image/png": "[encoded data removed]",
      "text/plain": [
       "<Figure size 432x288 with 1 Axes>"
      ]
     },
     "metadata": {
      "needs_background": "light"
     },
     "output_type": "display_data"
    }
   ],
   "source": [
    "plt.bar(np.arange(14),acc)"
   ]
  },
  {
   "cell_type": "code",
   "execution_count": 71,
   "id": "1ec82ca9",
   "metadata": {},
   "outputs": [],
   "source": [
    "dev_inc = set()\n",
    "train_inc = set()"
   ]
  },
  {
   "cell_type": "code",
   "execution_count": 72,
   "id": "a36f288d",
   "metadata": {},
   "outputs": [],
   "source": [
    "for j,p in enumerate(test_y.reshape(4687,)):\n",
    "    if p != pt[j]:\n",
    "        train_inc.add(j)\n",
    "    if p != pd[j]:\n",
    "        dev_inc.add(j)\n"
   ]
  },
  {
   "cell_type": "code",
   "execution_count": 134,
   "id": "60ecb532",
   "metadata": {},
   "outputs": [
    {
     "data": {
      "text/plain": [
       "820"
      ]
     },
     "execution_count": 134,
     "metadata": {},
     "output_type": "execute_result"
    }
   ],
   "source": [
    "train_better = dev_inc - train_inc\n",
    "len(train_better)"
   ]
  },
  {
   "cell_type": "code",
   "execution_count": 153,
   "id": "d8c12f30",
   "metadata": {},
   "outputs": [],
   "source": [
    "pdworse = np.array([1 - max(x) for i,x in enumerate(preds_d) if i in train_better])\n",
    "ptbetter = np.array([1 - max(x) for i,x in enumerate(preds_t) if i in train_better])"
   ]
  },
  {
   "cell_type": "code",
   "execution_count": 154,
   "id": "71278a04",
   "metadata": {},
   "outputs": [
    {
     "data": {
      "text/plain": [
       "0.39216067108023517"
      ]
     },
     "execution_count": 154,
     "metadata": {},
     "output_type": "execute_result"
    }
   ],
   "source": [
    "pdworse.mean()"
   ]
  },
  {
   "cell_type": "code",
   "execution_count": 155,
   "id": "30482884",
   "metadata": {},
   "outputs": [
    {
     "data": {
      "text/plain": [
       "0.1727678488034656"
      ]
     },
     "execution_count": 155,
     "metadata": {},
     "output_type": "execute_result"
    }
   ],
   "source": [
    "ptbetter.mean()"
   ]
  },
  {
   "cell_type": "code",
   "execution_count": 138,
   "id": "f2458f9f",
   "metadata": {},
   "outputs": [],
   "source": [
    "pdworse = np.array([x for i,x in enumerate(ud) if i in train_better])\n",
    "ptbetter = np.array([x for i,x in enumerate(ut) if i in train_better])"
   ]
  },
  {
   "cell_type": "code",
   "execution_count": null,
   "id": "2bd541b7",
   "metadata": {},
   "outputs": [],
   "source": [
    "pd"
   ]
  },
  {
   "cell_type": "code",
   "execution_count": 78,
   "id": "3fc9910f",
   "metadata": {},
   "outputs": [],
   "source": [
    "dev_better = train_inc - dev_inc"
   ]
  },
  {
   "cell_type": "code",
   "execution_count": 86,
   "id": "33b23662",
   "metadata": {},
   "outputs": [],
   "source": [
    "udbetter = [x for i,x in enumerate(ud) if i in dev_better]\n",
    "utworse = [x for i,x in enumerate(ut) if i in dev_better]"
   ]
  },
  {
   "cell_type": "code",
   "execution_count": 158,
   "id": "776d7941",
   "metadata": {},
   "outputs": [],
   "source": [
    "preds_dbetter = [1 - max(x) for i,x in enumerate(preds_d) if i in dev_better]\n",
    "preds_tworse = [1 - max(x) for i,x in enumerate(preds_t) if i in dev_better]"
   ]
  },
  {
   "cell_type": "code",
   "execution_count": 111,
   "id": "f76ef105",
   "metadata": {},
   "outputs": [],
   "source": [
    "difd = np.array([1 - max(x) for i,x in enumerate(preds_d)])\n",
    "dift = np.array([1 - max(x) for i,x in enumerate(preds_t)])"
   ]
  },
  {
   "cell_type": "code",
   "execution_count": 156,
   "id": "dafeb639",
   "metadata": {},
   "outputs": [
    {
     "data": {
      "text/plain": [
       "0.30752262752402898"
      ]
     },
     "execution_count": 156,
     "metadata": {},
     "output_type": "execute_result"
    }
   ],
   "source": [
    "difd.mean()"
   ]
  },
  {
   "cell_type": "code",
   "execution_count": 157,
   "id": "8f1bb7ab",
   "metadata": {},
   "outputs": [
    {
     "data": {
      "text/plain": [
       "0.20252795466746126"
      ]
     },
     "execution_count": 157,
     "metadata": {},
     "output_type": "execute_result"
    }
   ],
   "source": [
    "dift.mean()"
   ]
  },
  {
   "cell_type": "code",
   "execution_count": 159,
   "id": "659c6230",
   "metadata": {},
   "outputs": [],
   "source": [
    "preds_dbetter = np.array(preds_dbetter)\n",
    "preds_tworse = np.array(preds_tworse)\n",
    "dif = preds_dbetter - preds_tworse"
   ]
  },
  {
   "cell_type": "code",
   "execution_count": 162,
   "id": "bf452748",
   "metadata": {},
   "outputs": [
    {
     "data": {
      "text/plain": [
       "0.20673914578450808"
      ]
     },
     "execution_count": 162,
     "metadata": {},
     "output_type": "execute_result"
    }
   ],
   "source": [
    "preds_tworse.mean()"
   ]
  },
  {
   "cell_type": "code",
   "execution_count": 102,
   "id": "279195fc",
   "metadata": {},
   "outputs": [],
   "source": [
    "import math"
   ]
  },
  {
   "cell_type": "code",
   "execution_count": 103,
   "id": "b972b0d9",
   "metadata": {},
   "outputs": [
    {
     "data": {
      "text/plain": [
       "0.16605646874837807"
      ]
     },
     "execution_count": 103,
     "metadata": {},
     "output_type": "execute_result"
    }
   ],
   "source": [
    "math.sqrt(dif.var())"
   ]
  },
  {
   "cell_type": "code",
   "execution_count": 87,
   "id": "e543ca55",
   "metadata": {},
   "outputs": [
    {
     "data": {
      "text/plain": [
       "0.44849064116073106"
      ]
     },
     "execution_count": 87,
     "metadata": {},
     "output_type": "execute_result"
    }
   ],
   "source": [
    "utworse = np.array(utworse)\n",
    "utworse.mean()"
   ]
  },
  {
   "cell_type": "code",
   "execution_count": 83,
   "id": "77c84d69",
   "metadata": {},
   "outputs": [
    {
     "data": {
      "text/plain": [
       "0.56352302824490896"
      ]
     },
     "execution_count": 83,
     "metadata": {},
     "output_type": "execute_result"
    }
   ],
   "source": [
    "udbetter = np.array(udbetter)\n",
    "udbetter.mean()"
   ]
  },
  {
   "cell_type": "code",
   "execution_count": 85,
   "id": "e74ffb41",
   "metadata": {},
   "outputs": [
    {
     "data": {
      "text/plain": [
       "1.0"
      ]
     },
     "execution_count": 85,
     "metadata": {},
     "output_type": "execute_result"
    }
   ],
   "source": [
    "ud.mean()"
   ]
  },
  {
   "cell_type": "code",
   "execution_count": 438,
   "id": "512aff4b",
   "metadata": {},
   "outputs": [],
   "source": [
    "count, tc, dc, bc = 0,0,0,0\n",
    "dd = np.array([1-max(x) for i,x in enumerate(preds_d) if pd[i] != pt[i]])\n",
    "dt = np.array([1-max(x) for i,x in enumerate(preds_t) if pd[i] != pt[i]])\n",
    "y = [x for i,x in enumerate(test_y.reshape(4687,)) if pd[i] != pt[i]]\n",
    "dd /= np.mean(dd)\n",
    "dt /= np.mean(dt)\n",
    "cdi = []\n",
    "cti = []\n",
    "cdc = []\n",
    "ctc = []\n",
    "for j,p in enumerate(y):\n",
    "    if (pt[j] == pd[j]):\n",
    "         continue\n",
    "    count += 1\n",
    "    dift = dt[j]\n",
    "    difd = dd[j]\n",
    "    tc = tc + (1 if pt[j] == p else 0)\n",
    "    dc = dc + (1 if pd[j] == p else 0)\n",
    "    if pt[j] == p:\n",
    "        ctc.append(dt[j])\n",
    "        cdi.append(dd[j])\n",
    "    else:\n",
    "        cti.append(dt[j])\n",
    "        cdc.append(dd[j])\n",
    "    if difd < dift:\n",
    "        bc += (1 if pd[j] == p else 0)\n",
    "    else:\n",
    "        bc = bc + (1 if pt[j] == p else 0)"
   ]
  },
  {
   "cell_type": "code",
   "execution_count": 439,
   "id": "9245e19f",
   "metadata": {},
   "outputs": [],
   "source": [
    "cdi = np.array(cdi)\n",
    "cti = np.array(cti)\n",
    "cdc = np.array(cdc)\n",
    "ctc = np.array(ctc)"
   ]
  },
  {
   "cell_type": "code",
   "execution_count": 440,
   "id": "bbfbd78b",
   "metadata": {},
   "outputs": [
    {
     "name": "stdout",
     "output_type": "stream",
     "text": [
      "1.02829123793 1.08076677756 0.98171355485 0.923058125222\n"
     ]
    }
   ],
   "source": [
    "print(cdi.mean(), cti.mean(), cdc.mean(), ctc.mean())"
   ]
  },
  {
   "cell_type": "code",
   "execution_count": 436,
   "id": "b96bc337",
   "metadata": {},
   "outputs": [
    {
     "name": "stdout",
     "output_type": "stream",
     "text": [
      "973 374 599 599\n"
     ]
    }
   ],
   "source": [
    "print (count, tc, dc, bc)"
   ]
  },
  {
   "cell_type": "code",
   "execution_count": 403,
   "id": "2b72e0c2",
   "metadata": {
    "scrolled": false
   },
   "outputs": [
    {
     "name": "stdout",
     "output_type": "stream",
     "text": [
      "Bucket 0.03571428571428571: \n",
      " Count: 5\n",
      " F1: 0.7499999999999999\n",
      "3,2,0,0\n",
      "Bucket 0.07142857142857142: \n",
      " Count: 280\n",
      " F1: 0.6374695863746959\n",
      "131,149,0,0\n",
      "Bucket 0.10714285714285714: \n",
      " Count: 392\n",
      " F1: 0.673434856175973\n",
      "199,193,0,0\n",
      "Bucket 0.14285714285714285: \n",
      " Count: 207\n",
      " F1: 0.5821917808219178\n",
      "85,122,0,0\n",
      "Bucket 0.17857142857142855: \n",
      " Count: 172\n",
      " F1: 0.5108225108225108\n",
      "59,113,0,0\n",
      "Bucket 0.21428571428571427: \n",
      " Count: 317\n",
      " F1: 0.5186915887850467\n",
      "111,206,0,0\n",
      "Bucket 0.25: \n",
      " Count: 261\n",
      " F1: 0.4181818181818182\n",
      "69,192,0,0\n",
      "Bucket 0.2857142857142857: \n",
      " Count: 121\n",
      " F1: 0.4078947368421052\n",
      "31,90,0,0\n",
      "Bucket 0.3214285714285714: \n",
      " Count: 93\n",
      " F1: 0.546875\n",
      "35,58,0,0\n",
      "Bucket 0.3571428571428571: \n",
      " Count: 68\n",
      " F1: 0.47191011235955055\n",
      "21,47,0,0\n",
      "Bucket 0.39285714285714285: \n",
      " Count: 67\n",
      " F1: 0.5111111111111111\n",
      "23,44,0,0\n",
      "Bucket 0.42857142857142855: \n",
      " Count: 59\n",
      " F1: 0.3611111111111111\n",
      "13,46,0,0\n",
      "Bucket 0.46428571428571425: \n",
      " Count: 63\n",
      " F1: 0.5176470588235293\n",
      "22,41,0,0\n",
      "Bucket 0.5: \n",
      " Count: 67\n",
      " F1: 0.4235294117647059\n",
      "18,49,0,0\n"
     ]
    }
   ],
   "source": [
    "f1scores = []\n",
    "tpfp = []\n",
    "tnfn = []\n",
    "for i in range(14):\n",
    "    count = 0\n",
    "    tp,fp,tn,fn = 0,0,0,0\n",
    "    for j,p in enumerate(test_y.reshape(4687,)):\n",
    "        if (pt[j] == pd[j]):\n",
    "             continue\n",
    "        dif = 1 - max(preds_t[j])\n",
    "        if dif >= buckets[i] and dif < buckets[i+1]:\n",
    "            count += 1\n",
    "            if p == 0 and pt[j] == 0:\n",
    "                tn += 1\n",
    "            elif p == 0 and pt[j] == 1:\n",
    "                fp += 1\n",
    "            elif p == 1 and pt[j] == 0:\n",
    "                fn += 1\n",
    "            else: #p == 1 and preds[j] == 1:\n",
    "                tp += 1\n",
    "    try:\n",
    "        p = tp / (tp + fp)\n",
    "    except:\n",
    "        p = 0\n",
    "    try:\n",
    "        r = tp / (tp + fn)\n",
    "    except: \n",
    "        r = 0\n",
    "    try:\n",
    "        f1 = 2/(1/p + 1/r)\n",
    "    except:\n",
    "        f1 = 0\n",
    "    f1scores.append(f1)\n",
    "    try:\n",
    "        tpfp.append(tp/(tp +fp))\n",
    "    except:\n",
    "        tpfp.append(0)\n",
    "    try:\n",
    "        tnfn.append(tn/(tn +fn))\n",
    "    except:\n",
    "        tnfn.append(0)\n",
    "    print (\"Bucket {}: \\n Count: {}\\n F1: {}\\n{},{},{},{}\".format(buckets[i+1], count, f1,tp,fp,tn,fn))"
   ]
  },
  {
   "cell_type": "code",
   "execution_count": 404,
   "id": "c1b47810",
   "metadata": {},
   "outputs": [
    {
     "data": {
      "text/plain": [
       "<BarContainer object of 14 artists>"
      ]
     },
     "execution_count": 404,
     "metadata": {},
     "output_type": "execute_result"
    },
    {
     "data": {
      "image/png": "[encoded data removed]",
      "text/plain": [
       "<Figure size 432x288 with 1 Axes>"
      ]
     },
     "metadata": {
      "needs_background": "light"
     },
     "output_type": "display_data"
    }
   ],
   "source": [
    "plt.bar(np.arange(14),tpfp)"
   ]
  },
  {
   "cell_type": "code",
   "execution_count": 405,
   "id": "71af7b42",
   "metadata": {},
   "outputs": [
    {
     "data": {
      "text/plain": [
       "<BarContainer object of 14 artists>"
      ]
     },
     "execution_count": 405,
     "metadata": {},
     "output_type": "execute_result"
    },
    {
     "data": {
      "image/png": "[encoded data removed]",
      "text/plain": [
       "<Figure size 432x288 with 1 Axes>"
      ]
     },
     "metadata": {
      "needs_background": "light"
     },
     "output_type": "display_data"
    }
   ],
   "source": [
    "plt.bar(np.arange(14),tnfn)"
   ]
  },
  {
   "cell_type": "code",
   "execution_count": 406,
   "id": "dafe3608",
   "metadata": {},
   "outputs": [
    {
     "data": {
      "text/plain": [
       "<BarContainer object of 14 artists>"
      ]
     },
     "execution_count": 406,
     "metadata": {},
     "output_type": "execute_result"
    },
    {
     "data": {
      "image/png": "[encoded data removed]",
      "text/plain": [
       "<Figure size 432x288 with 1 Axes>"
      ]
     },
     "metadata": {
      "needs_background": "light"
     },
     "output_type": "display_data"
    }
   ],
   "source": [
    "plt.bar(np.arange(len(f1scores)),f1scores)"
   ]
  },
  {
   "cell_type": "code",
   "execution_count": 398,
   "id": "ebbcedda",
   "metadata": {},
   "outputs": [],
   "source": [
    "import scipy.stats\n",
    "import math"
   ]
  },
  {
   "cell_type": "code",
   "execution_count": 102,
   "id": "67424453",
   "metadata": {},
   "outputs": [],
   "source": [
    "dif_t = .5\n",
    "var = .1"
   ]
  },
  {
   "cell_type": "code",
   "execution_count": 48,
   "id": "b0bcad42",
   "metadata": {},
   "outputs": [],
   "source": [
    "ud = ud / ud.mean()\n",
    "ut = ut / ut.mean()"
   ]
  },
  {
   "cell_type": "code",
   "execution_count": 50,
   "id": "9811e3db",
   "metadata": {},
   "outputs": [],
   "source": [
    "cd = 1/ud\n",
    "ct = 1 /ut"
   ]
  },
  {
   "cell_type": "code",
   "execution_count": 51,
   "id": "5ebdd8fd",
   "metadata": {},
   "outputs": [
    {
     "data": {
      "text/plain": [
       "array([ 0.68881144,  0.87057306,  2.14365117, ...,  0.52434997,\n",
       "        0.66326727,  1.68781971])"
      ]
     },
     "execution_count": 51,
     "metadata": {},
     "output_type": "execute_result"
    }
   ],
   "source": [
    "cd"
   ]
  },
  {
   "cell_type": "code",
   "execution_count": 362,
   "id": "646b7e3a",
   "metadata": {},
   "outputs": [
    {
     "data": {
      "text/plain": [
       "0.0062096653257761323"
      ]
     },
     "execution_count": 362,
     "metadata": {},
     "output_type": "execute_result"
    }
   ],
   "source": [
    "scipy.stats.norm.cdf(.5, .75, .1)"
   ]
  },
  {
   "cell_type": "code",
   "execution_count": 190,
   "id": "40584299",
   "metadata": {},
   "outputs": [],
   "source": [
    "import scipy.stats"
   ]
  },
  {
   "cell_type": "code",
   "execution_count": 386,
   "id": "9089b1b0",
   "metadata": {},
   "outputs": [],
   "source": [
    "buckets = np.linspace(-.5,.5,100)\n",
    "f1scores = []\n",
    "acc = []\n",
    "for b in buckets:\n",
    "    tp,fp,tn,fn = 0,0,0,0\n",
    "    for j,p in enumerate(test_y.reshape(4687,)):\n",
    "        if (pd[j] != pt[j]):\n",
    "            continue\n",
    "#         dif_t = abs(preds_t[j][0] - preds_t[j][1])\n",
    "#         dif_d = abs(preds_d[j][0] - preds_d[j][1])\n",
    "#         t_vote = (1-dif_t) * ct[j]\n",
    "#         d_vote = (1-dif_d) * cd[j]\n",
    "        #switch_d = scipy.stats.norm.cdf(.5, max(preds_d[j]), math.sqrt(ud[j]))\n",
    "        #switch_t = scipy.stats.norm.cdf(.5, max(preds_t[j]), math.sqrt(ut[j]))\n",
    "        #t_vote = (1-dif_t) # (1- scipy.stats.norm.cdf(.5, dif_t + .5, math.sqrt(ut[j])))# * dif_t\n",
    "        #d_vote = #(1- scipy.stats.norm.cdf(.5, dif_d + .5, math.sqrt(ud[j])))# * dif_d\n",
    "        pr = pd[j]\n",
    "#         if switch_d - switch_t < b:\n",
    "#             pr = pd[j]\n",
    "#         else:\n",
    "#             pr = pt[j]\n",
    "        if p == 0 and pr == 0:\n",
    "            tn += 1\n",
    "        elif p == 0 and pr == 1:\n",
    "            fp += 1\n",
    "        elif p == 1 and pr == 0:\n",
    "            fn += 1\n",
    "        else: #p == 1 and preds[j] == 1:\n",
    "            tp += 1\n",
    "    p = tp / (tp + fp)\n",
    "    r = tp / (tp + fn)\n",
    "    f1 = 2 / (1/p + 1/r)\n",
    "    f1scores.append(f1)\n",
    "    acc.append((tp + tn) / (tp + fn + tn + fp))"
   ]
  },
  {
   "cell_type": "code",
   "execution_count": 387,
   "id": "8a1a2407",
   "metadata": {},
   "outputs": [
    {
     "data": {
      "text/plain": [
       "[<matplotlib.lines.Line2D at 0x7f77068fe2e8>]"
      ]
     },
     "execution_count": 387,
     "metadata": {},
     "output_type": "execute_result"
    },
    {
     "data": {
      "image/png": "[encoded data removed]",
      "text/plain": [
       "<Figure size 432x288 with 1 Axes>"
      ]
     },
     "metadata": {
      "needs_background": "light"
     },
     "output_type": "display_data"
    }
   ],
   "source": [
    "plt.plot(buckets,f1scores)"
   ]
  },
  {
   "cell_type": "code",
   "execution_count": 388,
   "id": "9a121522",
   "metadata": {},
   "outputs": [
    {
     "data": {
      "text/plain": [
       "[<matplotlib.lines.Line2D at 0x7f7704a09a58>]"
      ]
     },
     "execution_count": 388,
     "metadata": {},
     "output_type": "execute_result"
    },
    {
     "data": {
      "image/png": "[encoded data removed]",
      "text/plain": [
       "<Figure size 432x288 with 1 Axes>"
      ]
     },
     "metadata": {
      "needs_background": "light"
     },
     "output_type": "display_data"
    }
   ],
   "source": [
    "plt.plot(buckets,acc)"
   ]
  },
  {
   "cell_type": "code",
   "execution_count": 310,
   "id": "6c3da007",
   "metadata": {},
   "outputs": [
    {
     "name": "stdout",
     "output_type": "stream",
     "text": [
      "0.5242500700869078\n"
     ]
    }
   ],
   "source": [
    "f1scores = []\n",
    "tpfp = []\n",
    "tnfn = []\n",
    "tp,fp,tn,fn = 0,0,0,0\n",
    "\n",
    "\n",
    "# for i in range(14):\n",
    "#     count = 0\n",
    "for j,p in enumerate(test_y.reshape(4687,)):\n",
    "    dif_t = 1 - max(preds_t[j])\n",
    "    dif_d = 1 - max(preds_d[j])\n",
    "    pr = 0\n",
    "    if dif_t> 0.25:\n",
    "        pr = pd[j]\n",
    "    else:\n",
    "        pr = pt[j]\n",
    "#     weighted = (cd[j] * preds_d[j][1] + ct[j] * preds_t[j][1]) / (ct[j] + cd[j])\n",
    "#     pr = pt[j]\n",
    "#     if weighted > .5:\n",
    "#         pr = pt[j]\n",
    "#     if dif_t - dif_d > .2:\n",
    "#         print (\"here\")\n",
    "#         pr = pd[j]\n",
    "#         print (pr == p)\n",
    "#         if dif_t < dif_d:\n",
    "#             pr = pt[j]\n",
    "#         else:\n",
    "#             pr = pd[j]\n",
    "#         if abs(dif_t - dif_d) < .04:\n",
    "#             if ud[j] < ut[j]:\n",
    "#                 pr = pd[j]\n",
    "#             else:\n",
    "#                 pr = pt[j]\n",
    "#     t_vote = (1- scipy.stats.norm.cdf(.5, dif_t + .5, math.sqrt(ut[j]))) * dif_t\n",
    "#     d_vote = (1- scipy.stats.norm.cdf(.5, dif_d + .5, math.sqrt(ud[j]))) * dif_d\n",
    "#     if t_vote < d_vote:\n",
    "#         pr = pt[j]\n",
    "#     else:\n",
    "#         pr = pt[j]\n",
    "#         if dif >= buckets[i] and dif < buckets[i+1]:\n",
    "#             count += 1\n",
    "    if p == 0 and pr == 0:\n",
    "        tn += 1\n",
    "    elif p == 0 and pr == 1:\n",
    "        fp += 1\n",
    "    elif p == 1 and pr == 0:\n",
    "        fn += 1\n",
    "    else: #p == 1 and preds[j] == 1:\n",
    "        tp += 1\n",
    "#     try:\n",
    "#         p = tp / (tp + fp)\n",
    "#     except:\n",
    "#         p = 0\n",
    "#     try:\n",
    "#         r = tp / (tp + fn)\n",
    "#     except: \n",
    "#         r = 0\n",
    "#     try:\n",
    "#         f1 = 2/(1/p + 1/r)\n",
    "#     except:\n",
    "#         f1 = 0\n",
    "#     f1scores.append(f1)\n",
    "#     try:\n",
    "#         tpfp.append(tp/(tp +fp))\n",
    "#     except:\n",
    "#         tpfp.append(0)\n",
    "#     try:\n",
    "#         tnfn.append(tn/(tn +fn))\n",
    "#     except:\n",
    "#         tnfn.append(0)\n",
    "p = tp / (tp + fp)\n",
    "r = tp / (tp + fn)\n",
    "print(2 / (1/p + 1/r))\n",
    "#print (\"Bucket {}: \\n Count: {}\\n F1: {}\\n{},{},{},{}\".format(buckets[i+1], count, f1,tp,fp,tn,fn))"
   ]
  },
  {
   "cell_type": "code",
   "execution_count": 311,
   "id": "4d9eda1c",
   "metadata": {},
   "outputs": [
    {
     "name": "stdout",
     "output_type": "stream",
     "text": [
      "935 1115 2055 582\n"
     ]
    }
   ],
   "source": [
    "print(tp,fp,tn,fn)"
   ]
  },
  {
   "cell_type": "code",
   "execution_count": 312,
   "id": "bf509a94",
   "metadata": {},
   "outputs": [
    {
     "name": "stdout",
     "output_type": "stream",
     "text": [
      "0.6379347130360572\n"
     ]
    }
   ],
   "source": [
    "print ((tp + tn)/(tp+fp+tn+fn))"
   ]
  },
  {
   "cell_type": "code",
   "execution_count": 313,
   "id": "78411c41",
   "metadata": {},
   "outputs": [
    {
     "data": {
      "text/plain": [
       "<BarContainer object of 0 artists>"
      ]
     },
     "execution_count": 313,
     "metadata": {},
     "output_type": "execute_result"
    },
    {
     "data": {
      "image/png": "[encoded data removed]",
      "text/plain": [
       "<Figure size 432x288 with 1 Axes>"
      ]
     },
     "metadata": {
      "needs_background": "light"
     },
     "output_type": "display_data"
    }
   ],
   "source": [
    "plt.bar(np.arange(len(f1scores)),f1scores)"
   ]
  },
  {
   "cell_type": "code",
   "execution_count": 89,
   "id": "8873e5cc",
   "metadata": {},
   "outputs": [],
   "source": [
    "tp,fp,tn,fn = 0,0,0,0\n",
    "for j,p in enumerate (test_y):\n",
    "        if p == 0 and pt[j] == 0:\n",
    "            tn += 1\n",
    "        elif p == 0 and pt[j] == 1:\n",
    "            fp += 1\n",
    "        elif p == 1 and pt[j] == 0:\n",
    "            fn += 1\n",
    "        else: #p == 1 and preds[j] == 1:\n",
    "            tp += 1\n",
    "try:\n",
    "    p = tp / (tp + fp)\n",
    "except:\n",
    "    p = 0\n",
    "try:\n",
    "    r = tp / (tp + fn)\n",
    "except: \n",
    "    r = 0\n",
    "try:\n",
    "    f1 = 2/(1/p + 1/r)\n",
    "except:\n",
    "    f1 = 0"
   ]
  },
  {
   "cell_type": "code",
   "execution_count": 90,
   "id": "acb4f757",
   "metadata": {},
   "outputs": [
    {
     "data": {
      "text/plain": [
       "0.5403824521934758"
      ]
     },
     "execution_count": 90,
     "metadata": {},
     "output_type": "execute_result"
    }
   ],
   "source": [
    "f1"
   ]
  },
  {
   "cell_type": "code",
   "execution_count": 91,
   "id": "a1486696",
   "metadata": {},
   "outputs": [
    {
     "data": {
      "text/plain": [
       "0.4101775956284153"
      ]
     },
     "execution_count": 91,
     "metadata": {},
     "output_type": "execute_result"
    }
   ],
   "source": [
    "p"
   ]
  },
  {
   "cell_type": "code",
   "execution_count": 92,
   "id": "7dba755f",
   "metadata": {},
   "outputs": [
    {
     "ename": "AttributeError",
     "evalue": "'numpy.ndarray' object has no attribute 'detach'",
     "output_type": "error",
     "traceback": [
      "\u001b[0;31m---------------------------------------------------------------------------\u001b[0m",
      "\u001b[0;31mAttributeError\u001b[0m                            Traceback (most recent call last)",
      "\u001b[0;32m<ipython-input-92-3eefcd4ea6d1>\u001b[0m in \u001b[0;36m<module>\u001b[0;34m\u001b[0m\n\u001b[0;32m----> 1\u001b[0;31m \u001b[0mdev_cov\u001b[0m\u001b[0;34m=\u001b[0m \u001b[0mnp\u001b[0m\u001b[0;34m.\u001b[0m\u001b[0mmatmul\u001b[0m\u001b[0;34m(\u001b[0m\u001b[0mdev_features\u001b[0m\u001b[0;34m.\u001b[0m\u001b[0mdetach\u001b[0m\u001b[0;34m(\u001b[0m\u001b[0;34m)\u001b[0m\u001b[0;34m.\u001b[0m\u001b[0mnumpy\u001b[0m\u001b[0;34m(\u001b[0m\u001b[0;34m)\u001b[0m\u001b[0;34m.\u001b[0m\u001b[0mreshape\u001b[0m\u001b[0;34m(\u001b[0m\u001b[0;36m920\u001b[0m\u001b[0;34m,\u001b[0m\u001b[0;36m10\u001b[0m\u001b[0;34m)\u001b[0m\u001b[0;34m.\u001b[0m\u001b[0mtranspose\u001b[0m\u001b[0;34m(\u001b[0m\u001b[0;34m)\u001b[0m\u001b[0;34m,\u001b[0m \u001b[0mdev_features\u001b[0m\u001b[0;34m.\u001b[0m\u001b[0mdetach\u001b[0m\u001b[0;34m(\u001b[0m\u001b[0;34m)\u001b[0m\u001b[0;34m.\u001b[0m\u001b[0mnumpy\u001b[0m\u001b[0;34m(\u001b[0m\u001b[0;34m)\u001b[0m\u001b[0;34m.\u001b[0m\u001b[0mreshape\u001b[0m\u001b[0;34m(\u001b[0m\u001b[0;36m920\u001b[0m\u001b[0;34m,\u001b[0m\u001b[0;36m10\u001b[0m\u001b[0;34m)\u001b[0m\u001b[0;34m)\u001b[0m\u001b[0;34m\u001b[0m\u001b[0;34m\u001b[0m\u001b[0m\n\u001b[0m",
      "\u001b[0;31mAttributeError\u001b[0m: 'numpy.ndarray' object has no attribute 'detach'"
     ]
    }
   ],
   "source": [
    "dev_cov= np.matmul(dev_features.detach().numpy().reshape(920,10).transpose(), dev_features.detach().numpy().reshape(920,10))"
   ]
  },
  {
   "cell_type": "code",
   "execution_count": null,
   "id": "ba012469",
   "metadata": {},
   "outputs": [],
   "source": [
    "np.linalg.svd(dev_cov)"
   ]
  },
  {
   "cell_type": "code",
   "execution_count": null,
   "id": "6839daf4",
   "metadata": {},
   "outputs": [],
   "source": [
    "gpc_d.score(test_features, test_y)"
   ]
  },
  {
   "cell_type": "code",
   "execution_count": 270,
   "id": "a15fc1f0",
   "metadata": {},
   "outputs": [],
   "source": [
    "confdif = np.abs((difd - dift))"
   ]
  },
  {
   "cell_type": "code",
   "execution_count": 290,
   "id": "952442b8",
   "metadata": {},
   "outputs": [],
   "source": [
    "buckets = np.linspace(0,.5,3)"
   ]
  },
  {
   "cell_type": "code",
   "execution_count": 291,
   "id": "b2dca7a3",
   "metadata": {},
   "outputs": [],
   "source": [
    "vals = []\n",
    "for i in range(2):\n",
    "    count = 0\n",
    "    match = 0\n",
    "    for j,p in enumerate(test_y.reshape(4687,)):\n",
    "\n",
    "        if confdif[j] >= buckets[i] and confdif[j] < buckets[i+1]:\n",
    "            count += 1\n",
    "            if pt[j] == pd[j]:\n",
    "                match += 1\n",
    "    if count > 0:\n",
    "        vals.append(match / count)\n",
    "    else:\n",
    "        vals.append(0)"
   ]
  },
  {
   "cell_type": "code",
   "execution_count": 292,
   "id": "d3351a1a",
   "metadata": {},
   "outputs": [
    {
     "data": {
      "text/plain": [
       "<BarContainer object of 2 artists>"
      ]
     },
     "execution_count": 292,
     "metadata": {},
     "output_type": "execute_result"
    },
    {
     "data": {
      "image/png": "[encoded data removed]",
      "text/plain": [
       "<Figure size 432x288 with 1 Axes>"
      ]
     },
     "metadata": {
      "needs_background": "light"
     },
     "output_type": "display_data"
    }
   ],
   "source": [
    "plt.bar(np.arange(2), vals)"
   ]
  },
  {
   "cell_type": "code",
   "execution_count": 285,
   "id": "d55c8afc",
   "metadata": {},
   "outputs": [
    {
     "data": {
      "text/plain": [
       "14"
      ]
     },
     "execution_count": 285,
     "metadata": {},
     "output_type": "execute_result"
    }
   ],
   "source": [
    "len(vals)"
   ]
  },
  {
   "cell_type": "code",
   "execution_count": null,
   "id": "ef1397b6",
   "metadata": {},
   "outputs": [],
   "source": []
  }
 ],
 "metadata": {
  "kernelspec": {
   "display_name": "Python 3",
   "language": "python",
   "name": "python3"
  },
  "language_info": {
   "codemirror_mode": {
    "name": "ipython",
    "version": 3
   },
   "file_extension": ".py",
   "mimetype": "text/x-python",
   "name": "python",
   "nbconvert_exporter": "python",
   "pygments_lexer": "ipython3",
   "version": "3.6.15"
  }
 },
 "nbformat": 4,
 "nbformat_minor": 5
}
