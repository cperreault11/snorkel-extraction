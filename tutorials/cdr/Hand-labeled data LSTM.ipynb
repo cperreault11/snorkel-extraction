{
 "cells": [
  {
   "cell_type": "code",
   "execution_count": 97,
   "id": "0133ed03",
   "metadata": {},
   "outputs": [
    {
     "name": "stdout",
     "output_type": "stream",
     "text": [
      "The autoreload extension is already loaded. To reload it, use:\n",
      "  %reload_ext autoreload\n"
     ]
    }
   ],
   "source": [
    "%load_ext autoreload\n",
    "%autoreload 2\n",
    "%matplotlib inline\n",
    "\n",
    "import numpy as np\n",
    "from snorkel import SnorkelSession\n",
    "from scipy.sparse import vstack\n",
    "\n",
    "session = SnorkelSession()"
   ]
  },
  {
   "cell_type": "code",
   "execution_count": 119,
   "id": "b7321458",
   "metadata": {},
   "outputs": [
    {
     "name": "stdout",
     "output_type": "stream",
     "text": [
      "Training set:\t8433 candidates\n",
      "Dev set:\t920 candidates\n",
      "Test set:\t4683 candidates\n"
     ]
    }
   ],
   "source": [
    "from snorkel.models import candidate_subclass\n",
    "\n",
    "ChemicalDisease = candidate_subclass('ChemicalDisease', ['chemical', 'disease'])\n",
    "\n",
    "train = session.query(ChemicalDisease).filter(ChemicalDisease.split == 0).all()\n",
    "dev = session.query(ChemicalDisease).filter(ChemicalDisease.split == 1).all()\n",
    "test = session.query(ChemicalDisease).filter(ChemicalDisease.split == 2).all()\n",
    "\n",
    "print('Training set:\\t{0} candidates'.format(len(train)))\n",
    "print('Dev set:\\t{0} candidates'.format(len(dev)))\n",
    "print('Test set:\\t{0} candidates'.format(len(test)))"
   ]
  },
  {
   "cell_type": "code",
   "execution_count": 120,
   "id": "c9399be5",
   "metadata": {},
   "outputs": [],
   "source": [
    "# larger training set because this is the hand labeled model\n",
    "dev.extend(train[:1000])"
   ]
  },
  {
   "cell_type": "code",
   "execution_count": 99,
   "id": "813aa268",
   "metadata": {},
   "outputs": [],
   "source": [
    "from snorkel.annotations import load_gold_labels\n",
    "L_gold_dev = load_gold_labels(session, annotator_name='gold', split=1)\n",
    "L_gold_train = load_gold_labels(session, annotator_name='gold', split=0)"
   ]
  },
  {
   "cell_type": "code",
   "execution_count": 121,
   "id": "6eacd0e2",
   "metadata": {},
   "outputs": [],
   "source": [
    "combined = vstack((L_gold_dev, L_gold_train[:1000]))"
   ]
  },
  {
   "cell_type": "code",
   "execution_count": 125,
   "id": "9fdf2d15",
   "metadata": {},
   "outputs": [],
   "source": [
    "combined[combined == -1] = 0\n",
    "y = np.append(1-combined, combined,axis=1)"
   ]
  },
  {
   "cell_type": "code",
   "execution_count": 126,
   "id": "cd39dc53",
   "metadata": {},
   "outputs": [
    {
     "name": "stdout",
     "output_type": "stream",
     "text": [
      "[LSTM] Training model\n",
      "[LSTM] n_train=1675  #epochs=20  batch size=64\n",
      "[LSTM] Epoch 1 (4.79s)\tAverage loss=0.655357\n",
      "[LSTM] Epoch 6 (29.58s)\tAverage loss=0.270034\n",
      "[LSTM] Epoch 11 (54.26s)\tAverage loss=0.156114\n",
      "[LSTM] Epoch 16 (79.05s)\tAverage loss=0.093922\n",
      "[LSTM] Epoch 20 (98.78s)\tAverage loss=0.084508\n",
      "[LSTM] Training done (98.78s)\n"
     ]
    }
   ],
   "source": [
    "from snorkel.learning.pytorch import LSTM\n",
    "\n",
    "train_kwargs = {\n",
    "    'lr':              0.01,\n",
    "    'embedding_dim':   100,\n",
    "    'hidden_dim':      100,\n",
    "    'n_epochs':        20,\n",
    "    'dropout':         0.5,\n",
    "    'rebalance':       0.25,\n",
    "    'print_freq':      5,\n",
    "    'seed':            1701\n",
    "}\n",
    "\n",
    "lstm = LSTM(n_threads=None)\n",
    "lstm.train(dev, y, **train_kwargs)"
   ]
  },
  {
   "cell_type": "code",
   "execution_count": 102,
   "id": "2de6f3b9",
   "metadata": {},
   "outputs": [
    {
     "name": "stdout",
     "output_type": "stream",
     "text": [
      "AnnotatorLabels created: 0\n"
     ]
    },
    {
     "data": {
      "text/plain": [
       "<4683x1 sparse matrix of type '<class 'numpy.int64'>'\n",
       "\twith 4683 stored elements in Compressed Sparse Row format>"
      ]
     },
     "execution_count": 102,
     "metadata": {},
     "output_type": "execute_result"
    }
   ],
   "source": [
    "from load_external_annotations import load_external_labels\n",
    "load_external_labels(session, ChemicalDisease, split=2, annotator='gold')\n",
    "L_gold_test = load_gold_labels(session, annotator_name='gold', split=2)\n",
    "L_gold_test"
   ]
  },
  {
   "cell_type": "code",
   "execution_count": 127,
   "id": "8cebd921",
   "metadata": {},
   "outputs": [
    {
     "data": {
      "text/plain": [
       "(0.4670886075949367, 0.48745046235138706, 0.47705235940530055)"
      ]
     },
     "execution_count": 127,
     "metadata": {},
     "output_type": "execute_result"
    }
   ],
   "source": [
    "lstm.score(test, L_gold_test) # prec, rec, f1 I think"
   ]
  },
  {
   "cell_type": "code",
   "execution_count": 65,
   "id": "2d49c49f",
   "metadata": {},
   "outputs": [
    {
     "data": {
      "text/plain": [
       "0.5252830188679245"
      ]
     },
     "execution_count": 65,
     "metadata": {},
     "output_type": "execute_result"
    }
   ],
   "source": [
    "2/(1/.58 + 1/.48)"
   ]
  },
  {
   "cell_type": "code",
   "execution_count": 75,
   "id": "3548ee44",
   "metadata": {},
   "outputs": [],
   "source": [
    "out = lstm.marginals(test)"
   ]
  },
  {
   "cell_type": "code",
   "execution_count": 76,
   "id": "a7a843e0",
   "metadata": {},
   "outputs": [
    {
     "data": {
      "text/plain": [
       "(4683,)"
      ]
     },
     "execution_count": 76,
     "metadata": {},
     "output_type": "execute_result"
    }
   ],
   "source": [
    "out.shape"
   ]
  },
  {
   "cell_type": "code",
   "execution_count": 77,
   "id": "fda8513e",
   "metadata": {},
   "outputs": [],
   "source": [
    "pred = np.zeros(out.shape)"
   ]
  },
  {
   "cell_type": "code",
   "execution_count": 79,
   "id": "dd5fa35b",
   "metadata": {},
   "outputs": [],
   "source": [
    "pred[out >=.5] = 1"
   ]
  },
  {
   "cell_type": "code",
   "execution_count": 80,
   "id": "b2ffc161",
   "metadata": {},
   "outputs": [
    {
     "data": {
      "text/plain": [
       "array([ 1.,  1.,  0., ...,  0.,  0.,  1.])"
      ]
     },
     "execution_count": 80,
     "metadata": {},
     "output_type": "execute_result"
    }
   ],
   "source": [
    "pred"
   ]
  },
  {
   "cell_type": "code",
   "execution_count": 83,
   "id": "d660287b",
   "metadata": {},
   "outputs": [],
   "source": [
    "true = L_gold_test.toarray().reshape(4683,)"
   ]
  },
  {
   "cell_type": "code",
   "execution_count": 85,
   "id": "f0d89a9e",
   "metadata": {},
   "outputs": [],
   "source": [
    "true[true == -1] = 0"
   ]
  },
  {
   "cell_type": "code",
   "execution_count": 86,
   "id": "76574ac9",
   "metadata": {},
   "outputs": [
    {
     "data": {
      "text/plain": [
       "array([0, 1, 0, ..., 0, 0, 0], dtype=int64)"
      ]
     },
     "execution_count": 86,
     "metadata": {},
     "output_type": "execute_result"
    }
   ],
   "source": [
    "true"
   ]
  },
  {
   "cell_type": "code",
   "execution_count": 107,
   "id": "f34ca899",
   "metadata": {},
   "outputs": [],
   "source": [
    "fp, tp, fn, tn = 0,0,0,0"
   ]
  },
  {
   "cell_type": "code",
   "execution_count": 108,
   "id": "dece94dd",
   "metadata": {},
   "outputs": [],
   "source": [
    "for e,x in enumerate(true):\n",
    "    if x==1 and random[e]==1:\n",
    "        tp += 1\n",
    "    elif x==1 and random[e]==0:\n",
    "        fn += 1\n",
    "    elif x==0 and random[e]==1:\n",
    "        fp +=1\n",
    "    elif x==0 and random[e]==0:\n",
    "        tn +=1"
   ]
  },
  {
   "cell_type": "code",
   "execution_count": 109,
   "id": "fc98e8ce",
   "metadata": {},
   "outputs": [
    {
     "data": {
      "text/plain": [
       "4683"
      ]
     },
     "execution_count": 109,
     "metadata": {},
     "output_type": "execute_result"
    }
   ],
   "source": [
    "fp + tp + fn + tn"
   ]
  },
  {
   "cell_type": "code",
   "execution_count": 110,
   "id": "bf801f41",
   "metadata": {},
   "outputs": [],
   "source": [
    "p = tp / (tp + fp)\n",
    "r = tp / (tp + fn)"
   ]
  },
  {
   "cell_type": "code",
   "execution_count": 111,
   "id": "7b0c798a",
   "metadata": {},
   "outputs": [
    {
     "data": {
      "text/plain": [
       "0.3996836277353019"
      ]
     },
     "execution_count": 111,
     "metadata": {},
     "output_type": "execute_result"
    }
   ],
   "source": [
    "2 / (1/p + 1/r)"
   ]
  },
  {
   "cell_type": "code",
   "execution_count": 93,
   "id": "8be9abea",
   "metadata": {},
   "outputs": [],
   "source": [
    "# what i've shown here is just that this is the correct way to get the predictions.\n",
    "np.savetxt('handlabeled_predictions.txt',pred)"
   ]
  },
  {
   "cell_type": "code",
   "execution_count": 94,
   "id": "ee762dd6",
   "metadata": {},
   "outputs": [],
   "source": [
    "np.savetxt('test.txt',true)"
   ]
  },
  {
   "cell_type": "code",
   "execution_count": 128,
   "id": "1b286e10",
   "metadata": {},
   "outputs": [
    {
     "name": "stdout",
     "output_type": "stream",
     "text": [
      "[LSTM] Model saved as <hand_labeled_small>\n"
     ]
    }
   ],
   "source": [
    "lstm.save(model_name='hand_labeled_small')"
   ]
  },
  {
   "cell_type": "markdown",
   "id": "db4144d9",
   "metadata": {},
   "source": [
    "one potential next step: train GP classifier on the logits here and see if voting between the two gives better results at all - based on uncertainty?\n",
    "\n",
    "However, this probably won't work because they are trained on the same data, so uncertainty should be the same for both.\n",
    "\n",
    "Part of the problem here is that my hand labeled dataset and my snorkel dataset are trained on the same data-- there is no augmentation for the weak supervision model, so there's no \"massive\" amount of data that I can use. It would make things better if there had been augmentation in there as well -- then it's really a question of small vs large. "
   ]
  },
  {
   "cell_type": "code",
   "execution_count": 104,
   "id": "5dc8ef3b",
   "metadata": {},
   "outputs": [],
   "source": [
    "random = np.random.random(pred.shape)"
   ]
  },
  {
   "cell_type": "code",
   "execution_count": 105,
   "id": "e78fa466",
   "metadata": {},
   "outputs": [],
   "source": [
    "random[random < .5] = 0\n",
    "random[random >=.5] = 1"
   ]
  },
  {
   "cell_type": "code",
   "execution_count": 106,
   "id": "875f7d2b",
   "metadata": {},
   "outputs": [
    {
     "data": {
      "text/plain": [
       "(4683,)"
      ]
     },
     "execution_count": 106,
     "metadata": {},
     "output_type": "execute_result"
    }
   ],
   "source": [
    "random.shape"
   ]
  },
  {
   "cell_type": "code",
   "execution_count": 113,
   "id": "b572ff8b",
   "metadata": {},
   "outputs": [],
   "source": [
    "scores = []\n",
    "for t in range (1000):\n",
    "    random = np.random.random(pred.shape)\n",
    "    random[random < .5] = 0\n",
    "    random[random >=.5] = 1\n",
    "    fp, tp, fn, tn = 0,0,0,0\n",
    "    for e,x in enumerate(true):\n",
    "        if x==1 and random[e]==1:\n",
    "            tp += 1\n",
    "        elif x==1 and random[e]==0:\n",
    "            fn += 1\n",
    "        elif x==0 and random[e]==1:\n",
    "            fp +=1\n",
    "        elif x==0 and random[e]==0:\n",
    "            tn +=1\n",
    "    p = tp / (tp + fp)\n",
    "    r = tp / (tp + fn)\n",
    "    scores.append(2 / (1/p + 1/r))"
   ]
  },
  {
   "cell_type": "code",
   "execution_count": 114,
   "id": "d9e26e79",
   "metadata": {},
   "outputs": [],
   "source": [
    "scores = np.array(scores)"
   ]
  },
  {
   "cell_type": "code",
   "execution_count": 115,
   "id": "9a6dd8aa",
   "metadata": {},
   "outputs": [
    {
     "data": {
      "text/plain": [
       "0.39219376671965334"
      ]
     },
     "execution_count": 115,
     "metadata": {},
     "output_type": "execute_result"
    }
   ],
   "source": [
    "scores.mean()"
   ]
  },
  {
   "cell_type": "code",
   "execution_count": null,
   "id": "67e3c9e6",
   "metadata": {},
   "outputs": [],
   "source": []
  }
 ],
 "metadata": {
  "kernelspec": {
   "display_name": "Python 3 (ipykernel)",
   "language": "python",
   "name": "python3"
  },
  "language_info": {
   "codemirror_mode": {
    "name": "ipython",
    "version": 3
   },
   "file_extension": ".py",
   "mimetype": "text/x-python",
   "name": "python",
   "nbconvert_exporter": "python",
   "pygments_lexer": "ipython3",
   "version": "3.6.13"
  }
 },
 "nbformat": 4,
 "nbformat_minor": 5
}
