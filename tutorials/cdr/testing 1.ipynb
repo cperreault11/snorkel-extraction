{
 "cells": [
  {
   "cell_type": "code",
   "execution_count": 1,
   "id": "e9cec96f",
   "metadata": {},
   "outputs": [],
   "source": [
    "%load_ext autoreload\n",
    "%autoreload 2\n",
    "%matplotlib inline\n",
    "\n",
    "import numpy as np\n",
    "import matplotlib.pyplot as plt\n",
    "from sklearn.gaussian_process import GaussianProcessClassifier\n",
    "from sklearn.gaussian_process.kernels import RBF,WhiteKernel,DotProduct\n",
    "import pandas as pd\n",
    "import torch\n",
    "\n"
   ]
  },
  {
   "cell_type": "code",
   "execution_count": 2,
   "id": "89f90069",
   "metadata": {},
   "outputs": [],
   "source": [
    "from snorkel import SnorkelSession\n",
    "from snorkel.models import candidate_subclass\n",
    "from snorkel.annotations import load_gold_labels\n",
    "from snorkel.learning.pytorch import LSTM\n",
    "from snorkel.annotations import load_marginals\n",
    "\n",
    "from scipy import vstack\n",
    "session = SnorkelSession()"
   ]
  },
  {
   "cell_type": "code",
   "execution_count": 3,
   "id": "65ada24f",
   "metadata": {},
   "outputs": [
    {
     "name": "stdout",
     "output_type": "stream",
     "text": [
      "Training set:\t8439 candidates\n",
      "Dev set:\t920 candidates\n",
      "Test set:\t4687 candidates\n"
     ]
    }
   ],
   "source": [
    "ChemicalDisease = candidate_subclass('ChemicalDisease', ['chemical', 'disease'])\n",
    "\n",
    "train = session.query(ChemicalDisease).filter(ChemicalDisease.split == 0).all()\n",
    "dev = session.query(ChemicalDisease).filter(ChemicalDisease.split == 1).all()\n",
    "test = session.query(ChemicalDisease).filter(ChemicalDisease.split == 2).all()\n",
    "\n",
    "print('Training set:\\t{0} candidates'.format(len(train)))\n",
    "print('Dev set:\\t{0} candidates'.format(len(dev)))\n",
    "print('Test set:\\t{0} candidates'.format(len(test)))"
   ]
  },
  {
   "cell_type": "code",
   "execution_count": 4,
   "id": "6864bc5e",
   "metadata": {},
   "outputs": [],
   "source": [
    "train_marginals = load_marginals(session, split=0)"
   ]
  },
  {
   "cell_type": "code",
   "execution_count": 5,
   "id": "639c113e",
   "metadata": {},
   "outputs": [
    {
     "name": "stdout",
     "output_type": "stream",
     "text": [
      "AnnotatorLabels created: 0\n"
     ]
    }
   ],
   "source": [
    "from load_external_annotations import load_external_labels\n",
    "load_external_labels(session, ChemicalDisease, split=2, annotator='gold')\n",
    "L_gold_test = load_gold_labels(session, annotator_name='gold', split=2)\n",
    "L_gold_dev = load_gold_labels(session,annotator_name='gold',split=1)"
   ]
  },
  {
   "cell_type": "code",
   "execution_count": 6,
   "id": "9e08ada5",
   "metadata": {},
   "outputs": [
    {
     "data": {
      "text/plain": [
       "(920, 1)"
      ]
     },
     "execution_count": 6,
     "metadata": {},
     "output_type": "execute_result"
    }
   ],
   "source": [
    "L_gold_dev.shape"
   ]
  },
  {
   "cell_type": "code",
   "execution_count": 7,
   "id": "1687a314",
   "metadata": {},
   "outputs": [],
   "source": [
    "dev_labels = L_gold_dev.toarray().reshape(920,)\n",
    "dev_labels[dev_labels == -1] = 0"
   ]
  },
  {
   "cell_type": "code",
   "execution_count": 8,
   "id": "421feb5d",
   "metadata": {},
   "outputs": [],
   "source": [
    "full_train_set = train.copy()\n",
    "full_train_set.extend(dev)\n",
    "full_train_labels = list(train_marginals).copy()\n",
    "full_train_labels.extend(dev_labels)\n",
    "full_train_labels = np.array(full_train_labels)\n"
   ]
  },
  {
   "cell_type": "code",
   "execution_count": 9,
   "id": "572dd089",
   "metadata": {},
   "outputs": [
    {
     "data": {
      "text/plain": [
       "9359"
      ]
     },
     "execution_count": 9,
     "metadata": {},
     "output_type": "execute_result"
    }
   ],
   "source": [
    "len(full_train_set)\n",
    "# why is it dropping so many data points?"
   ]
  },
  {
   "cell_type": "code",
   "execution_count": 10,
   "id": "7541108c",
   "metadata": {},
   "outputs": [
    {
     "name": "stdout",
     "output_type": "stream",
     "text": [
      "[LSTM] Training model\n",
      "[LSTM] n_train=4428  #epochs=100  batch size=64\n"
     ]
    },
    {
     "name": "stderr",
     "output_type": "stream",
     "text": [
      "/home/eric/anaconda3/envs/snorkel-extraction/lib/python3.6/site-packages/torch/nn/functional.py:1386: UserWarning: nn.functional.sigmoid is deprecated. Use torch.sigmoid instead.\n",
      "  warnings.warn(\"nn.functional.sigmoid is deprecated. Use torch.sigmoid instead.\")\n"
     ]
    },
    {
     "name": "stdout",
     "output_type": "stream",
     "text": [
      "[LSTM] Epoch 1 (33.06s)\tAverage loss=0.692131\tDev F1=51.19\n",
      "[LSTM] Epoch 6 (201.46s)\tAverage loss=0.664827\tDev F1=54.81\n",
      "[LSTM] Epoch 11 (371.88s)\tAverage loss=0.659483\tDev F1=55.57\n",
      "[LSTM] Epoch 16 (536.62s)\tAverage loss=0.657433\tDev F1=54.43\n",
      "[LSTM] Epoch 21 (708.81s)\tAverage loss=0.656967\tDev F1=55.06\n",
      "[LSTM] Epoch 26 (880.63s)\tAverage loss=0.656011\tDev F1=55.14\n",
      "[LSTM] Epoch 31 (1048.63s)\tAverage loss=0.655951\tDev F1=55.85\n",
      "[LSTM] Epoch 36 (1218.79s)\tAverage loss=0.656334\tDev F1=55.20\n",
      "[LSTM] Epoch 41 (1387.00s)\tAverage loss=0.656591\tDev F1=55.28\n",
      "[LSTM] Epoch 46 (1543.82s)\tAverage loss=0.655859\tDev F1=53.87\n",
      "[LSTM] Epoch 51 (1712.02s)\tAverage loss=0.656006\tDev F1=54.58\n",
      "[LSTM] Epoch 56 (1876.90s)\tAverage loss=0.656893\tDev F1=54.60\n",
      "[LSTM] Epoch 61 (2045.54s)\tAverage loss=0.656408\tDev F1=53.03\n",
      "[LSTM] Epoch 66 (2211.16s)\tAverage loss=0.655425\tDev F1=54.41\n",
      "[LSTM] Epoch 71 (2380.00s)\tAverage loss=0.655792\tDev F1=53.80\n",
      "[LSTM] Epoch 76 (2549.52s)\tAverage loss=0.656323\tDev F1=52.85\n",
      "[LSTM] Epoch 81 (2716.50s)\tAverage loss=0.656343\tDev F1=53.26\n",
      "[LSTM] Model saved as <LSTM>\n",
      "[LSTM] Epoch 86 (2879.30s)\tAverage loss=0.656753\tDev F1=54.30\n",
      "[LSTM] Model saved as <LSTM>\n",
      "[LSTM] Epoch 91 (3048.34s)\tAverage loss=0.658378\tDev F1=53.93\n",
      "[LSTM] Epoch 96 (3227.31s)\tAverage loss=0.658173\tDev F1=52.81\n",
      "[LSTM] Epoch 100 (3812.96s)\tAverage loss=0.658550\tDev F1=54.90\n",
      "[LSTM] Model saved as <LSTM>\n",
      "[LSTM] Training done (3814.30s)\n",
      "[LSTM] Loaded model <LSTM>\n"
     ]
    }
   ],
   "source": [
    "train_kwargs = {\n",
    "    'lr':              0.01,\n",
    "    'embedding_dim':   100,\n",
    "    'hidden_dim':      100,\n",
    "    'n_epochs':        100,\n",
    "    'dropout':         0.5,\n",
    "    'rebalance':       .25,\n",
    "    'print_freq':      5,\n",
    "    'seed':            1701,\n",
    "    'num_layers':      5,\n",
    "}\n",
    "\n",
    "lstm = LSTM(n_threads=None)\n",
    "lstm.train(full_train_set, full_train_labels, X_dev=dev, Y_dev=L_gold_dev, **train_kwargs)"
   ]
  },
  {
   "cell_type": "code",
   "execution_count": 11,
   "id": "9ff4b548",
   "metadata": {},
   "outputs": [
    {
     "name": "stdout",
     "output_type": "stream",
     "text": [
      "[LSTM] Model saved as <trained_on_all_5_layers>\n"
     ]
    }
   ],
   "source": [
    "lstm.save('trained_on_all_5_layers')"
   ]
  },
  {
   "cell_type": "code",
   "execution_count": 12,
   "id": "1ba5876a",
   "metadata": {},
   "outputs": [
    {
     "data": {
      "text/plain": [
       "(0.40300457217504898, 0.81344759393539878, 0.5389823105481546)"
      ]
     },
     "execution_count": 12,
     "metadata": {},
     "output_type": "execute_result"
    }
   ],
   "source": [
    "lstm.score(test, L_gold_test)"
   ]
  },
  {
   "cell_type": "code",
   "execution_count": 13,
   "id": "0900ade1",
   "metadata": {},
   "outputs": [],
   "source": [
    "dev_features = lstm.feature_outputs(dev, 100)\n",
    "train_features = lstm.feature_outputs(train, 100)"
   ]
  },
  {
   "cell_type": "code",
   "execution_count": 14,
   "id": "b9097a79",
   "metadata": {},
   "outputs": [],
   "source": [
    "kernel_dev = RBF(1) + WhiteKernel(1)\n",
    "kernel_train = RBF(1) + WhiteKernel(1)\n",
    "gpc_dev = GaussianProcessClassifier(kernel = kernel_dev)\n",
    "gpc_train = GaussianProcessClassifier(kernel = kernel_train)"
   ]
  },
  {
   "cell_type": "code",
   "execution_count": 15,
   "id": "5758466a",
   "metadata": {},
   "outputs": [],
   "source": [
    "train_labels = train_marginals.copy()\n",
    "train_labels[train_labels > .5] = 1\n",
    "train_labels[train_labels <= .5] = 0"
   ]
  },
  {
   "cell_type": "code",
   "execution_count": 16,
   "id": "af1c7c32",
   "metadata": {},
   "outputs": [
    {
     "data": {
      "text/plain": [
       "GaussianProcessClassifier(copy_X_train=True,\n",
       "                          kernel=RBF(length_scale=1) + WhiteKernel(noise_level=1),\n",
       "                          max_iter_predict=100, multi_class='one_vs_rest',\n",
       "                          n_jobs=None, n_restarts_optimizer=0,\n",
       "                          optimizer='fmin_l_bfgs_b', random_state=None,\n",
       "                          warm_start=False)"
      ]
     },
     "execution_count": 16,
     "metadata": {},
     "output_type": "execute_result"
    }
   ],
   "source": [
    "gpc_dev.fit(dev_features.detach().numpy().reshape(920,10), dev_labels.reshape(920,))"
   ]
  },
  {
   "cell_type": "code",
   "execution_count": 18,
   "id": "87dc3f43",
   "metadata": {},
   "outputs": [
    {
     "data": {
      "text/plain": [
       "GaussianProcessClassifier(copy_X_train=True,\n",
       "                          kernel=RBF(length_scale=1) + WhiteKernel(noise_level=1),\n",
       "                          max_iter_predict=100, multi_class='one_vs_rest',\n",
       "                          n_jobs=None, n_restarts_optimizer=0,\n",
       "                          optimizer='fmin_l_bfgs_b', random_state=None,\n",
       "                          warm_start=False)"
      ]
     },
     "execution_count": 18,
     "metadata": {},
     "output_type": "execute_result"
    }
   ],
   "source": [
    "gpc_train.fit(train_features.detach().numpy().reshape(8439,10), train_labels.reshape(8439,))"
   ]
  },
  {
   "cell_type": "code",
   "execution_count": 19,
   "id": "f81e116f",
   "metadata": {},
   "outputs": [],
   "source": [
    "test_features = lstm.feature_outputs(test,100)"
   ]
  },
  {
   "cell_type": "code",
   "execution_count": 20,
   "id": "320cc1b5",
   "metadata": {},
   "outputs": [
    {
     "data": {
      "text/plain": [
       "RBF(length_scale=2.39) + WhiteKernel(noise_level=0.000143)"
      ]
     },
     "execution_count": 20,
     "metadata": {},
     "output_type": "execute_result"
    }
   ],
   "source": [
    "gpc_dev.kernel_"
   ]
  },
  {
   "cell_type": "code",
   "execution_count": 21,
   "id": "6e8591ef",
   "metadata": {},
   "outputs": [
    {
     "data": {
      "text/plain": [
       "RBF(length_scale=1.23) + WhiteKernel(noise_level=1e-05)"
      ]
     },
     "execution_count": 21,
     "metadata": {},
     "output_type": "execute_result"
    }
   ],
   "source": [
    "gpc_train.kernel_"
   ]
  },
  {
   "cell_type": "code",
   "execution_count": 23,
   "id": "543cac87",
   "metadata": {},
   "outputs": [],
   "source": [
    "ud = []\n",
    "ut = []\n",
    "preds_d = gpc_dev.predict_proba(test_features.detach().numpy().reshape(4687,10), uncertainty = ud)\n",
    "preds_t = gpc_train.predict_proba(test_features.detach().numpy().reshape(4687,10), uncertainty = ut)"
   ]
  },
  {
   "cell_type": "code",
   "execution_count": 24,
   "id": "354f4128",
   "metadata": {},
   "outputs": [],
   "source": [
    "ud = ud[0]\n",
    "ut = ut[0]"
   ]
  },
  {
   "cell_type": "code",
   "execution_count": 25,
   "id": "abd53235",
   "metadata": {},
   "outputs": [
    {
     "data": {
      "text/plain": [
       "array([0, 1], dtype=int64)"
      ]
     },
     "execution_count": 25,
     "metadata": {},
     "output_type": "execute_result"
    }
   ],
   "source": [
    "gpc_dev.classes_"
   ]
  },
  {
   "cell_type": "code",
   "execution_count": 26,
   "id": "d1d081ed",
   "metadata": {},
   "outputs": [],
   "source": [
    "# what is the order of the probabilties? I think I was probably doingit backwards actually. \n",
    "pd, pt = [],[]\n",
    "for x in preds_d:\n",
    "    if x[0] > .5:\n",
    "        pd.append(0)\n",
    "    else:\n",
    "        pd.append(1)\n",
    "for x in preds_t:\n",
    "    if x[0] > .5:\n",
    "        pt.append(0)\n",
    "    else:\n",
    "        pt.append(1) "
   ]
  },
  {
   "cell_type": "code",
   "execution_count": 27,
   "id": "ddddf76c",
   "metadata": {},
   "outputs": [],
   "source": [
    "ud = np.array(ud)\n",
    "ut = np.array(ut)"
   ]
  },
  {
   "cell_type": "code",
   "execution_count": 28,
   "id": "7eacd281",
   "metadata": {},
   "outputs": [
    {
     "data": {
      "text/plain": [
       "0.034926418807210514"
      ]
     },
     "execution_count": 28,
     "metadata": {},
     "output_type": "execute_result"
    }
   ],
   "source": [
    "ud.mean()"
   ]
  },
  {
   "cell_type": "code",
   "execution_count": 29,
   "id": "0b0b6842",
   "metadata": {},
   "outputs": [
    {
     "data": {
      "text/plain": [
       "0.33649372890799967"
      ]
     },
     "execution_count": 29,
     "metadata": {},
     "output_type": "execute_result"
    }
   ],
   "source": [
    "ud.max()"
   ]
  },
  {
   "cell_type": "code",
   "execution_count": 30,
   "id": "00bec096",
   "metadata": {},
   "outputs": [
    {
     "data": {
      "text/plain": [
       "0.021477884107130397"
      ]
     },
     "execution_count": 30,
     "metadata": {},
     "output_type": "execute_result"
    }
   ],
   "source": [
    "ut.mean()"
   ]
  },
  {
   "cell_type": "code",
   "execution_count": 31,
   "id": "04000429",
   "metadata": {},
   "outputs": [
    {
     "data": {
      "text/plain": [
       "0.27254946909777167"
      ]
     },
     "execution_count": 31,
     "metadata": {},
     "output_type": "execute_result"
    }
   ],
   "source": [
    "ut.max()"
   ]
  },
  {
   "cell_type": "code",
   "execution_count": 33,
   "id": "30e37fcc",
   "metadata": {},
   "outputs": [],
   "source": [
    "test_y = L_gold_test.toarray().reshape(4687,)\n",
    "test_y[test_y == -1] = 0"
   ]
  },
  {
   "cell_type": "code",
   "execution_count": 34,
   "id": "31180937",
   "metadata": {},
   "outputs": [],
   "source": [
    "buckets = np.linspace(0,.4,15)"
   ]
  },
  {
   "cell_type": "code",
   "execution_count": 35,
   "id": "5ec114b0",
   "metadata": {},
   "outputs": [
    {
     "name": "stdout",
     "output_type": "stream",
     "text": [
      "Bucket 0.028571428571428574: \n",
      " Count: 3083\n",
      " F1: 0.032520325203252036\n",
      "18,15,1994,1056\n",
      "Bucket 0.05714285714285715: \n",
      " Count: 847\n",
      " F1: 0.5260663507109005\n",
      "111,55,536,145\n",
      "Bucket 0.08571428571428572: \n",
      " Count: 468\n",
      " F1: 0.6968641114982578\n",
      "100,37,281,50\n",
      "Bucket 0.1142857142857143: \n",
      " Count: 107\n",
      " F1: 0.2\n",
      "2,0,89,16\n",
      "Bucket 0.14285714285714288: \n",
      " Count: 60\n",
      " F1: 0\n",
      "0,0,51,9\n",
      "Bucket 0.17142857142857143: \n",
      " Count: 44\n",
      " F1: 0\n",
      "0,0,39,5\n",
      "Bucket 0.2: \n",
      " Count: 24\n",
      " F1: 0\n",
      "0,0,21,3\n",
      "Bucket 0.2285714285714286: \n",
      " Count: 24\n",
      " F1: 0\n",
      "0,0,23,1\n",
      "Bucket 0.2571428571428572: \n",
      " Count: 12\n",
      " F1: 0\n",
      "0,0,12,0\n",
      "Bucket 0.28571428571428575: \n",
      " Count: 8\n",
      " F1: 0\n",
      "0,0,7,1\n",
      "Bucket 0.31428571428571433: \n",
      " Count: 8\n",
      " F1: 0\n",
      "0,0,8,0\n",
      "Bucket 0.34285714285714286: \n",
      " Count: 2\n",
      " F1: 0\n",
      "0,0,2,0\n",
      "Bucket 0.37142857142857144: \n",
      " Count: 0\n",
      " F1: 0\n",
      "0,0,0,0\n",
      "Bucket 0.4: \n",
      " Count: 0\n",
      " F1: 0\n",
      "0,0,0,0\n"
     ]
    }
   ],
   "source": [
    "f1scores = []\n",
    "for i in range(14):\n",
    "    count = 0\n",
    "    tp,fp,tn,fn = 0,0,0,0\n",
    "    for j,p in enumerate(test_y):\n",
    "        if ud[j] >= buckets[i] and ud[j] < buckets[i+1]:\n",
    "            count += 1\n",
    "            if p == 0 and pd[j] == 0:\n",
    "                tn += 1\n",
    "            elif p == 0 and pd[j] == 1:\n",
    "                fp += 1\n",
    "            elif p == 1 and pd[j] == 0:\n",
    "                fn += 1\n",
    "            else: #p == 1 and preds[j] == 1:\n",
    "                tp += 1\n",
    "    try:\n",
    "        p = tp / (tp + fp)\n",
    "    except:\n",
    "        p = 0\n",
    "    try:\n",
    "        r = tp / (tp + fn)\n",
    "    except: \n",
    "        r = 0\n",
    "    try:\n",
    "        f1 = 2/(1/p + 1/r)\n",
    "    except:\n",
    "        f1 = 0\n",
    "    f1scores.append(f1)\n",
    "    print (\"Bucket {}: \\n Count: {}\\n F1: {}\\n{},{},{},{}\".format(buckets[i+1], count, f1,tp,fp,tn,fn))"
   ]
  },
  {
   "cell_type": "code",
   "execution_count": 36,
   "id": "9d6a8b22",
   "metadata": {},
   "outputs": [
    {
     "data": {
      "text/plain": [
       "<BarContainer object of 14 artists>"
      ]
     },
     "execution_count": 36,
     "metadata": {},
     "output_type": "execute_result"
    },
    {
     "data": {
      "image/png": "[encoded data removed]",
      "text/plain": [
       "<Figure size 432x288 with 1 Axes>"
      ]
     },
     "metadata": {
      "needs_background": "light"
     },
     "output_type": "display_data"
    }
   ],
   "source": [
    "plt.bar(np.arange(len(f1scores)),f1scores)"
   ]
  },
  {
   "cell_type": "code",
   "execution_count": 37,
   "id": "21616d74",
   "metadata": {},
   "outputs": [
    {
     "name": "stdout",
     "output_type": "stream",
     "text": [
      "Bucket 0.028571428571428574: \n",
      " Count: 4066\n",
      " F1: 0.49265341400172863\n",
      "855,1379,1450,382\n",
      "Bucket 0.05714285714285715: \n",
      " Count: 212\n",
      " F1: 0.4782608695652174\n",
      "22,20,142,28\n",
      "Bucket 0.08571428571428572: \n",
      " Count: 90\n",
      " F1: 0.6779661016949152\n",
      "20,12,51,7\n",
      "Bucket 0.1142857142857143: \n",
      " Count: 96\n",
      " F1: 0.8428571428571429\n",
      "59,22,15,0\n",
      "Bucket 0.14285714285714288: \n",
      " Count: 63\n",
      " F1: 0.7777777777777779\n",
      "35,20,8,0\n",
      "Bucket 0.17142857142857143: \n",
      " Count: 74\n",
      " F1: 0.8495575221238939\n",
      "48,17,9,0\n",
      "Bucket 0.2: \n",
      " Count: 64\n",
      " F1: 0.8113207547169812\n",
      "43,19,1,1\n",
      "Bucket 0.2285714285714286: \n",
      " Count: 20\n",
      " F1: 0.8823529411764706\n",
      "15,4,1,0\n",
      "Bucket 0.2571428571428572: \n",
      " Count: 1\n",
      " F1: 1.0\n",
      "1,0,0,0\n",
      "Bucket 0.28571428571428575: \n",
      " Count: 1\n",
      " F1: 1.0\n",
      "1,0,0,0\n",
      "Bucket 0.31428571428571433: \n",
      " Count: 0\n",
      " F1: 0\n",
      "0,0,0,0\n",
      "Bucket 0.34285714285714286: \n",
      " Count: 0\n",
      " F1: 0\n",
      "0,0,0,0\n",
      "Bucket 0.37142857142857144: \n",
      " Count: 0\n",
      " F1: 0\n",
      "0,0,0,0\n",
      "Bucket 0.4: \n",
      " Count: 0\n",
      " F1: 0\n",
      "0,0,0,0\n"
     ]
    }
   ],
   "source": [
    "f1scores = []\n",
    "for i in range(14):\n",
    "    count = 0\n",
    "    tp,fp,tn,fn = 0,0,0,0\n",
    "    for j,p in enumerate(test_y):\n",
    "        if ut[j] >= buckets[i] and ut[j] < buckets[i+1]:\n",
    "            count += 1\n",
    "            if p == 0 and pt[j] == 0:\n",
    "                tn += 1\n",
    "            elif p == 0 and pt[j] == 1:\n",
    "                fp += 1\n",
    "            elif p == 1 and pt[j] == 0:\n",
    "                fn += 1\n",
    "            else: #p == 1 and preds[j] == 1:\n",
    "                tp += 1\n",
    "    try:\n",
    "        p = tp / (tp + fp)\n",
    "    except:\n",
    "        p = 0\n",
    "    try:\n",
    "        r = tp / (tp + fn)\n",
    "    except: \n",
    "        r = 0\n",
    "    try:\n",
    "        f1 = 2/(1/p + 1/r)\n",
    "    except:\n",
    "        f1 = 0\n",
    "    f1scores.append(f1)\n",
    "    print (\"Bucket {}: \\n Count: {}\\n F1: {}\\n{},{},{},{}\".format(buckets[i+1], count, f1,tp,fp,tn,fn))"
   ]
  },
  {
   "cell_type": "code",
   "execution_count": 38,
   "id": "d789a8fd",
   "metadata": {},
   "outputs": [
    {
     "data": {
      "text/plain": [
       "<BarContainer object of 14 artists>"
      ]
     },
     "execution_count": 38,
     "metadata": {},
     "output_type": "execute_result"
    },
    {
     "data": {
      "image/png": "[encoded data removed]",
      "text/plain": [
       "<Figure size 432x288 with 1 Axes>"
      ]
     },
     "metadata": {
      "needs_background": "light"
     },
     "output_type": "display_data"
    }
   ],
   "source": [
    "plt.bar(np.arange(len(f1scores)),f1scores)"
   ]
  },
  {
   "cell_type": "code",
   "execution_count": 39,
   "id": "c9d58ecd",
   "metadata": {},
   "outputs": [],
   "source": [
    "tp,fp,tn,fn = 0,0,0,0\n",
    "for j,p in enumerate (test_y):\n",
    "        if p == 0 and pt[j] == 0:\n",
    "            tn += 1\n",
    "        elif p == 0 and pt[j] == 1:\n",
    "            fp += 1\n",
    "        elif p == 1 and pt[j] == 0:\n",
    "            fn += 1\n",
    "        else: #p == 1 and preds[j] == 1:\n",
    "            tp += 1\n",
    "try:\n",
    "    p = tp / (tp + fp)\n",
    "except:\n",
    "    p = 0\n",
    "try:\n",
    "    r = tp / (tp + fn)\n",
    "except: \n",
    "    r = 0\n",
    "try:\n",
    "    f1 = 2/(1/p + 1/r)\n",
    "except:\n",
    "    f1 = 0"
   ]
  },
  {
   "cell_type": "code",
   "execution_count": 40,
   "id": "2aa617a7",
   "metadata": {},
   "outputs": [
    {
     "data": {
      "text/plain": [
       "0.534923339011925"
      ]
     },
     "execution_count": 40,
     "metadata": {},
     "output_type": "execute_result"
    }
   ],
   "source": [
    "f1"
   ]
  },
  {
   "cell_type": "code",
   "execution_count": 41,
   "id": "c74104ea",
   "metadata": {},
   "outputs": [
    {
     "data": {
      "text/plain": [
       "0.42399691358024694"
      ]
     },
     "execution_count": 41,
     "metadata": {},
     "output_type": "execute_result"
    }
   ],
   "source": [
    "p"
   ]
  },
  {
   "cell_type": "code",
   "execution_count": 42,
   "id": "61093573",
   "metadata": {},
   "outputs": [],
   "source": [
    "dev_cov= np.matmul(dev_features.detach().numpy().reshape(920,10).transpose(), dev_features.detach().numpy().reshape(920,10))"
   ]
  },
  {
   "cell_type": "code",
   "execution_count": 43,
   "id": "f6f68b8f",
   "metadata": {},
   "outputs": [
    {
     "data": {
      "text/plain": [
       "(array([[-0.02454288,  0.16827181, -0.41313824,  0.17485811, -0.03450857,\n",
       "         -0.23114122,  0.15643756,  0.25352567, -0.77410644,  0.1649783 ],\n",
       "        [ 0.00619909, -0.50984198,  0.33170435,  0.24501438,  0.46111348,\n",
       "          0.27290991,  0.44996852, -0.08444283, -0.24873303,  0.10671026],\n",
       "        [-0.01535363, -0.03959166, -0.24530603,  0.26027584, -0.50752044,\n",
       "          0.653611  ,  0.26826057,  0.29773378,  0.15116408, -0.04510142],\n",
       "        [-0.01895368, -0.43400118, -0.07343823, -0.17658697,  0.21570389,\n",
       "          0.13726819, -0.55691516,  0.6298123 , -0.04909476,  0.01041822],\n",
       "        [ 0.02725045,  0.04966469,  0.58343935,  0.41767359, -0.27124715,\n",
       "         -0.4156251 ,  0.06474347,  0.4683696 ,  0.10342843,  0.03687319],\n",
       "        [ 0.02504365,  0.19075061,  0.53299421, -0.54584241, -0.28373045,\n",
       "          0.31266025, -0.02052755,  0.01739667, -0.44920373, -0.01388809],\n",
       "        [ 0.99808782,  0.00375422, -0.04917443, -0.00813287,  0.02061067,\n",
       "          0.00714273,  0.01177458,  0.02652977,  0.00126495, -0.00155208],\n",
       "        [-0.00834265,  0.04993742, -0.00859909,  0.03712168,  0.13869232,\n",
       "         -0.03909792,  0.1075664 ,  0.10634993, -0.12024143, -0.96844292],\n",
       "        [ 0.01078318, -0.683855  , -0.11692305, -0.24863507, -0.51335967,\n",
       "         -0.35775384,  0.1461706 , -0.17439193, -0.06155265, -0.098197  ],\n",
       "        [-0.03208198,  0.11315212, -0.11433918, -0.52422076,  0.21166453,\n",
       "         -0.16117035,  0.59434777,  0.42565924,  0.28792444,  0.10086226]], dtype=float32),\n",
       " array([  6.03445557e+03,   1.26766243e+01,   8.59581757e+00,\n",
       "          4.76456594e+00,   2.92615080e+00,   1.81839323e+00,\n",
       "          1.30576563e+00,   6.93353593e-01,   2.70062655e-01,\n",
       "          1.52880102e-01], dtype=float32),\n",
       " array([[-0.02454288,  0.00619909, -0.01535363, -0.01895368,  0.02725045,\n",
       "          0.02504365,  0.99808782, -0.00834265,  0.01078318, -0.03208198],\n",
       "        [ 0.16827181, -0.50984198, -0.03959166, -0.43400118,  0.04966469,\n",
       "          0.19075061,  0.00375422,  0.04993742, -0.683855  ,  0.11315212],\n",
       "        [-0.41313824,  0.33170435, -0.24530603, -0.07343823,  0.58343935,\n",
       "          0.53299421, -0.04917443, -0.00859909, -0.11692305, -0.11433918],\n",
       "        [ 0.17485811,  0.24501438,  0.26027584, -0.17658697,  0.41767359,\n",
       "         -0.54584241, -0.00813287,  0.03712168, -0.24863507, -0.52422076],\n",
       "        [-0.03450857,  0.46111348, -0.50752044,  0.21570389, -0.27124715,\n",
       "         -0.28373045,  0.02061067,  0.13869232, -0.51335967,  0.21166453],\n",
       "        [-0.23114122,  0.27290991,  0.653611  ,  0.13726819, -0.4156251 ,\n",
       "          0.31266025,  0.00714273, -0.03909792, -0.35775384, -0.16117035],\n",
       "        [ 0.15643756,  0.44996852,  0.26826057, -0.55691516,  0.06474347,\n",
       "         -0.02052755,  0.01177458,  0.1075664 ,  0.1461706 ,  0.59434777],\n",
       "        [ 0.25352567, -0.08444283,  0.29773378,  0.6298123 ,  0.4683696 ,\n",
       "          0.01739667,  0.02652977,  0.10634993, -0.17439193,  0.42565924],\n",
       "        [-0.77410644, -0.24873303,  0.15116408, -0.04909476,  0.10342843,\n",
       "         -0.44920373,  0.00126495, -0.12024143, -0.06155265,  0.28792444],\n",
       "        [ 0.1649783 ,  0.10671026, -0.04510142,  0.01041822,  0.03687319,\n",
       "         -0.01388809, -0.00155208, -0.96844292, -0.098197  ,  0.10086226]], dtype=float32))"
      ]
     },
     "execution_count": 43,
     "metadata": {},
     "output_type": "execute_result"
    }
   ],
   "source": [
    "np.linalg.svd(dev_cov)"
   ]
  },
  {
   "cell_type": "code",
   "execution_count": 44,
   "id": "4c243c1c",
   "metadata": {},
   "outputs": [
    {
     "data": {
      "text/plain": [
       "0.68260869565217386"
      ]
     },
     "execution_count": 44,
     "metadata": {},
     "output_type": "execute_result"
    }
   ],
   "source": [
    "gpc_dev.score(dev_features.detach().numpy().reshape(920,10), dev_labels)"
   ]
  },
  {
   "cell_type": "code",
   "execution_count": 48,
   "id": "d604e904",
   "metadata": {},
   "outputs": [
    {
     "data": {
      "text/plain": [
       "0.80874511198009247"
      ]
     },
     "execution_count": 48,
     "metadata": {},
     "output_type": "execute_result"
    }
   ],
   "source": [
    "gpc_train.score(train_features.detach().numpy().reshape(8439,10), train_labels)"
   ]
  },
  {
   "cell_type": "code",
   "execution_count": 49,
   "id": "ed971368",
   "metadata": {},
   "outputs": [
    {
     "data": {
      "text/plain": [
       "RBF(length_scale=2.39) + WhiteKernel(noise_level=0.000143)"
      ]
     },
     "execution_count": 49,
     "metadata": {},
     "output_type": "execute_result"
    }
   ],
   "source": [
    "gpc_dev.kernel_"
   ]
  },
  {
   "cell_type": "code",
   "execution_count": 50,
   "id": "c777b5a7",
   "metadata": {},
   "outputs": [
    {
     "data": {
      "text/plain": [
       "RBF(length_scale=1.23) + WhiteKernel(noise_level=1e-05)"
      ]
     },
     "execution_count": 50,
     "metadata": {},
     "output_type": "execute_result"
    }
   ],
   "source": [
    "gpc_train.kernel_"
   ]
  },
  {
   "cell_type": "code",
   "execution_count": null,
   "id": "867485d6",
   "metadata": {},
   "outputs": [],
   "source": []
  },
  {
   "cell_type": "code",
   "execution_count": null,
   "id": "e9320b55",
   "metadata": {},
   "outputs": [],
   "source": []
  },
  {
   "cell_type": "code",
   "execution_count": null,
   "id": "306bb388",
   "metadata": {},
   "outputs": [],
   "source": []
  }
 ],
 "metadata": {
  "kernelspec": {
   "display_name": "Python 3",
   "language": "python",
   "name": "python3"
  },
  "language_info": {
   "codemirror_mode": {
    "name": "ipython",
    "version": 3
   },
   "file_extension": ".py",
   "mimetype": "text/x-python",
   "name": "python",
   "nbconvert_exporter": "python",
   "pygments_lexer": "ipython3",
   "version": "3.6.15"
  }
 },
 "nbformat": 4,
 "nbformat_minor": 5
}
