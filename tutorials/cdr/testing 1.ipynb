{
 "cells": [
  {
   "cell_type": "code",
   "execution_count": 1,
   "id": "e9cec96f",
   "metadata": {},
   "outputs": [],
   "source": [
    "%load_ext autoreload\n",
    "%autoreload 2\n",
    "%matplotlib inline\n",
    "\n",
    "import numpy as np\n",
    "import matplotlib.pyplot as plt\n",
    "from sklearn.gaussian_process import GaussianProcessClassifier\n",
    "from sklearn.gaussian_process.kernels import RBF,WhiteKernel,DotProduct\n",
    "import pandas as pd\n",
    "import torch\n",
    "\n"
   ]
  },
  {
   "cell_type": "code",
   "execution_count": 2,
   "id": "89f90069",
   "metadata": {},
   "outputs": [],
   "source": [
    "from snorkel import SnorkelSession\n",
    "from snorkel.models import candidate_subclass\n",
    "from snorkel.annotations import load_gold_labels\n",
    "from snorkel.learning.pytorch import LSTM\n",
    "from snorkel.annotations import load_marginals\n",
    "\n",
    "from scipy import vstack\n",
    "session = SnorkelSession()"
   ]
  },
  {
   "cell_type": "code",
   "execution_count": 3,
   "id": "65ada24f",
   "metadata": {},
   "outputs": [
    {
     "name": "stdout",
     "output_type": "stream",
     "text": [
      "Training set:\t8433 candidates\n",
      "Dev set:\t920 candidates\n",
      "Test set:\t4683 candidates\n"
     ]
    }
   ],
   "source": [
    "ChemicalDisease = candidate_subclass('ChemicalDisease', ['chemical', 'disease'])\n",
    "\n",
    "train = session.query(ChemicalDisease).filter(ChemicalDisease.split == 0).all()\n",
    "dev = session.query(ChemicalDisease).filter(ChemicalDisease.split == 1).all()\n",
    "test = session.query(ChemicalDisease).filter(ChemicalDisease.split == 2).all()\n",
    "\n",
    "print('Training set:\\t{0} candidates'.format(len(train)))\n",
    "print('Dev set:\\t{0} candidates'.format(len(dev)))\n",
    "print('Test set:\\t{0} candidates'.format(len(test)))"
   ]
  },
  {
   "cell_type": "code",
   "execution_count": 4,
   "id": "6864bc5e",
   "metadata": {},
   "outputs": [],
   "source": [
    "train_marginals = load_marginals(session, split=0)"
   ]
  },
  {
   "cell_type": "code",
   "execution_count": 5,
   "id": "639c113e",
   "metadata": {},
   "outputs": [
    {
     "name": "stdout",
     "output_type": "stream",
     "text": [
      "AnnotatorLabels created: 0\n"
     ]
    }
   ],
   "source": [
    "from load_external_annotations import load_external_labels\n",
    "load_external_labels(session, ChemicalDisease, split=2, annotator='gold')\n",
    "L_gold_test = load_gold_labels(session, annotator_name='gold', split=2)\n",
    "L_gold_dev = load_gold_labels(session,annotator_name='gold',split=1)"
   ]
  },
  {
   "cell_type": "code",
   "execution_count": 6,
   "id": "9e08ada5",
   "metadata": {},
   "outputs": [
    {
     "data": {
      "text/plain": [
       "(920, 1)"
      ]
     },
     "execution_count": 6,
     "metadata": {},
     "output_type": "execute_result"
    }
   ],
   "source": [
    "L_gold_dev.shape"
   ]
  },
  {
   "cell_type": "code",
   "execution_count": 7,
   "id": "1687a314",
   "metadata": {},
   "outputs": [],
   "source": [
    "dev_labels = L_gold_dev.toarray().reshape(920,)\n",
    "dev_labels[dev_labels == -1] = 0"
   ]
  },
  {
   "cell_type": "code",
   "execution_count": 8,
   "id": "421feb5d",
   "metadata": {},
   "outputs": [],
   "source": [
    "full_train_set = train.copy()\n",
    "full_train_set.extend(dev)\n",
    "full_train_labels = list(train_marginals).copy()\n",
    "full_train_labels.extend(dev_labels)\n",
    "full_train_labels = np.array(full_train_labels)\n"
   ]
  },
  {
   "cell_type": "code",
   "execution_count": 9,
   "id": "572dd089",
   "metadata": {},
   "outputs": [
    {
     "data": {
      "text/plain": [
       "9353"
      ]
     },
     "execution_count": 9,
     "metadata": {},
     "output_type": "execute_result"
    }
   ],
   "source": [
    "len(full_train_set)\n",
    "# why is it dropping so many data points?"
   ]
  },
  {
   "cell_type": "code",
   "execution_count": 11,
   "id": "7541108c",
   "metadata": {},
   "outputs": [
    {
     "name": "stdout",
     "output_type": "stream",
     "text": [
      "[LSTM] Training model\n",
      "[LSTM] n_train=8573  #epochs=20  batch size=64\n",
      "[LSTM] Epoch 1 (92.82s)\tAverage loss=0.687648\tDev F1=50.00\n"
     ]
    },
    {
     "ename": "KeyboardInterrupt",
     "evalue": "",
     "output_type": "error",
     "traceback": [
      "\u001b[0;31m---------------------------------------------------------------------------\u001b[0m",
      "\u001b[0;31mKeyboardInterrupt\u001b[0m                         Traceback (most recent call last)",
      "\u001b[0;32m<ipython-input-11-ecf96d72639c>\u001b[0m in \u001b[0;36m<module>\u001b[0;34m\u001b[0m\n\u001b[1;32m     12\u001b[0m \u001b[0;34m\u001b[0m\u001b[0m\n\u001b[1;32m     13\u001b[0m \u001b[0mlstm\u001b[0m \u001b[0;34m=\u001b[0m \u001b[0mLSTM\u001b[0m\u001b[0;34m(\u001b[0m\u001b[0mn_threads\u001b[0m\u001b[0;34m=\u001b[0m\u001b[0;32mNone\u001b[0m\u001b[0;34m)\u001b[0m\u001b[0;34m\u001b[0m\u001b[0;34m\u001b[0m\u001b[0m\n\u001b[0;32m---> 14\u001b[0;31m \u001b[0mlstm\u001b[0m\u001b[0;34m.\u001b[0m\u001b[0mtrain\u001b[0m\u001b[0;34m(\u001b[0m\u001b[0mfull_train_set\u001b[0m\u001b[0;34m,\u001b[0m \u001b[0mfull_train_labels\u001b[0m\u001b[0;34m,\u001b[0m \u001b[0mX_dev\u001b[0m\u001b[0;34m=\u001b[0m\u001b[0mdev\u001b[0m\u001b[0;34m,\u001b[0m \u001b[0mY_dev\u001b[0m\u001b[0;34m=\u001b[0m\u001b[0mL_gold_dev\u001b[0m\u001b[0;34m,\u001b[0m \u001b[0;34m**\u001b[0m\u001b[0mtrain_kwargs\u001b[0m\u001b[0;34m)\u001b[0m\u001b[0;34m\u001b[0m\u001b[0;34m\u001b[0m\u001b[0m\n\u001b[0m",
      "\u001b[0;32m~/snorkel-extraction/snorkel/learning/pytorch/rnn/rnn_base.py\u001b[0m in \u001b[0;36mtrain\u001b[0;34m(self, X_train, Y_train, X_dev, **kwargs)\u001b[0m\n\u001b[1;32m    106\u001b[0m         \u001b[0;31m# Note we pass word_dict through here so it gets saved...\u001b[0m\u001b[0;34m\u001b[0m\u001b[0;34m\u001b[0m\u001b[0;34m\u001b[0m\u001b[0m\n\u001b[1;32m    107\u001b[0m         super(RNNBase, self).train(X_train, Y_train, X_dev=X_dev,\n\u001b[0;32m--> 108\u001b[0;31m             word_dict=self.word_dict, **kwargs)\n\u001b[0m\u001b[1;32m    109\u001b[0m \u001b[0;34m\u001b[0m\u001b[0m\n",
      "\u001b[0;32m~/snorkel-extraction/snorkel/learning/pytorch/noise_aware_model.py\u001b[0m in \u001b[0;36mtrain\u001b[0;34m(self, X_train, Y_train, n_epochs, lr, batch_size, rebalance, X_dev, Y_dev, print_freq, dev_ckpt, dev_ckpt_delay, save_dir, seed, use_cudnn, **kwargs)\u001b[0m\n\u001b[1;32m    246\u001b[0m \u001b[0;34m\u001b[0m\u001b[0m\n\u001b[1;32m    247\u001b[0m                 \u001b[0;31m#Compute gradient\u001b[0m\u001b[0;34m\u001b[0m\u001b[0;34m\u001b[0m\u001b[0;34m\u001b[0m\u001b[0m\n\u001b[0;32m--> 248\u001b[0;31m                 \u001b[0mcalculated_loss\u001b[0m\u001b[0;34m.\u001b[0m\u001b[0mbackward\u001b[0m\u001b[0;34m(\u001b[0m\u001b[0;34m)\u001b[0m\u001b[0;34m\u001b[0m\u001b[0;34m\u001b[0m\u001b[0m\n\u001b[0m\u001b[1;32m    249\u001b[0m \u001b[0;34m\u001b[0m\u001b[0m\n\u001b[1;32m    250\u001b[0m                 \u001b[0;31m#Step on the optimizer\u001b[0m\u001b[0;34m\u001b[0m\u001b[0;34m\u001b[0m\u001b[0;34m\u001b[0m\u001b[0m\n",
      "\u001b[0;32m~/anaconda3/envs/snorkel-extraction/lib/python3.6/site-packages/torch/tensor.py\u001b[0m in \u001b[0;36mbackward\u001b[0;34m(self, gradient, retain_graph, create_graph)\u001b[0m\n\u001b[1;32m    105\u001b[0m                 \u001b[0mproducts\u001b[0m\u001b[0;34m.\u001b[0m \u001b[0mDefaults\u001b[0m \u001b[0mto\u001b[0m\u001b[0;31m \u001b[0m\u001b[0;31m`\u001b[0m\u001b[0;31m`\u001b[0m\u001b[0;32mFalse\u001b[0m\u001b[0;31m`\u001b[0m\u001b[0;31m`\u001b[0m\u001b[0;34m.\u001b[0m\u001b[0;34m\u001b[0m\u001b[0;34m\u001b[0m\u001b[0m\n\u001b[1;32m    106\u001b[0m         \"\"\"\n\u001b[0;32m--> 107\u001b[0;31m         \u001b[0mtorch\u001b[0m\u001b[0;34m.\u001b[0m\u001b[0mautograd\u001b[0m\u001b[0;34m.\u001b[0m\u001b[0mbackward\u001b[0m\u001b[0;34m(\u001b[0m\u001b[0mself\u001b[0m\u001b[0;34m,\u001b[0m \u001b[0mgradient\u001b[0m\u001b[0;34m,\u001b[0m \u001b[0mretain_graph\u001b[0m\u001b[0;34m,\u001b[0m \u001b[0mcreate_graph\u001b[0m\u001b[0;34m)\u001b[0m\u001b[0;34m\u001b[0m\u001b[0;34m\u001b[0m\u001b[0m\n\u001b[0m\u001b[1;32m    108\u001b[0m \u001b[0;34m\u001b[0m\u001b[0m\n\u001b[1;32m    109\u001b[0m     \u001b[0;32mdef\u001b[0m \u001b[0mregister_hook\u001b[0m\u001b[0;34m(\u001b[0m\u001b[0mself\u001b[0m\u001b[0;34m,\u001b[0m \u001b[0mhook\u001b[0m\u001b[0;34m)\u001b[0m\u001b[0;34m:\u001b[0m\u001b[0;34m\u001b[0m\u001b[0;34m\u001b[0m\u001b[0m\n",
      "\u001b[0;32m~/anaconda3/envs/snorkel-extraction/lib/python3.6/site-packages/torch/autograd/__init__.py\u001b[0m in \u001b[0;36mbackward\u001b[0;34m(tensors, grad_tensors, retain_graph, create_graph, grad_variables)\u001b[0m\n\u001b[1;32m     91\u001b[0m     Variable._execution_engine.run_backward(\n\u001b[1;32m     92\u001b[0m         \u001b[0mtensors\u001b[0m\u001b[0;34m,\u001b[0m \u001b[0mgrad_tensors\u001b[0m\u001b[0;34m,\u001b[0m \u001b[0mretain_graph\u001b[0m\u001b[0;34m,\u001b[0m \u001b[0mcreate_graph\u001b[0m\u001b[0;34m,\u001b[0m\u001b[0;34m\u001b[0m\u001b[0;34m\u001b[0m\u001b[0m\n\u001b[0;32m---> 93\u001b[0;31m         allow_unreachable=True)  # allow_unreachable flag\n\u001b[0m\u001b[1;32m     94\u001b[0m \u001b[0;34m\u001b[0m\u001b[0m\n\u001b[1;32m     95\u001b[0m \u001b[0;34m\u001b[0m\u001b[0m\n",
      "\u001b[0;31mKeyboardInterrupt\u001b[0m: "
     ]
    }
   ],
   "source": [
    "train_kwargs = {\n",
    "    'lr':              0.01,\n",
    "    'embedding_dim':   100,\n",
    "    'hidden_dim':      100,\n",
    "    'n_epochs':        20,\n",
    "    'dropout':         0.5,\n",
    "    'rebalance':       False,\n",
    "    'print_freq':      5,\n",
    "    'seed':            1701,\n",
    "    'num_layers':      5,\n",
    "}\n",
    "\n",
    "lstm = LSTM(n_threads=None)\n",
    "lstm.train(full_train_set, full_train_labels, X_dev=dev, Y_dev=L_gold_dev, **train_kwargs)"
   ]
  },
  {
   "cell_type": "code",
   "execution_count": null,
   "id": "9ff4b548",
   "metadata": {},
   "outputs": [],
   "source": [
    "lstm.save('trained_on_all_5_layers')"
   ]
  },
  {
   "cell_type": "code",
   "execution_count": null,
   "id": "1ba5876a",
   "metadata": {},
   "outputs": [],
   "source": [
    "lstm.score(test, L_gold_test)"
   ]
  },
  {
   "cell_type": "code",
   "execution_count": 61,
   "id": "0900ade1",
   "metadata": {},
   "outputs": [],
   "source": [
    "dev_features = lstm.feature_outputs(dev, 100)\n",
    "train_features = lstm.feature_outputs(train, 100)"
   ]
  },
  {
   "cell_type": "code",
   "execution_count": 62,
   "id": "b9097a79",
   "metadata": {},
   "outputs": [],
   "source": [
    "kernel_dev = RBF(1) + WhiteKernel(1)\n",
    "kernel_train = RBF(1) + WhiteKernel(1)\n",
    "gpc_dev = GaussianProcessClassifier(kernel = kernel_dev)\n",
    "gpc_train = GaussianProcessClassifier(kernel = kernel_train)"
   ]
  },
  {
   "cell_type": "code",
   "execution_count": 63,
   "id": "5758466a",
   "metadata": {},
   "outputs": [],
   "source": [
    "train_labels = train_marginals.copy()\n",
    "train_labels[train_labels > .5] = 1\n",
    "train_labels[train_labels <= .5] = 0"
   ]
  },
  {
   "cell_type": "code",
   "execution_count": 64,
   "id": "af1c7c32",
   "metadata": {},
   "outputs": [
    {
     "data": {
      "text/plain": [
       "GaussianProcessClassifier(copy_X_train=True,\n",
       "                          kernel=RBF(length_scale=1) + WhiteKernel(noise_level=1),\n",
       "                          max_iter_predict=100, multi_class='one_vs_rest',\n",
       "                          n_jobs=None, n_restarts_optimizer=0,\n",
       "                          optimizer='fmin_l_bfgs_b', random_state=None,\n",
       "                          warm_start=False)"
      ]
     },
     "execution_count": 64,
     "metadata": {},
     "output_type": "execute_result"
    }
   ],
   "source": [
    "gpc_dev.fit(dev_features.detach().numpy().reshape(920,10), dev_labels.reshape(920,))"
   ]
  },
  {
   "cell_type": "code",
   "execution_count": 65,
   "id": "87dc3f43",
   "metadata": {},
   "outputs": [
    {
     "data": {
      "text/plain": [
       "GaussianProcessClassifier(copy_X_train=True,\n",
       "                          kernel=RBF(length_scale=1) + WhiteKernel(noise_level=1),\n",
       "                          max_iter_predict=100, multi_class='one_vs_rest',\n",
       "                          n_jobs=None, n_restarts_optimizer=0,\n",
       "                          optimizer='fmin_l_bfgs_b', random_state=None,\n",
       "                          warm_start=False)"
      ]
     },
     "execution_count": 65,
     "metadata": {},
     "output_type": "execute_result"
    }
   ],
   "source": [
    "gpc_train.fit(train_features.detach().numpy().reshape(8433,10), train_labels.reshape(8433,))"
   ]
  },
  {
   "cell_type": "code",
   "execution_count": 66,
   "id": "f81e116f",
   "metadata": {},
   "outputs": [],
   "source": [
    "test_features = lstm.feature_outputs(test,100)"
   ]
  },
  {
   "cell_type": "code",
   "execution_count": 67,
   "id": "320cc1b5",
   "metadata": {},
   "outputs": [
    {
     "data": {
      "text/plain": [
       "RBF(length_scale=2.66) + WhiteKernel(noise_level=1e-05)"
      ]
     },
     "execution_count": 67,
     "metadata": {},
     "output_type": "execute_result"
    }
   ],
   "source": [
    "gpc_dev.kernel_"
   ]
  },
  {
   "cell_type": "code",
   "execution_count": 68,
   "id": "6e8591ef",
   "metadata": {},
   "outputs": [
    {
     "data": {
      "text/plain": [
       "RBF(length_scale=3.15) + WhiteKernel(noise_level=1e-05)"
      ]
     },
     "execution_count": 68,
     "metadata": {},
     "output_type": "execute_result"
    }
   ],
   "source": [
    "gpc_train.kernel_"
   ]
  },
  {
   "cell_type": "code",
   "execution_count": 72,
   "id": "543cac87",
   "metadata": {},
   "outputs": [],
   "source": [
    "ud = []\n",
    "ut = []\n",
    "preds_d = gpc_dev.predict_proba(test_features.detach().numpy().reshape(4683,10), uncertainty = ud)\n",
    "preds_t = gpc_train.predict_proba(test_features.detach().numpy().reshape(4683,10), uncertainty = ut)"
   ]
  },
  {
   "cell_type": "code",
   "execution_count": 73,
   "id": "354f4128",
   "metadata": {},
   "outputs": [],
   "source": [
    "ud = ud[0]\n",
    "ut = ut[0]"
   ]
  },
  {
   "cell_type": "code",
   "execution_count": 74,
   "id": "abd53235",
   "metadata": {},
   "outputs": [
    {
     "data": {
      "text/plain": [
       "array([0, 1], dtype=int64)"
      ]
     },
     "execution_count": 74,
     "metadata": {},
     "output_type": "execute_result"
    }
   ],
   "source": [
    "gpc_dev.classes_"
   ]
  },
  {
   "cell_type": "code",
   "execution_count": 76,
   "id": "d1d081ed",
   "metadata": {},
   "outputs": [],
   "source": [
    "# what is the order of the probabilties? I think I was probably doingit backwards actually. \n",
    "pd, pt = [],[]\n",
    "for x in preds_d:\n",
    "    if x[0] > .5:\n",
    "        pd.append(0)\n",
    "    else:\n",
    "        pd.append(1)\n",
    "for x in preds_t:\n",
    "    if x[0] > .5:\n",
    "        pt.append(0)\n",
    "    else:\n",
    "        pt.append(1) "
   ]
  },
  {
   "cell_type": "code",
   "execution_count": 77,
   "id": "ddddf76c",
   "metadata": {},
   "outputs": [],
   "source": [
    "ud = np.array(ud)\n",
    "ut = np.array(ut)"
   ]
  },
  {
   "cell_type": "code",
   "execution_count": 78,
   "id": "7eacd281",
   "metadata": {},
   "outputs": [
    {
     "data": {
      "text/plain": [
       "0.073703029154715605"
      ]
     },
     "execution_count": 78,
     "metadata": {},
     "output_type": "execute_result"
    }
   ],
   "source": [
    "ud.mean()"
   ]
  },
  {
   "cell_type": "code",
   "execution_count": 79,
   "id": "0b0b6842",
   "metadata": {},
   "outputs": [
    {
     "data": {
      "text/plain": [
       "0.72773439191896705"
      ]
     },
     "execution_count": 79,
     "metadata": {},
     "output_type": "execute_result"
    }
   ],
   "source": [
    "ud.max()"
   ]
  },
  {
   "cell_type": "code",
   "execution_count": 80,
   "id": "00bec096",
   "metadata": {},
   "outputs": [
    {
     "data": {
      "text/plain": [
       "0.024862654367269314"
      ]
     },
     "execution_count": 80,
     "metadata": {},
     "output_type": "execute_result"
    }
   ],
   "source": [
    "ut.mean()"
   ]
  },
  {
   "cell_type": "code",
   "execution_count": 81,
   "id": "04000429",
   "metadata": {},
   "outputs": [
    {
     "data": {
      "text/plain": [
       "0.23736542296623175"
      ]
     },
     "execution_count": 81,
     "metadata": {},
     "output_type": "execute_result"
    }
   ],
   "source": [
    "ut.max()"
   ]
  },
  {
   "cell_type": "code",
   "execution_count": 84,
   "id": "30e37fcc",
   "metadata": {},
   "outputs": [],
   "source": [
    "test_y = L_gold_test.toarray().reshape(4683,)\n",
    "test_y[test_y == -1] = 0"
   ]
  },
  {
   "cell_type": "code",
   "execution_count": 86,
   "id": "31180937",
   "metadata": {},
   "outputs": [],
   "source": [
    "buckets = np.linspace(0,.4,15)"
   ]
  },
  {
   "cell_type": "code",
   "execution_count": 89,
   "id": "5ec114b0",
   "metadata": {},
   "outputs": [
    {
     "name": "stdout",
     "output_type": "stream",
     "text": [
      "Bucket 0.028571428571428574: \n",
      " Count: 65\n",
      " F1: 0\n",
      "0,0,45,20\n",
      "Bucket 0.05714285714285715: \n",
      " Count: 2270\n",
      " F1: 0.2711864406779661\n",
      "128,116,1454,572\n",
      "Bucket 0.08571428571428572: \n",
      " Count: 1400\n",
      " F1: 0.5136094674556213\n",
      "217,132,772,279\n",
      "Bucket 0.1142857142857143: \n",
      " Count: 445\n",
      " F1: 0.5693430656934306\n",
      "78,39,249,79\n",
      "Bucket 0.14285714285714288: \n",
      " Count: 183\n",
      " F1: 0.6324786324786325\n",
      "37,10,103,33\n",
      "Bucket 0.17142857142857143: \n",
      " Count: 92\n",
      " F1: 0.44999999999999996\n",
      "9,7,61,15\n",
      "Bucket 0.2: \n",
      " Count: 46\n",
      " F1: 0\n",
      "0,0,32,14\n",
      "Bucket 0.2285714285714286: \n",
      " Count: 45\n",
      " F1: 0\n",
      "0,1,38,6\n",
      "Bucket 0.2571428571428572: \n",
      " Count: 33\n",
      " F1: 0\n",
      "0,0,28,5\n",
      "Bucket 0.28571428571428575: \n",
      " Count: 20\n",
      " F1: 0.6\n",
      "3,0,13,4\n",
      "Bucket 0.31428571428571433: \n",
      " Count: 17\n",
      " F1: 0.4444444444444444\n",
      "2,0,10,5\n",
      "Bucket 0.34285714285714286: \n",
      " Count: 10\n",
      " F1: 0\n",
      "0,0,10,0\n",
      "Bucket 0.37142857142857144: \n",
      " Count: 7\n",
      " F1: 0\n",
      "0,0,7,0\n",
      "Bucket 0.4: \n",
      " Count: 16\n",
      " F1: 0\n",
      "0,0,13,3\n"
     ]
    }
   ],
   "source": [
    "f1scores = []\n",
    "for i in range(14):\n",
    "    count = 0\n",
    "    tp,fp,tn,fn = 0,0,0,0\n",
    "    for j,p in enumerate(test_y):\n",
    "        if ud[j] >= buckets[i] and ud[j] < buckets[i+1]:\n",
    "            count += 1\n",
    "            if p == 0 and pd[j] == 0:\n",
    "                tn += 1\n",
    "            elif p == 0 and pd[j] == 1:\n",
    "                fp += 1\n",
    "            elif p == 1 and pd[j] == 0:\n",
    "                fn += 1\n",
    "            else: #p == 1 and preds[j] == 1:\n",
    "                tp += 1\n",
    "    try:\n",
    "        p = tp / (tp + fp)\n",
    "    except:\n",
    "        p = 0\n",
    "    try:\n",
    "        r = tp / (tp + fn)\n",
    "    except: \n",
    "        r = 0\n",
    "    try:\n",
    "        f1 = 2/(1/p + 1/r)\n",
    "    except:\n",
    "        f1 = 0\n",
    "    f1scores.append(f1)\n",
    "    print (\"Bucket {}: \\n Count: {}\\n F1: {}\\n{},{},{},{}\".format(buckets[i+1], count, f1,tp,fp,tn,fn))"
   ]
  },
  {
   "cell_type": "code",
   "execution_count": 90,
   "id": "9d6a8b22",
   "metadata": {},
   "outputs": [
    {
     "data": {
      "text/plain": [
       "<BarContainer object of 14 artists>"
      ]
     },
     "execution_count": 90,
     "metadata": {},
     "output_type": "execute_result"
    },
    {
     "data": {
      "image/png": "[encoded data removed]",
      "text/plain": [
       "<Figure size 432x288 with 1 Axes>"
      ]
     },
     "metadata": {
      "needs_background": "light"
     },
     "output_type": "display_data"
    }
   ],
   "source": [
    "plt.bar(np.arange(len(f1scores)),f1scores)"
   ]
  },
  {
   "cell_type": "code",
   "execution_count": 91,
   "id": "21616d74",
   "metadata": {},
   "outputs": [
    {
     "name": "stdout",
     "output_type": "stream",
     "text": [
      "Bucket 0.028571428571428574: \n",
      " Count: 3581\n",
      " F1: 0.45880341880341874\n",
      "671,1245,1327,338\n",
      "Bucket 0.05714285714285715: \n",
      " Count: 719\n",
      " F1: 0.6409155937052933\n",
      "224,204,244,47\n",
      "Bucket 0.08571428571428572: \n",
      " Count: 212\n",
      " F1: 0.8131868131868131\n",
      "111,39,50,12\n",
      "Bucket 0.1142857142857143: \n",
      " Count: 74\n",
      " F1: 0.8173913043478261\n",
      "47,18,6,3\n",
      "Bucket 0.14285714285714288: \n",
      " Count: 48\n",
      " F1: 0.8059701492537313\n",
      "27,13,8,0\n",
      "Bucket 0.17142857142857143: \n",
      " Count: 24\n",
      " F1: 0.8292682926829269\n",
      "17,7,0,0\n",
      "Bucket 0.2: \n",
      " Count: 15\n",
      " F1: 0.8695652173913044\n",
      "10,3,2,0\n",
      "Bucket 0.2285714285714286: \n",
      " Count: 9\n",
      " F1: 0.875\n",
      "7,2,0,0\n",
      "Bucket 0.2571428571428572: \n",
      " Count: 1\n",
      " F1: 0\n",
      "0,1,0,0\n",
      "Bucket 0.28571428571428575: \n",
      " Count: 0\n",
      " F1: 0\n",
      "0,0,0,0\n",
      "Bucket 0.31428571428571433: \n",
      " Count: 0\n",
      " F1: 0\n",
      "0,0,0,0\n",
      "Bucket 0.34285714285714286: \n",
      " Count: 0\n",
      " F1: 0\n",
      "0,0,0,0\n",
      "Bucket 0.37142857142857144: \n",
      " Count: 0\n",
      " F1: 0\n",
      "0,0,0,0\n",
      "Bucket 0.4: \n",
      " Count: 0\n",
      " F1: 0\n",
      "0,0,0,0\n"
     ]
    }
   ],
   "source": [
    "f1scores = []\n",
    "for i in range(14):\n",
    "    count = 0\n",
    "    tp,fp,tn,fn = 0,0,0,0\n",
    "    for j,p in enumerate(test_y):\n",
    "        if ut[j] >= buckets[i] and ut[j] < buckets[i+1]:\n",
    "            count += 1\n",
    "            if p == 0 and pt[j] == 0:\n",
    "                tn += 1\n",
    "            elif p == 0 and pt[j] == 1:\n",
    "                fp += 1\n",
    "            elif p == 1 and pt[j] == 0:\n",
    "                fn += 1\n",
    "            else: #p == 1 and preds[j] == 1:\n",
    "                tp += 1\n",
    "    try:\n",
    "        p = tp / (tp + fp)\n",
    "    except:\n",
    "        p = 0\n",
    "    try:\n",
    "        r = tp / (tp + fn)\n",
    "    except: \n",
    "        r = 0\n",
    "    try:\n",
    "        f1 = 2/(1/p + 1/r)\n",
    "    except:\n",
    "        f1 = 0\n",
    "    f1scores.append(f1)\n",
    "    print (\"Bucket {}: \\n Count: {}\\n F1: {}\\n{},{},{},{}\".format(buckets[i+1], count, f1,tp,fp,tn,fn))"
   ]
  },
  {
   "cell_type": "code",
   "execution_count": 92,
   "id": "d789a8fd",
   "metadata": {},
   "outputs": [
    {
     "data": {
      "text/plain": [
       "<BarContainer object of 14 artists>"
      ]
     },
     "execution_count": 92,
     "metadata": {},
     "output_type": "execute_result"
    },
    {
     "data": {
      "image/png": "[encoded data removed]",
      "text/plain": [
       "<Figure size 432x288 with 1 Axes>"
      ]
     },
     "metadata": {
      "needs_background": "light"
     },
     "output_type": "display_data"
    }
   ],
   "source": [
    "plt.bar(np.arange(len(f1scores)),f1scores)"
   ]
  },
  {
   "cell_type": "code",
   "execution_count": 99,
   "id": "c9d58ecd",
   "metadata": {},
   "outputs": [],
   "source": [
    "tp,fp,tn,fn = 0,0,0,0\n",
    "for j,p in enumerate (test_y):\n",
    "        if p == 0 and pt[j] == 0:\n",
    "            tn += 1\n",
    "        elif p == 0 and pt[j] == 1:\n",
    "            fp += 1\n",
    "        elif p == 1 and pt[j] == 0:\n",
    "            fn += 1\n",
    "        else: #p == 1 and preds[j] == 1:\n",
    "            tp += 1\n",
    "try:\n",
    "    p = tp / (tp + fp)\n",
    "except:\n",
    "    p = 0\n",
    "try:\n",
    "    r = tp / (tp + fn)\n",
    "except: \n",
    "    r = 0\n",
    "try:\n",
    "    f1 = 2/(1/p + 1/r)\n",
    "except:\n",
    "    f1 = 0"
   ]
  },
  {
   "cell_type": "code",
   "execution_count": 100,
   "id": "2aa617a7",
   "metadata": {},
   "outputs": [
    {
     "data": {
      "text/plain": [
       "0.5355769230769231"
      ]
     },
     "execution_count": 100,
     "metadata": {},
     "output_type": "execute_result"
    }
   ],
   "source": [
    "f1"
   ]
  },
  {
   "cell_type": "code",
   "execution_count": 98,
   "id": "c74104ea",
   "metadata": {},
   "outputs": [
    {
     "data": {
      "text/plain": [
       "0.6084724005134788"
      ]
     },
     "execution_count": 98,
     "metadata": {},
     "output_type": "execute_result"
    }
   ],
   "source": [
    "p"
   ]
  },
  {
   "cell_type": "code",
   "execution_count": 105,
   "id": "61093573",
   "metadata": {},
   "outputs": [],
   "source": [
    "dev_cov= np.matmul(dev_features.detach().numpy().reshape(920,10).transpose(), dev_features.detach().numpy().reshape(920,10))"
   ]
  },
  {
   "cell_type": "code",
   "execution_count": 107,
   "id": "f6f68b8f",
   "metadata": {},
   "outputs": [
    {
     "data": {
      "text/plain": [
       "(array([[-0.01717199,  0.07703116,  0.43671137, -0.61601961, -0.48060361,\n",
       "         -0.17902957,  0.38620245, -0.08416685, -0.06293064, -0.01860882],\n",
       "        [ 0.01309415,  0.22883707,  0.40875095,  0.704216  , -0.20644875,\n",
       "          0.10895157,  0.43903291,  0.13135228,  0.04461711, -0.13408597],\n",
       "        [ 0.01057392,  0.08229483,  0.1025309 ,  0.17876582, -0.07995219,\n",
       "          0.04806772, -0.12696463, -0.49210468, -0.7120055 ,  0.420362  ],\n",
       "        [-0.0099605 ,  0.07100091, -0.18645364, -0.02865227,  0.10208215,\n",
       "         -0.2449479 ,  0.29883894,  0.6436125 , -0.20650625,  0.58537757],\n",
       "        [ 0.04671174, -0.28572264, -0.00227666, -0.03158083,  0.547005  ,\n",
       "         -0.26249269,  0.46487954, -0.10950558, -0.37582809, -0.42155659],\n",
       "        [ 0.02259071, -0.22625703,  0.76086962, -0.04627996,  0.3399525 ,\n",
       "         -0.00306356, -0.4053776 ,  0.27634951, -0.02494574,  0.10165408],\n",
       "        [-0.99639952, -0.06901168,  0.01313602,  0.03268808,  0.00867838,\n",
       "         -0.01276441,  0.00617659, -0.00308723, -0.02404435, -0.01789538],\n",
       "        [ 0.0384697 , -0.67522275, -0.07392669, -0.02864899, -0.25070828,\n",
       "          0.62389165,  0.16529524,  0.17559695, -0.15880831,  0.02891414],\n",
       "        [-0.01682646,  0.38397515, -0.08319993, -0.11963917, -0.13686377,\n",
       "          0.18743956, -0.27094135,  0.4345516 , -0.51619112, -0.49847907],\n",
       "        [ 0.04533489, -0.43466225, -0.07376011,  0.26922017, -0.46167323,\n",
       "         -0.63270754, -0.26731849,  0.10591997, -0.10164572, -0.15691514]], dtype=float32),\n",
       " array([  1.15086309e+04,   1.88702606e+02,   1.04800880e+02,\n",
       "          8.11607742e+01,   6.56587982e+01,   3.39941902e+01,\n",
       "          2.09059086e+01,   1.73895092e+01,   9.14096355e+00,\n",
       "          6.65429258e+00], dtype=float32),\n",
       " array([[-0.01717199,  0.01309415,  0.01057392, -0.0099605 ,  0.04671174,\n",
       "          0.02259071, -0.99639952,  0.0384697 , -0.01682646,  0.04533489],\n",
       "        [ 0.07703116,  0.22883707,  0.08229483,  0.07100091, -0.28572264,\n",
       "         -0.22625703, -0.06901168, -0.67522275,  0.38397515, -0.43466225],\n",
       "        [ 0.43671137,  0.40875095,  0.1025309 , -0.18645364, -0.00227666,\n",
       "          0.76086962,  0.01313602, -0.07392669, -0.08319993, -0.07376011],\n",
       "        [-0.61601961,  0.704216  ,  0.17876582, -0.02865227, -0.03158083,\n",
       "         -0.04627996,  0.03268808, -0.02864899, -0.11963917,  0.26922017],\n",
       "        [-0.48060361, -0.20644875, -0.07995219,  0.10208215,  0.547005  ,\n",
       "          0.3399525 ,  0.00867838, -0.25070828, -0.13686377, -0.46167323],\n",
       "        [-0.17902957,  0.10895157,  0.04806772, -0.2449479 , -0.26249269,\n",
       "         -0.00306356, -0.01276441,  0.62389165,  0.18743956, -0.63270754],\n",
       "        [ 0.38620245,  0.43903291, -0.12696463,  0.29883894,  0.46487954,\n",
       "         -0.4053776 ,  0.00617659,  0.16529524, -0.27094135, -0.26731849],\n",
       "        [-0.08416685,  0.13135228, -0.49210468,  0.6436125 , -0.10950558,\n",
       "          0.27634951, -0.00308723,  0.17559695,  0.4345516 ,  0.10591997],\n",
       "        [-0.06293064,  0.04461711, -0.7120055 , -0.20650625, -0.37582809,\n",
       "         -0.02494574, -0.02404435, -0.15880831, -0.51619112, -0.10164572],\n",
       "        [-0.01860882, -0.13408597,  0.420362  ,  0.58537757, -0.42155659,\n",
       "          0.10165408, -0.01789538,  0.02891414, -0.49847907, -0.15691514]], dtype=float32))"
      ]
     },
     "execution_count": 107,
     "metadata": {},
     "output_type": "execute_result"
    }
   ],
   "source": [
    "np.linalg.svd(dev_cov)"
   ]
  },
  {
   "cell_type": "code",
   "execution_count": 114,
   "id": "4c243c1c",
   "metadata": {},
   "outputs": [
    {
     "data": {
      "text/plain": [
       "0.70652173913043481"
      ]
     },
     "execution_count": 114,
     "metadata": {},
     "output_type": "execute_result"
    }
   ],
   "source": [
    "gpc_dev.score(dev_features.detach().numpy().reshape(920,10), dev_labels)"
   ]
  },
  {
   "cell_type": "code",
   "execution_count": 115,
   "id": "d604e904",
   "metadata": {},
   "outputs": [
    {
     "data": {
      "text/plain": [
       "0.80434009249377447"
      ]
     },
     "execution_count": 115,
     "metadata": {},
     "output_type": "execute_result"
    }
   ],
   "source": [
    "gpc_train.score(train_features.detach().numpy().reshape(8433,10), train_labels)"
   ]
  },
  {
   "cell_type": "code",
   "execution_count": 116,
   "id": "ed971368",
   "metadata": {},
   "outputs": [
    {
     "data": {
      "text/plain": [
       "RBF(length_scale=2.66) + WhiteKernel(noise_level=1e-05)"
      ]
     },
     "execution_count": 116,
     "metadata": {},
     "output_type": "execute_result"
    }
   ],
   "source": [
    "gpc_dev.kernel_"
   ]
  },
  {
   "cell_type": "code",
   "execution_count": 117,
   "id": "c777b5a7",
   "metadata": {},
   "outputs": [
    {
     "data": {
      "text/plain": [
       "RBF(length_scale=3.15) + WhiteKernel(noise_level=1e-05)"
      ]
     },
     "execution_count": 117,
     "metadata": {},
     "output_type": "execute_result"
    }
   ],
   "source": [
    "gpc_train.kernel_"
   ]
  },
  {
   "cell_type": "code",
   "execution_count": null,
   "id": "867485d6",
   "metadata": {},
   "outputs": [],
   "source": []
  }
 ],
 "metadata": {
  "kernelspec": {
   "display_name": "Python 3 (ipykernel)",
   "language": "python",
   "name": "python3"
  },
  "language_info": {
   "codemirror_mode": {
    "name": "ipython",
    "version": 3
   },
   "file_extension": ".py",
   "mimetype": "text/x-python",
   "name": "python",
   "nbconvert_exporter": "python",
   "pygments_lexer": "ipython3",
   "version": "3.6.13"
  }
 },
 "nbformat": 4,
 "nbformat_minor": 5
}
