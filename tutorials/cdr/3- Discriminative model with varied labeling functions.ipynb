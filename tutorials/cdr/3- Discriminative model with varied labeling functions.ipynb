{
 "cells": [
  {
   "cell_type": "code",
   "execution_count": 1,
   "id": "19bc5a23",
   "metadata": {},
   "outputs": [],
   "source": [
    "%load_ext autoreload\n",
    "%autoreload 2\n",
    "%matplotlib inline\n",
    "\n",
    "import numpy as np\n",
    "from snorkel import SnorkelSession\n",
    "\n",
    "session = SnorkelSession()"
   ]
  },
  {
   "cell_type": "code",
   "execution_count": 2,
   "id": "4f839ec0",
   "metadata": {},
   "outputs": [
    {
     "name": "stdout",
     "output_type": "stream",
     "text": [
      "Training set:\t8433 candidates\n",
      "Dev set:\t920 candidates\n",
      "Test set:\t4683 candidates\n"
     ]
    }
   ],
   "source": [
    "from snorkel.models import candidate_subclass\n",
    "\n",
    "ChemicalDisease = candidate_subclass('ChemicalDisease', ['chemical', 'disease'])\n",
    "\n",
    "train = session.query(ChemicalDisease).filter(ChemicalDisease.split == 0).all()\n",
    "dev = session.query(ChemicalDisease).filter(ChemicalDisease.split == 1).all()\n",
    "test = session.query(ChemicalDisease).filter(ChemicalDisease.split == 2).all()\n",
    "\n",
    "print('Training set:\\t{0} candidates'.format(len(train)))\n",
    "print('Dev set:\\t{0} candidates'.format(len(dev)))\n",
    "print('Test set:\\t{0} candidates'.format(len(test)))"
   ]
  },
  {
   "cell_type": "code",
   "execution_count": 3,
   "id": "03dacb72",
   "metadata": {},
   "outputs": [],
   "source": [
    "total = train.copy()\n",
    "total.extend(dev.copy())"
   ]
  },
  {
   "cell_type": "code",
   "execution_count": 4,
   "id": "75e07178",
   "metadata": {},
   "outputs": [],
   "source": [
    "train_marginals_orig = np.fromfile(\"train_marginals_orig.txt\")\n",
    "train_marginals_random = np.fromfile(\"train_marginals_random.txt\")\n",
    "train_marginals_random_low = np.fromfile(\"train_marginals_random_low.txt\")\n",
    "train_marginals_lookup = np.fromfile(\"train_marginals_lookup.txt\")"
   ]
  },
  {
   "cell_type": "code",
   "execution_count": 5,
   "id": "d6c9f14d",
   "metadata": {},
   "outputs": [],
   "source": [
    "from snorkel.annotations import load_gold_labels\n",
    "L_gold_dev = load_gold_labels(session, annotator_name='gold', split=1)\n",
    "L_gold_test = load_gold_labels(session, annotator_name='gold', split=2)"
   ]
  },
  {
   "cell_type": "code",
   "execution_count": 6,
   "id": "82169848",
   "metadata": {},
   "outputs": [],
   "source": [
    "from snorkel.learning.pytorch import LSTM_orig"
   ]
  },
  {
   "cell_type": "code",
   "execution_count": 9,
   "id": "76517c06",
   "metadata": {
    "scrolled": true
   },
   "outputs": [
    {
     "name": "stdout",
     "output_type": "stream",
     "text": [
      "[LSTM_orig] Training model\n",
      "[LSTM_orig] n_train=4112  #epochs=20  batch size=64\n",
      "[LSTM_orig] Epoch 1 (17.83s)\tAverage loss=0.689812\tDev F1=51.52\n",
      "[LSTM_orig] Epoch 6 (109.31s)\tAverage loss=0.668251\tDev F1=53.25\n",
      "[LSTM_orig] Epoch 11 (197.10s)\tAverage loss=0.664024\tDev F1=52.07\n",
      "[LSTM_orig] Epoch 16 (285.51s)\tAverage loss=0.665312\tDev F1=53.74\n",
      "[LSTM_orig] Epoch 20 (356.87s)\tAverage loss=0.661678\tDev F1=53.99\n",
      "[LSTM_orig] Model saved as <LSTM_orig>\n",
      "[LSTM_orig] Training done (357.99s)\n",
      "[LSTM_orig] Loaded model <LSTM_orig>\n",
      "[LSTM_orig] Model saved as <orig_3>\n",
      "[LSTM_orig] Training model\n",
      "[LSTM_orig] n_train=6193  #epochs=20  batch size=64\n",
      "[LSTM_orig] Epoch 1 (25.66s)\tAverage loss=0.697609\tDev F1=20.93\n",
      "[LSTM_orig] Epoch 6 (155.16s)\tAverage loss=0.652933\tDev F1=40.65\n",
      "[LSTM_orig] Epoch 11 (285.96s)\tAverage loss=0.611956\tDev F1=46.38\n",
      "[LSTM_orig] Epoch 16 (411.62s)\tAverage loss=0.577380\tDev F1=38.34\n",
      "[LSTM_orig] Epoch 20 (516.87s)\tAverage loss=0.558556\tDev F1=44.35\n",
      "[LSTM_orig] Model saved as <LSTM_orig>\n",
      "[LSTM_orig] Training done (517.93s)\n",
      "[LSTM_orig] Loaded model <LSTM_orig>\n",
      "[LSTM_orig] Model saved as <random_3>\n",
      "[LSTM_orig] Training model\n",
      "[LSTM_orig] n_train=4208  #epochs=20  batch size=64\n",
      "[LSTM_orig] Epoch 1 (19.01s)\tAverage loss=0.690456\tDev F1=50.14\n",
      "[LSTM_orig] Epoch 6 (110.44s)\tAverage loss=0.667366\tDev F1=52.16\n",
      "[LSTM_orig] Epoch 11 (201.26s)\tAverage loss=0.662057\tDev F1=52.46\n",
      "[LSTM_orig] Epoch 16 (290.31s)\tAverage loss=0.658441\tDev F1=54.19\n",
      "[LSTM_orig] Epoch 20 (362.34s)\tAverage loss=0.659271\tDev F1=52.86\n",
      "[LSTM_orig] Model saved as <LSTM_orig>\n",
      "[LSTM_orig] Training done (363.53s)\n",
      "[LSTM_orig] Loaded model <LSTM_orig>\n",
      "[LSTM_orig] Model saved as <random_low_3>\n",
      "[LSTM_orig] Training model\n",
      "[LSTM_orig] n_train=4276  #epochs=20  batch size=64\n",
      "[LSTM_orig] Epoch 1 (18.32s)\tAverage loss=0.687500\tDev F1=50.18\n",
      "[LSTM_orig] Epoch 6 (108.96s)\tAverage loss=0.665187\tDev F1=53.16\n",
      "[LSTM_orig] Epoch 11 (231.52s)\tAverage loss=0.660655\tDev F1=54.73\n",
      "[LSTM_orig] Epoch 16 (417.09s)\tAverage loss=0.659441\tDev F1=53.58\n",
      "[LSTM_orig] Epoch 20 (566.95s)\tAverage loss=0.658000\tDev F1=54.10\n",
      "[LSTM_orig] Model saved as <LSTM_orig>\n",
      "[LSTM_orig] Training done (570.37s)\n",
      "[LSTM_orig] Loaded model <LSTM_orig>\n",
      "[LSTM_orig] Model saved as <lookup_3>\n"
     ]
    }
   ],
   "source": [
    "train_kwargs = {\n",
    "    'lr':              0.01,\n",
    "    'embedding_dim':   100,\n",
    "    'hidden_dim':      100,\n",
    "    'n_epochs':        20,\n",
    "    'dropout':         0.5,\n",
    "    'rebalance':       0.25,\n",
    "    'print_freq':      5,\n",
    "    'seed':            1701\n",
    "}\n",
    "\n",
    "lstm_orig = LSTM_orig(n_threads=None)\n",
    "lstm_orig.train(total, train_marginals_orig, X_dev=dev, Y_dev=L_gold_dev, **train_kwargs)\n",
    "lstm_orig.save(model_name=\"orig_3\")\n",
    "\n",
    "lstm_random = LSTM_orig(n_threads=None)\n",
    "lstm_random.train(total, train_marginals_random, X_dev=dev, Y_dev=L_gold_dev, **train_kwargs)\n",
    "lstm_random.save(model_name=\"random_3\")\n",
    "\n",
    "lstm_random_low = LSTM_orig(n_threads=None)\n",
    "lstm_random_low.train(total, train_marginals_random_low, X_dev=dev, Y_dev=L_gold_dev, **train_kwargs)\n",
    "lstm_random_low.save(model_name=\"random_low_3\")\n",
    "\n",
    "lstm_lookup = LSTM_orig(n_threads=None)\n",
    "lstm_lookup.train(total, train_marginals_lookup, X_dev=dev, Y_dev=L_gold_dev, **train_kwargs)\n",
    "lstm_lookup.save(model_name=\"lookup_3\")\n"
   ]
  },
  {
   "cell_type": "code",
   "execution_count": 10,
   "id": "880a65ca",
   "metadata": {},
   "outputs": [
    {
     "name": "stdout",
     "output_type": "stream",
     "text": [
      "[LSTM_orig] Loaded model <orig_3>\n",
      "[LSTM_orig] Loaded model <random_3>\n",
      "[LSTM_orig] Loaded model <random_low_3>\n",
      "[LSTM_orig] Loaded model <lookup_3>\n"
     ]
    }
   ],
   "source": [
    "lstm_orig = LSTM_orig(n_threads=None)\n",
    "lstm_orig.load(model_name=\"orig_3\")\n",
    "lstm_random = LSTM_orig(n_threads=None)\n",
    "lstm_random.load(model_name=\"random_3\")\n",
    "lstm_random_low = LSTM_orig(n_threads=None)\n",
    "lstm_random_low.load(model_name=\"random_low_3\")\n",
    "lstm_lookup = LSTM_orig(n_threads=None)\n",
    "lstm_lookup.load(model_name=\"lookup_3\")"
   ]
  },
  {
   "cell_type": "code",
   "execution_count": 12,
   "id": "77b70e2f",
   "metadata": {},
   "outputs": [
    {
     "data": {
      "text/plain": [
       "(0.38788065210704398, 0.83289299867899602, 0.52927597061909748)"
      ]
     },
     "execution_count": 12,
     "metadata": {},
     "output_type": "execute_result"
    }
   ],
   "source": [
    "lstm_orig.score(test, L_gold_test)"
   ]
  },
  {
   "cell_type": "code",
   "execution_count": 13,
   "id": "8e47b14a",
   "metadata": {},
   "outputs": [
    {
     "data": {
      "text/plain": [
       "(0.33285233285233284, 0.4570673712021136, 0.38519343167269687)"
      ]
     },
     "execution_count": 13,
     "metadata": {},
     "output_type": "execute_result"
    }
   ],
   "source": [
    "lstm_random.score(test, L_gold_test)"
   ]
  },
  {
   "cell_type": "code",
   "execution_count": 14,
   "id": "dbe22517",
   "metadata": {},
   "outputs": [
    {
     "data": {
      "text/plain": [
       "(0.39768076398362895, 0.77014531043593126, 0.52451641925326142)"
      ]
     },
     "execution_count": 14,
     "metadata": {},
     "output_type": "execute_result"
    }
   ],
   "source": [
    "lstm_random_low.score(test,L_gold_test)"
   ]
  },
  {
   "cell_type": "code",
   "execution_count": 15,
   "id": "81cfb326",
   "metadata": {},
   "outputs": [
    {
     "data": {
      "text/plain": [
       "(0.39720062208398133, 0.84346103038309117, 0.5400718968069359)"
      ]
     },
     "execution_count": 15,
     "metadata": {},
     "output_type": "execute_result"
    }
   ],
   "source": [
    "lstm_lookup.score(test, L_gold_test)"
   ]
  },
  {
   "cell_type": "markdown",
   "id": "89c32d92",
   "metadata": {},
   "source": [
    "From this, we can see that Snorkel is moderately effective at ignoring bad labeling functions-- it can handle it when a function has ~20% coverage with random labels, but not with 100% coverage. It also shows that the discriminative model can learn more when a perfect labeling function with low coverage is included. "
   ]
  },
  {
   "cell_type": "code",
   "execution_count": 15,
   "id": "138ccc15",
   "metadata": {},
   "outputs": [],
   "source": [
    "orig_preds = lstm_orig.marginals(test)\n",
    "random_preds = lstm_random.marginals(test)\n",
    "random_low_preds = lstm_random_low.marginals(test)\n",
    "lookup_preds = lstm_lookup.marginals(test)\n"
   ]
  },
  {
   "cell_type": "code",
   "execution_count": 25,
   "id": "9df9a9e8",
   "metadata": {},
   "outputs": [
    {
     "name": "stdout",
     "output_type": "stream",
     "text": [
      "0.535554131966688\n",
      "1277 1938 1231 237\n"
     ]
    }
   ],
   "source": [
    "tp,fp,tn,fn = 0,0,0,0\n",
    "res = L_gold_test.toarray()\n",
    "for i,p in enumerate(lookup_preds):\n",
    "    if p > .5:\n",
    "        if res[i][0] == 1:\n",
    "            tp += 1\n",
    "        else:\n",
    "            fp += 1\n",
    "    else:\n",
    "        if res[i][0] == 1:\n",
    "            fn += 1\n",
    "        else:\n",
    "            tn += 1\n",
    "print ((tp + tn)/ (tp + fp + tn + fn))\n",
    "print (tp, fp, tn, fn)"
   ]
  },
  {
   "cell_type": "code",
   "execution_count": 17,
   "id": "9bdbe35e",
   "metadata": {},
   "outputs": [
    {
     "name": "stdout",
     "output_type": "stream",
     "text": [
      "1261 1990 1179 253\n"
     ]
    }
   ],
   "source": [
    "print (tp,fp,tn,fn)"
   ]
  },
  {
   "cell_type": "code",
   "execution_count": 18,
   "id": "c68d3f91",
   "metadata": {},
   "outputs": [],
   "source": [
    "prec = tp / (tp + fp)\n",
    "rec = tp / (tp + fn)"
   ]
  },
  {
   "cell_type": "code",
   "execution_count": 19,
   "id": "4e68a2c8",
   "metadata": {},
   "outputs": [
    {
     "data": {
      "text/plain": [
       "0.5292759706190976"
      ]
     },
     "execution_count": 19,
     "metadata": {},
     "output_type": "execute_result"
    }
   ],
   "source": [
    "2/(1/prec + 1/rec)"
   ]
  },
  {
   "cell_type": "code",
   "execution_count": null,
   "id": "2ca4bae0",
   "metadata": {},
   "outputs": [],
   "source": []
  }
 ],
 "metadata": {
  "kernelspec": {
   "display_name": "Python 3 (ipykernel)",
   "language": "python",
   "name": "python3"
  },
  "language_info": {
   "codemirror_mode": {
    "name": "ipython",
    "version": 3
   },
   "file_extension": ".py",
   "mimetype": "text/x-python",
   "name": "python",
   "nbconvert_exporter": "python",
   "pygments_lexer": "ipython3",
   "version": "3.6.13"
  }
 },
 "nbformat": 4,
 "nbformat_minor": 5
}
