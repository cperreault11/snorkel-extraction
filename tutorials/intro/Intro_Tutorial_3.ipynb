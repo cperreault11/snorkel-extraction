{
 "cells": [
  {
   "cell_type": "markdown",
   "metadata": {},
   "source": [
    "# Intro. to Snorkel: Extracting Spouse Relations from the News"
   ]
  },
  {
   "cell_type": "markdown",
   "metadata": {},
   "source": [
    "## Part III: Training an End Extraction Model\n",
    "\n",
    "In this final section of the tutorial, we'll use the noisy training labels we generated in the last tutorial part to train our end extraction model.\n",
    "\n",
    "For this tutorial, we will be training a Bi-LSTM, a state-of-the-art deep neural network implemented in [TensorFlow](https://www.tensorflow.org/)."
   ]
  },
  {
   "cell_type": "code",
   "execution_count": 1,
   "metadata": {},
   "outputs": [],
   "source": [
    "%load_ext autoreload\n",
    "%autoreload 2\n",
    "%matplotlib inline\n",
    "import os\n",
    "\n",
    "# TO USE A DATABASE OTHER THAN SQLITE, USE THIS LINE\n",
    "# Note that this is necessary for parallel execution amongst other things...\n",
    "# os.environ['SNORKELDB'] = 'postgres:///snorkel-intro'\n",
    "\n",
    "from snorkel import SnorkelSession\n",
    "session = SnorkelSession()"
   ]
  },
  {
   "cell_type": "markdown",
   "metadata": {},
   "source": [
    "We repeat our definition of the `Spouse` `Candidate` subclass:"
   ]
  },
  {
   "cell_type": "code",
   "execution_count": 2,
   "metadata": {},
   "outputs": [],
   "source": [
    "from snorkel.models import candidate_subclass\n",
    "\n",
    "Spouse = candidate_subclass('Spouse', ['person1', 'person2'])"
   ]
  },
  {
   "cell_type": "markdown",
   "metadata": {},
   "source": [
    "We reload the probabilistic training labels:"
   ]
  },
  {
   "cell_type": "code",
   "execution_count": 3,
   "metadata": {},
   "outputs": [],
   "source": [
    "from snorkel.annotations import load_marginals\n",
    "\n",
    "train_marginals = load_marginals(session, split=0)"
   ]
  },
  {
   "cell_type": "markdown",
   "metadata": {},
   "source": [
    "We also reload the candidates:"
   ]
  },
  {
   "cell_type": "code",
   "execution_count": 4,
   "metadata": {},
   "outputs": [],
   "source": [
    "train_cands = session.query(Spouse).filter(Spouse.split == 0).order_by(Spouse.id).all()\n",
    "dev_cands   = session.query(Spouse).filter(Spouse.split == 1).order_by(Spouse.id).all()\n",
    "test_cands  = session.query(Spouse).filter(Spouse.split == 2).order_by(Spouse.id).all()"
   ]
  },
  {
   "cell_type": "markdown",
   "metadata": {},
   "source": [
    "Finally, we load gold labels for evaluation:"
   ]
  },
  {
   "cell_type": "code",
   "execution_count": 28,
   "metadata": {},
   "outputs": [
    {
     "data": {
      "text/plain": [
       "(2811, 1)"
      ]
     },
     "execution_count": 28,
     "metadata": {},
     "output_type": "execute_result"
    }
   ],
   "source": [
    "L_gold_dev.shape"
   ]
  },
  {
   "cell_type": "code",
   "execution_count": 5,
   "metadata": {},
   "outputs": [],
   "source": [
    "from snorkel.annotations import load_gold_labels\n",
    "\n",
    "L_gold_dev  = load_gold_labels(session, annotator_name='gold', split=1)\n",
    "L_gold_test = load_gold_labels(session, annotator_name='gold', split=2)"
   ]
  },
  {
   "cell_type": "markdown",
   "metadata": {},
   "source": [
    "Now we can setup our discriminative model. Here we specify the model and learning hyperparameters.\n",
    "\n",
    "They can also be set automatically using a search based on the dev set with a [GridSearch](https://github.com/HazyResearch/snorkel/blob/master/snorkel/learning/utils.py) object."
   ]
  },
  {
   "cell_type": "code",
   "execution_count": 6,
   "metadata": {},
   "outputs": [
    {
     "name": "stdout",
     "output_type": "stream",
     "text": [
      "[LSTM] Training model\n",
      "[LSTM] n_train=17241  #epochs=20  batch size=64\n"
     ]
    },
    {
     "name": "stderr",
     "output_type": "stream",
     "text": [
      "/home/cperreault/anaconda3/envs/snorkel-extraction/lib/python3.6/site-packages/torch/nn/functional.py:1386: UserWarning: nn.functional.sigmoid is deprecated. Use torch.sigmoid instead.\n",
      "  warnings.warn(\"nn.functional.sigmoid is deprecated. Use torch.sigmoid instead.\")\n"
     ]
    },
    {
     "name": "stdout",
     "output_type": "stream",
     "text": [
      "[LSTM] Epoch 1 (98.96s)\tAverage loss=0.621418\tDev F1=34.52\n",
      "[LSTM] Epoch 2 (205.12s)\tAverage loss=0.602544\tDev F1=38.19\n",
      "[LSTM] Epoch 3 (310.52s)\tAverage loss=0.600012\tDev F1=38.31\n",
      "[LSTM] Epoch 4 (417.26s)\tAverage loss=0.596670\tDev F1=38.80\n",
      "[LSTM] Epoch 5 (526.76s)\tAverage loss=0.593958\tDev F1=37.34\n",
      "[LSTM] Epoch 6 (632.02s)\tAverage loss=0.591960\tDev F1=39.25\n",
      "[LSTM] Epoch 7 (737.44s)\tAverage loss=0.590146\tDev F1=37.79\n",
      "[LSTM] Epoch 8 (843.75s)\tAverage loss=0.589350\tDev F1=39.82\n",
      "[LSTM] Epoch 9 (950.00s)\tAverage loss=0.588057\tDev F1=35.49\n",
      "[LSTM] Epoch 10 (1057.21s)\tAverage loss=0.587207\tDev F1=36.24\n",
      "[LSTM] Epoch 11 (1169.07s)\tAverage loss=0.586520\tDev F1=36.65\n",
      "[LSTM] Epoch 12 (1275.68s)\tAverage loss=0.585722\tDev F1=41.35\n",
      "[LSTM] Epoch 13 (1382.80s)\tAverage loss=0.584828\tDev F1=38.24\n",
      "[LSTM] Epoch 14 (1530.79s)\tAverage loss=0.584799\tDev F1=36.74\n",
      "[LSTM] Epoch 15 (1737.80s)\tAverage loss=0.584585\tDev F1=38.76\n",
      "[LSTM] Epoch 16 (1928.09s)\tAverage loss=0.583951\tDev F1=36.49\n",
      "[LSTM] Epoch 17 (2122.83s)\tAverage loss=0.583836\tDev F1=36.07\n",
      "[LSTM] Model saved as <LSTM>\n",
      "[LSTM] Epoch 18 (2320.37s)\tAverage loss=0.583515\tDev F1=36.86\n",
      "[LSTM] Model saved as <LSTM>\n",
      "[LSTM] Epoch 19 (2523.95s)\tAverage loss=0.583246\tDev F1=35.08\n",
      "[LSTM] Epoch 20 (2729.76s)\tAverage loss=0.582772\tDev F1=35.19\n",
      "[LSTM] Training done (2744.47s)\n",
      "[LSTM] Loaded model <LSTM>\n"
     ]
    }
   ],
   "source": [
    "from snorkel.learning.pytorch import LSTM\n",
    "\n",
    "train_kwargs = {\n",
    "    'lr':            0.01,\n",
    "    'embedding_dim': 50,\n",
    "    'hidden_dim':    50,\n",
    "    'n_epochs':      20,\n",
    "    'dropout':       0.25,\n",
    "    'seed':          1701\n",
    "}\n",
    "\n",
    "lstm = LSTM(n_threads=None)\n",
    "lstm.train(train_cands, train_marginals, X_dev=dev_cands, Y_dev=L_gold_dev, **train_kwargs)"
   ]
  },
  {
   "cell_type": "markdown",
   "metadata": {},
   "source": [
    "Now, we get the precision, recall, and F1 score from the discriminative model:"
   ]
  },
  {
   "cell_type": "code",
   "execution_count": 7,
   "metadata": {},
   "outputs": [
    {
     "name": "stdout",
     "output_type": "stream",
     "text": [
      "Prec: 0.307, Recall: 0.706, F1 Score: 0.428\n"
     ]
    }
   ],
   "source": [
    "p, r, f1 = lstm.score(test_cands, L_gold_test)\n",
    "print(\"Prec: {0:.3f}, Recall: {1:.3f}, F1 Score: {2:.3f}\".format(p, r, f1))"
   ]
  },
  {
   "cell_type": "markdown",
   "metadata": {},
   "source": [
    "We can also get the candidates returned in sets (true positives, false positives, true negatives, false negatives) as well as a more detailed score report:"
   ]
  },
  {
   "cell_type": "code",
   "execution_count": 8,
   "metadata": {},
   "outputs": [
    {
     "name": "stdout",
     "output_type": "stream",
     "text": [
      "========================================\n",
      "Scores (Un-adjusted)\n",
      "========================================\n",
      "Pos. class accuracy: 0.706\n",
      "Neg. class accuracy: 0.86\n",
      "Precision            0.307\n",
      "Recall               0.706\n",
      "F1                   0.428\n",
      "----------------------------------------\n",
      "TP: 154 | FP: 348 | TN: 2135 | FN: 64\n",
      "========================================\n",
      "\n"
     ]
    }
   ],
   "source": [
    "tp, fp, tn, fn = lstm.error_analysis(session, test_cands, L_gold_test)"
   ]
  },
  {
   "cell_type": "markdown",
   "metadata": {},
   "source": [
    "Note that if this is the final test set that you will be reporting final numbers on, to avoid biasing results you should not inspect results.  However you can run the model on your _development set_ and, as we did in the previous part with the generative labeling function model, inspect examples to do error analysis.\n",
    "\n",
    "You can also improve performance substantially by increasing the number of training epochs!\n",
    "\n",
    "Finally, we can save the predictions of the model on the test set back to the database. (This also works for other candidate sets, such as unlabeled candidates.)"
   ]
  },
  {
   "cell_type": "code",
   "execution_count": 29,
   "metadata": {},
   "outputs": [
    {
     "name": "stdout",
     "output_type": "stream",
     "text": [
      "[LSTM] Model saved as <weak_supervision>\n"
     ]
    }
   ],
   "source": [
    "lstm.save('weak_supervision')"
   ]
  },
  {
   "cell_type": "code",
   "execution_count": 9,
   "metadata": {},
   "outputs": [
    {
     "name": "stdout",
     "output_type": "stream",
     "text": [
      "Saved 2701 marginals\n"
     ]
    }
   ],
   "source": [
    "lstm.save_marginals(session, test_cands)"
   ]
  },
  {
   "cell_type": "code",
   "execution_count": 32,
   "metadata": {},
   "outputs": [],
   "source": [
    "lstm_small = LSTM(n_threads=None)"
   ]
  },
  {
   "cell_type": "code",
   "execution_count": 45,
   "metadata": {},
   "outputs": [],
   "source": [
    "labels = L_gold_dev.toarray()"
   ]
  },
  {
   "cell_type": "code",
   "execution_count": 46,
   "metadata": {},
   "outputs": [],
   "source": [
    "labels[labels != 1] = 0"
   ]
  },
  {
   "cell_type": "code",
   "execution_count": 49,
   "metadata": {},
   "outputs": [
    {
     "data": {
      "text/plain": [
       "(22254,)"
      ]
     },
     "execution_count": 49,
     "metadata": {},
     "output_type": "execute_result"
    }
   ],
   "source": [
    "train_marginals.shape"
   ]
  },
  {
   "cell_type": "code",
   "execution_count": 50,
   "metadata": {},
   "outputs": [
    {
     "name": "stdout",
     "output_type": "stream",
     "text": [
      "[LSTM] Training model\n",
      "[LSTM] n_train=2811  #epochs=20  batch size=64\n",
      "[LSTM] Epoch 1 (28.14s)\tAverage loss=0.300984\n",
      "[LSTM] Epoch 2 (56.03s)\tAverage loss=0.248689\n",
      "[LSTM] Epoch 3 (85.21s)\tAverage loss=0.248711\n",
      "[LSTM] Epoch 4 (113.31s)\tAverage loss=0.245092\n",
      "[LSTM] Epoch 5 (141.55s)\tAverage loss=0.217695\n",
      "[LSTM] Epoch 6 (168.59s)\tAverage loss=0.167240\n",
      "[LSTM] Epoch 7 (199.28s)\tAverage loss=0.137144\n",
      "[LSTM] Epoch 8 (227.53s)\tAverage loss=0.119306\n",
      "[LSTM] Epoch 9 (255.76s)\tAverage loss=0.107908\n",
      "[LSTM] Epoch 10 (282.96s)\tAverage loss=0.101803\n",
      "[LSTM] Epoch 11 (311.17s)\tAverage loss=0.094658\n",
      "[LSTM] Epoch 12 (340.20s)\tAverage loss=0.088760\n",
      "[LSTM] Epoch 13 (368.99s)\tAverage loss=0.089042\n",
      "[LSTM] Epoch 14 (397.25s)\tAverage loss=0.084394\n",
      "[LSTM] Epoch 15 (423.96s)\tAverage loss=0.076003\n",
      "[LSTM] Epoch 16 (453.84s)\tAverage loss=0.076825\n",
      "[LSTM] Epoch 17 (481.91s)\tAverage loss=0.076285\n",
      "[LSTM] Epoch 18 (510.62s)\tAverage loss=0.068815\n",
      "[LSTM] Epoch 19 (539.43s)\tAverage loss=0.071791\n",
      "[LSTM] Epoch 20 (569.40s)\tAverage loss=0.074573\n",
      "[LSTM] Training done (569.40s)\n"
     ]
    }
   ],
   "source": [
    "lstm_small.train(dev_cands, labels.reshape(2811,), **train_kwargs)"
   ]
  },
  {
   "cell_type": "code",
   "execution_count": 51,
   "metadata": {},
   "outputs": [
    {
     "name": "stdout",
     "output_type": "stream",
     "text": [
      "[LSTM] Model saved as <small_dataset>\n"
     ]
    }
   ],
   "source": [
    "lstm_small.save('small_dataset')"
   ]
  },
  {
   "cell_type": "code",
   "execution_count": 52,
   "metadata": {},
   "outputs": [
    {
     "name": "stdout",
     "output_type": "stream",
     "text": [
      "========================================\n",
      "Scores (Un-adjusted)\n",
      "========================================\n",
      "Pos. class accuracy: 0.165\n",
      "Neg. class accuracy: 0.922\n",
      "Precision            0.157\n",
      "Recall               0.165\n",
      "F1                   0.161\n",
      "----------------------------------------\n",
      "TP: 36 | FP: 194 | TN: 2289 | FN: 182\n",
      "========================================\n",
      "\n"
     ]
    }
   ],
   "source": [
    "tp, fp, tn, fn = lstm_small.error_analysis(session, test_cands, L_gold_test)"
   ]
  },
  {
   "cell_type": "markdown",
   "metadata": {},
   "source": [
    "##### More importantly, you completed the introduction to Snorkel! Give yourself a pat on the back!"
   ]
  },
  {
   "cell_type": "code",
   "execution_count": 14,
   "metadata": {},
   "outputs": [],
   "source": [
    "y = L_gold_test.toarray()"
   ]
  },
  {
   "cell_type": "code",
   "execution_count": 21,
   "metadata": {},
   "outputs": [],
   "source": [
    "q =L_gold_dev.toarray()"
   ]
  },
  {
   "cell_type": "code",
   "execution_count": 35,
   "metadata": {},
   "outputs": [
    {
     "data": {
      "text/plain": [
       "array([ 0.19843132,  0.19843132,  0.19843132,  0.19843132,  0.5       ,\n",
       "        0.5       ,  0.19843132,  0.19843132,  0.5       ,  0.19843132])"
      ]
     },
     "execution_count": 35,
     "metadata": {},
     "output_type": "execute_result"
    }
   ],
   "source": [
    "train_marginals[:10]"
   ]
  },
  {
   "cell_type": "code",
   "execution_count": 43,
   "metadata": {},
   "outputs": [
    {
     "data": {
      "text/plain": [
       "Spouse(Span(\"b'Saif'\", sentence=14862, chars=[224,227], words=[41,41]), Span(\"b\" Ileana D'Cruz\"\", sentence=14862, chars=[308,321], words=[60,62]))"
      ]
     },
     "execution_count": 43,
     "metadata": {},
     "output_type": "execute_result"
    }
   ],
   "source": []
  },
  {
   "cell_type": "code",
   "execution_count": null,
   "metadata": {},
   "outputs": [],
   "source": []
  }
 ],
 "metadata": {
  "anaconda-cloud": {},
  "kernelspec": {
   "display_name": "Python 3 (ipykernel)",
   "language": "python",
   "name": "python3"
  },
  "language_info": {
   "codemirror_mode": {
    "name": "ipython",
    "version": 3
   },
   "file_extension": ".py",
   "mimetype": "text/x-python",
   "name": "python",
   "nbconvert_exporter": "python",
   "pygments_lexer": "ipython3",
   "version": "3.6.13"
  }
 },
 "nbformat": 4,
 "nbformat_minor": 1
}
