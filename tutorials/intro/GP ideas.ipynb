{
 "cells": [
  {
   "cell_type": "code",
   "execution_count": 1,
   "id": "afe87e43",
   "metadata": {},
   "outputs": [],
   "source": [
    "import numpy as np\n",
    "import matplotlib.pyplot as plt\n",
    "from sklearn.gaussian_process import GaussianProcessClassifier\n",
    "from sklearn.gaussian_process.kernels import RBF,WhiteKernel,DotProduct\n",
    "import pandas as pd\n",
    "import torch"
   ]
  },
  {
   "cell_type": "code",
   "execution_count": 2,
   "id": "755a38a4",
   "metadata": {},
   "outputs": [],
   "source": [
    "from snorkel import SnorkelSession\n",
    "from snorkel.models import candidate_subclass\n",
    "from snorkel.annotations import load_gold_labels\n",
    "from snorkel.learning.pytorch import LSTM\n",
    "from scipy import vstack"
   ]
  },
  {
   "cell_type": "code",
   "execution_count": 3,
   "id": "ecd0eab2",
   "metadata": {},
   "outputs": [],
   "source": [
    "lstm = LSTM(n_threads=None)\n"
   ]
  },
  {
   "cell_type": "code",
   "execution_count": 4,
   "id": "61230160",
   "metadata": {},
   "outputs": [
    {
     "name": "stdout",
     "output_type": "stream",
     "text": [
      "[LSTM] Loaded model <weak_supervision_5_layers>\n"
     ]
    }
   ],
   "source": [
    "lstm.load('weak_supervision_5_layers')"
   ]
  },
  {
   "cell_type": "code",
   "execution_count": 5,
   "id": "ba88a90f",
   "metadata": {},
   "outputs": [],
   "source": [
    "session = SnorkelSession()"
   ]
  },
  {
   "cell_type": "code",
   "execution_count": 6,
   "id": "ac2fcf3a",
   "metadata": {},
   "outputs": [],
   "source": [
    "from snorkel.models import candidate_subclass\n",
    "\n",
    "Spouse = candidate_subclass('Spouse', ['person1', 'person2'])"
   ]
  },
  {
   "cell_type": "code",
   "execution_count": 7,
   "id": "2984e12c",
   "metadata": {},
   "outputs": [],
   "source": [
    "from snorkel.annotations import load_marginals\n",
    "\n",
    "train_marginals = load_marginals(session, split=0)"
   ]
  },
  {
   "cell_type": "code",
   "execution_count": 8,
   "id": "c150f521",
   "metadata": {},
   "outputs": [],
   "source": [
    "train_cands = session.query(Spouse).filter(Spouse.split == 0).order_by(Spouse.id).all()\n",
    "dev_cands   = session.query(Spouse).filter(Spouse.split == 1).order_by(Spouse.id).all()\n",
    "test_cands  = session.query(Spouse).filter(Spouse.split == 2).order_by(Spouse.id).all()"
   ]
  },
  {
   "cell_type": "code",
   "execution_count": 13,
   "id": "410b6739",
   "metadata": {},
   "outputs": [
    {
     "name": "stdout",
     "output_type": "stream",
     "text": [
      "22254 2811 2701\n"
     ]
    }
   ],
   "source": [
    "print(len(train_cands), len(dev_cands), len(test_cands))"
   ]
  },
  {
   "cell_type": "code",
   "execution_count": 15,
   "id": "1315625c",
   "metadata": {},
   "outputs": [],
   "source": [
    "from snorkel.annotations import load_gold_labels\n",
    "\n",
    "L_gold_dev  = load_gold_labels(session, annotator_name='gold', split=1)\n",
    "L_gold_test = load_gold_labels(session, annotator_name='gold', split=2)"
   ]
  },
  {
   "cell_type": "code",
   "execution_count": 16,
   "id": "a7cbb098",
   "metadata": {},
   "outputs": [],
   "source": [
    "L_gold_train = load_gold_labels(session, annotator_name='gold', split=0)"
   ]
  },
  {
   "cell_type": "code",
   "execution_count": 17,
   "id": "9d8929ef",
   "metadata": {},
   "outputs": [],
   "source": [
    "unid = [i for i,x in enumerate(L_gold_dev.toarray()) if x == 0]"
   ]
  },
  {
   "cell_type": "code",
   "execution_count": 18,
   "id": "179591c5",
   "metadata": {},
   "outputs": [],
   "source": [
    "dev_cleaned = [x for i,x in enumerate(dev_cands) if i not in unid]\n",
    "dev_labels_cleaned = L_gold_dev.toarray().tolist()\n",
    "dev_labels_cleaned = np.array([x for i,x in enumerate(dev_labels_cleaned) if i not in unid])\n",
    "dev_labels_cleaned[dev_labels_cleaned==-1] = 0"
   ]
  },
  {
   "cell_type": "code",
   "execution_count": 19,
   "id": "d6663cf8",
   "metadata": {},
   "outputs": [],
   "source": [
    "kernel1 =  RBF(1) + WhiteKernel(noise_level=1) #first attempt at defining a kernel. Not exactly sure what will be best for this or how to tell\n",
    "kernel2 = RBF(1) + WhiteKernel(noise_level=1)\n",
    "gpc_dev = GaussianProcessClassifier(kernel = kernel1)\n",
    "gpc_train = GaussianProcessClassifier(kernel = kernel2)"
   ]
  },
  {
   "cell_type": "code",
   "execution_count": 22,
   "id": "84c5efcd",
   "metadata": {},
   "outputs": [],
   "source": [
    "dev_features = lstm.feature_outputs(dev_cleaned,100).detach().numpy().reshape(2695,10)\n",
    "test_features = lstm.feature_outputs(test_cands,100).detach().numpy().reshape(2701,10)\n",
    "train_features = lstm.feature_outputs(train_cands,100).detach().numpy().reshape(22254,10)"
   ]
  },
  {
   "cell_type": "code",
   "execution_count": 24,
   "id": "009c51e2",
   "metadata": {},
   "outputs": [],
   "source": [
    "train_labels = train_marginals.copy()\n",
    "train_labels[train_labels > .5] = 1\n",
    "\n",
    "train_labels[train_labels <= .5] = 0"
   ]
  },
  {
   "cell_type": "code",
   "execution_count": 23,
   "id": "b781e953",
   "metadata": {},
   "outputs": [],
   "source": [
    "dev_centered = dev_features - np.mean(dev_features,axis=0)\n",
    "train_centered = train_features - np.mean(train_features,axis=0)\n",
    "dev_test_centered = test_features - np.mean(dev_features,axis=0)\n",
    "train_test_centered = test_features - np.mean(train_features,axis=0)"
   ]
  },
  {
   "cell_type": "code",
   "execution_count": 25,
   "id": "217a487c",
   "metadata": {},
   "outputs": [],
   "source": [
    "dev_norm = dev_centered / np.max(dev_centered, axis = 0)\n",
    "train_norm = train_centered / np.max(train_centered, axis = 0)\n",
    "dev_test_norm = dev_test_centered / np.max(dev_centered, axis = 0)\n",
    "train_test_norm = train_test_centered / np.max(train_centered, axis = 0)"
   ]
  },
  {
   "cell_type": "code",
   "execution_count": 26,
   "id": "d5af234c",
   "metadata": {},
   "outputs": [
    {
     "data": {
      "text/plain": [
       "GaussianProcessClassifier(copy_X_train=True,\n",
       "                          kernel=RBF(length_scale=1) + WhiteKernel(noise_level=1),\n",
       "                          max_iter_predict=100, multi_class='one_vs_rest',\n",
       "                          n_jobs=None, n_restarts_optimizer=0,\n",
       "                          optimizer='fmin_l_bfgs_b', random_state=None,\n",
       "                          warm_start=False)"
      ]
     },
     "execution_count": 26,
     "metadata": {},
     "output_type": "execute_result"
    }
   ],
   "source": [
    "gpc_dev.fit(dev_norm,dev_labels_cleaned.reshape(2695,))"
   ]
  },
  {
   "cell_type": "code",
   "execution_count": 27,
   "id": "057671f7",
   "metadata": {},
   "outputs": [
    {
     "data": {
      "text/plain": [
       "RBF(length_scale=1.89) + WhiteKernel(noise_level=1e-05)"
      ]
     },
     "execution_count": 27,
     "metadata": {},
     "output_type": "execute_result"
    }
   ],
   "source": [
    "gpc_dev.kernel_"
   ]
  },
  {
   "cell_type": "code",
   "execution_count": 33,
   "id": "e783babb",
   "metadata": {},
   "outputs": [
    {
     "data": {
      "text/plain": [
       "torch.Size([2701, 10])"
      ]
     },
     "execution_count": 33,
     "metadata": {},
     "output_type": "execute_result"
    }
   ],
   "source": [
    "test_features.shape"
   ]
  },
  {
   "cell_type": "code",
   "execution_count": 28,
   "id": "b8d04ae0",
   "metadata": {},
   "outputs": [
    {
     "data": {
      "text/plain": [
       "GaussianProcessClassifier(copy_X_train=True,\n",
       "                          kernel=RBF(length_scale=1) + WhiteKernel(noise_level=1),\n",
       "                          max_iter_predict=100, multi_class='one_vs_rest',\n",
       "                          n_jobs=None, n_restarts_optimizer=0,\n",
       "                          optimizer='fmin_l_bfgs_b', random_state=None,\n",
       "                          warm_start=False)"
      ]
     },
     "execution_count": 28,
     "metadata": {},
     "output_type": "execute_result"
    }
   ],
   "source": [
    "gpc_train.fit(train_norm[:3000], train_labels.reshape(22254,)[:3000])"
   ]
  },
  {
   "cell_type": "code",
   "execution_count": 29,
   "id": "8040f8e8",
   "metadata": {},
   "outputs": [
    {
     "data": {
      "text/plain": [
       "RBF(length_scale=1.09) + WhiteKernel(noise_level=1e-05)"
      ]
     },
     "execution_count": 29,
     "metadata": {},
     "output_type": "execute_result"
    }
   ],
   "source": [
    "gpc_train.kernel_"
   ]
  },
  {
   "cell_type": "code",
   "execution_count": 31,
   "id": "f8afd4f0",
   "metadata": {},
   "outputs": [],
   "source": [
    "ud = []\n",
    "ut = []\n",
    "preds_d = gpc_dev.predict_proba(dev_test_norm, uncertainty = ud)\n",
    "preds_t = gpc_train.predict_proba(train_test_norm, uncertainty = ut)\n",
    "ud = np.array(ud[0])\n",
    "ut = np.array(ut[0])"
   ]
  },
  {
   "cell_type": "code",
   "execution_count": 32,
   "id": "e242b1ab",
   "metadata": {},
   "outputs": [],
   "source": [
    "test_y = L_gold_test.toarray()"
   ]
  },
  {
   "cell_type": "code",
   "execution_count": 33,
   "id": "909f4f8a",
   "metadata": {},
   "outputs": [],
   "source": [
    "unid = [i for i,x in enumerate(test_y) if x == 0]"
   ]
  },
  {
   "cell_type": "code",
   "execution_count": 34,
   "id": "26b5c0e5",
   "metadata": {},
   "outputs": [],
   "source": [
    "test_labels_cleaned = test_y.tolist()\n",
    "test_labels_cleaned = np.array([x for i,x in enumerate(test_labels_cleaned) if i not in unid])\n",
    "test_labels_cleaned[test_labels_cleaned==-1] = 0"
   ]
  },
  {
   "cell_type": "code",
   "execution_count": 35,
   "id": "862308fc",
   "metadata": {},
   "outputs": [],
   "source": [
    "pd = []\n",
    "for x in preds_d:\n",
    "    if x[0] > .5:\n",
    "        pd.append(0)\n",
    "    else:\n",
    "        pd.append(1)\n",
    "pt = []\n",
    "for x in preds_t:\n",
    "    if x[0] >.5:\n",
    "        pt.append(0)\n",
    "    else:\n",
    "        pt.append(1)"
   ]
  },
  {
   "cell_type": "code",
   "execution_count": 48,
   "id": "a735b4d0",
   "metadata": {},
   "outputs": [],
   "source": [
    "buckets = np.linspace(-1,1,500)\n",
    "f1scores = []\n",
    "acc = []\n",
    "for b in buckets:\n",
    "    tp,fp,tn,fn = 0,0,0,0\n",
    "    for j,p in enumerate(test_labels_cleaned):\n",
    "        dif_t = abs(preds_t[j][0] - preds_t[j][1])\n",
    "        dif_d = abs(preds_d[j][0] - preds_d[j][1])\n",
    "#         t_vote = (1-dif_t) * ct[j]\n",
    "#         d_vote = (1-dif_d) * cd[j]\n",
    "        #switch_d = scipy.stats.norm.cdf(.5, max(preds_d[j]), math.sqrt(ud[j]))\n",
    "        #switch_t = scipy.stats.norm.cdf(.5, max(preds_t[j]), math.sqrt(ut[j]))\n",
    "        #t_vote = (1-dif_t) # (1- scipy.stats.norm.cdf(.5, dif_t + .5, math.sqrt(ut[j])))# * dif_t\n",
    "        #d_vote = #(1- scipy.stats.norm.cdf(.5, dif_d + .5, math.sqrt(ud[j])))# * dif_d\n",
    "        pr = 0\n",
    "        if dif_t - dif_d < b:\n",
    "            pr = pd[j]\n",
    "        else:\n",
    "            pr = pt[j]\n",
    "#         if switch_d - switch_t < b:\n",
    "#             pr = pd[j]\n",
    "#         else:\n",
    "#             pr = pt[j]\n",
    "        if p == 0 and pr == 0:\n",
    "            tn += 1\n",
    "        elif p == 0 and pr == 1:\n",
    "            fp += 1\n",
    "        elif p == 1 and pr == 0:\n",
    "            fn += 1\n",
    "        else: #p == 1 and preds[j] == 1:\n",
    "            tp += 1\n",
    "    p = tp / (tp + fp)\n",
    "    r = tp / (tp + fn)\n",
    "    f1 = 2 / (1/p + 1/r)\n",
    "    f1scores.append(f1)\n",
    "    acc.append((tp + tn) / (tp + fn + tn + fp))"
   ]
  },
  {
   "cell_type": "code",
   "execution_count": 49,
   "id": "71f3dcd4",
   "metadata": {},
   "outputs": [
    {
     "data": {
      "text/plain": [
       "[<matplotlib.lines.Line2D at 0x7f6cd8abc7f0>]"
      ]
     },
     "execution_count": 49,
     "metadata": {},
     "output_type": "execute_result"
    },
    {
     "data": {
      "image/png": "[encoded data removed]",
      "text/plain": [
       "<Figure size 432x288 with 1 Axes>"
      ]
     },
     "metadata": {
      "needs_background": "light"
     },
     "output_type": "display_data"
    }
   ],
   "source": [
    "plt.plot(buckets,f1scores)"
   ]
  },
  {
   "cell_type": "code",
   "execution_count": 50,
   "id": "30bfc922",
   "metadata": {},
   "outputs": [
    {
     "data": {
      "text/plain": [
       "[<matplotlib.lines.Line2D at 0x7f6cd8a18908>]"
      ]
     },
     "execution_count": 50,
     "metadata": {},
     "output_type": "execute_result"
    },
    {
     "data": {
      "image/png": "[encoded data removed]",
      "text/plain": [
       "<Figure size 432x288 with 1 Axes>"
      ]
     },
     "metadata": {
      "needs_background": "light"
     },
     "output_type": "display_data"
    }
   ],
   "source": [
    "plt.plot(buckets,acc)"
   ]
  },
  {
   "cell_type": "code",
   "execution_count": 51,
   "id": "3dd0433c",
   "metadata": {},
   "outputs": [],
   "source": [
    "buckets = np.linspace(0,.1, 14)"
   ]
  },
  {
   "cell_type": "code",
   "execution_count": 52,
   "id": "8a5b4dab",
   "metadata": {},
   "outputs": [
    {
     "name": "stdout",
     "output_type": "stream",
     "text": [
      "Bucket 0.007692307692307693: \n",
      " Count: 0\n",
      " F1: 0\n",
      "0,0,0,0\n",
      "Bucket 0.015384615384615385: \n",
      " Count: 0\n",
      " F1: 0\n",
      "0,0,0,0\n",
      "Bucket 0.023076923076923078: \n",
      " Count: 1\n",
      " F1: 0\n",
      "0,0,1,0\n",
      "Bucket 0.03076923076923077: \n",
      " Count: 84\n",
      " F1: 0\n",
      "0,0,79,5\n",
      "Bucket 0.038461538461538464: \n",
      " Count: 294\n",
      " F1: 0\n",
      "0,0,271,23\n",
      "Bucket 0.046153846153846156: \n",
      " Count: 310\n",
      " F1: 0\n",
      "0,3,277,30\n",
      "Bucket 0.05384615384615385: \n",
      " Count: 282\n",
      " F1: 0.11764705882352941\n",
      "2,8,250,22\n",
      "Bucket 0.06153846153846154: \n",
      " Count: 298\n",
      " F1: 0.08695652173913043\n",
      "1,12,276,9\n",
      "Bucket 0.06923076923076923: \n",
      " Count: 243\n",
      " F1: 0.06451612903225806\n",
      "1,10,213,19\n",
      "Bucket 0.07692307692307693: \n",
      " Count: 180\n",
      " F1: 0.058823529411764705\n",
      "1,21,147,11\n",
      "Bucket 0.08461538461538462: \n",
      " Count: 180\n",
      " F1: 0\n",
      "0,22,147,11\n",
      "Bucket 0.09230769230769231: \n",
      " Count: 167\n",
      " F1: 0\n",
      "0,12,141,14\n",
      "Bucket 0.1: \n",
      " Count: 88\n",
      " F1: 0\n",
      "0,11,73,4\n"
     ]
    }
   ],
   "source": [
    "tpfp = []\n",
    "tnfn = []\n",
    "f1scores = []\n",
    "for i in range(13):\n",
    "    count = 0\n",
    "    tp,fp,tn,fn = 0,0,0,0\n",
    "    for j,p in enumerate(dev_labels_cleaned):\n",
    "        if ud[j] >= buckets[i] and ud[j] < buckets[i+1]:\n",
    "            count += 1\n",
    "            if p == 0 and pd[j] == 0:\n",
    "                tn += 1\n",
    "            elif p == 0 and pd[j] == 1:\n",
    "                fp += 1\n",
    "            elif p == 1 and pd[j] == 0:\n",
    "                fn += 1\n",
    "            elif p == 1 and pd[j] == 1:\n",
    "                tp += 1\n",
    "    try:\n",
    "        p = tp / (tp + fp)\n",
    "    except:\n",
    "        p = 0\n",
    "    try:\n",
    "        r = tp / (tp + fn)\n",
    "    except: \n",
    "        r = 0\n",
    "    try:\n",
    "        f1 = 2/(1/p + 1/r)\n",
    "    except:\n",
    "        f1 = 0\n",
    "    try:\n",
    "        tpfp.append(tp/(tp +fp))\n",
    "    except:\n",
    "        tpfp.append(0)\n",
    "    try:\n",
    "        tnfn.append(tn/(tn +fn))\n",
    "    except:\n",
    "        tnfn.append(0)\n",
    "    f1scores.append(f1)\n",
    "    print (\"Bucket {}: \\n Count: {}\\n F1: {}\\n{},{},{},{}\".format(buckets[i+1], count, f1,tp,fp,tn,fn))"
   ]
  },
  {
   "cell_type": "code",
   "execution_count": 53,
   "id": "0f8c6464",
   "metadata": {},
   "outputs": [
    {
     "data": {
      "text/plain": [
       "<BarContainer object of 13 artists>"
      ]
     },
     "execution_count": 53,
     "metadata": {},
     "output_type": "execute_result"
    },
    {
     "data": {
      "image/png": "[encoded data removed]",
      "text/plain": [
       "<Figure size 432x288 with 1 Axes>"
      ]
     },
     "metadata": {
      "needs_background": "light"
     },
     "output_type": "display_data"
    }
   ],
   "source": [
    "plt.bar(np.arange(13),tpfp)"
   ]
  },
  {
   "cell_type": "code",
   "execution_count": 54,
   "id": "7a9609e3",
   "metadata": {},
   "outputs": [
    {
     "data": {
      "text/plain": [
       "<BarContainer object of 13 artists>"
      ]
     },
     "execution_count": 54,
     "metadata": {},
     "output_type": "execute_result"
    },
    {
     "data": {
      "image/png": "[encoded data removed]",
      "text/plain": [
       "<Figure size 432x288 with 1 Axes>"
      ]
     },
     "metadata": {
      "needs_background": "light"
     },
     "output_type": "display_data"
    }
   ],
   "source": [
    "plt.bar(np.arange(13),tnfn)"
   ]
  },
  {
   "cell_type": "code",
   "execution_count": 55,
   "id": "8b5fcb6e",
   "metadata": {},
   "outputs": [
    {
     "data": {
      "text/plain": [
       "<BarContainer object of 13 artists>"
      ]
     },
     "execution_count": 55,
     "metadata": {},
     "output_type": "execute_result"
    },
    {
     "data": {
      "image/png": "[encoded data removed]",
      "text/plain": [
       "<Figure size 432x288 with 1 Axes>"
      ]
     },
     "metadata": {
      "needs_background": "light"
     },
     "output_type": "display_data"
    }
   ],
   "source": [
    "plt.bar(np.arange(13),f1scores)"
   ]
  },
  {
   "cell_type": "code",
   "execution_count": 97,
   "id": "a939b906",
   "metadata": {},
   "outputs": [
    {
     "ename": "NameError",
     "evalue": "name 'gpc_high' is not defined",
     "output_type": "error",
     "traceback": [
      "\u001b[0;31m---------------------------------------------------------------------------\u001b[0m",
      "\u001b[0;31mNameError\u001b[0m                                 Traceback (most recent call last)",
      "\u001b[0;32m<ipython-input-97-c2f09b11ba38>\u001b[0m in \u001b[0;36m<module>\u001b[0;34m\u001b[0m\n\u001b[0;32m----> 1\u001b[0;31m \u001b[0mgpc_high\u001b[0m\u001b[0;34m.\u001b[0m\u001b[0mscore\u001b[0m\u001b[0;34m(\u001b[0m\u001b[0mdev_features\u001b[0m\u001b[0;34m.\u001b[0m\u001b[0mdetach\u001b[0m\u001b[0;34m(\u001b[0m\u001b[0;34m)\u001b[0m\u001b[0;34m.\u001b[0m\u001b[0mnumpy\u001b[0m\u001b[0;34m(\u001b[0m\u001b[0;34m)\u001b[0m\u001b[0;34m,\u001b[0m\u001b[0mdev_y\u001b[0m\u001b[0;34m)\u001b[0m\u001b[0;34m\u001b[0m\u001b[0;34m\u001b[0m\u001b[0m\n\u001b[0m",
      "\u001b[0;31mNameError\u001b[0m: name 'gpc_high' is not defined"
     ]
    }
   ],
   "source": [
    "gpc_high.score(dev_features.detach().numpy(),dev_y)"
   ]
  },
  {
   "cell_type": "code",
   "execution_count": 98,
   "id": "c857770f",
   "metadata": {},
   "outputs": [
    {
     "ename": "NameError",
     "evalue": "name 'gpc_high' is not defined",
     "output_type": "error",
     "traceback": [
      "\u001b[0;31m---------------------------------------------------------------------------\u001b[0m",
      "\u001b[0;31mNameError\u001b[0m                                 Traceback (most recent call last)",
      "\u001b[0;32m<ipython-input-98-df4f4cb8f8ac>\u001b[0m in \u001b[0;36m<module>\u001b[0;34m\u001b[0m\n\u001b[0;32m----> 1\u001b[0;31m \u001b[0mgpc_high\u001b[0m\u001b[0;34m.\u001b[0m\u001b[0mkernel_\u001b[0m\u001b[0;34m\u001b[0m\u001b[0;34m\u001b[0m\u001b[0m\n\u001b[0m",
      "\u001b[0;31mNameError\u001b[0m: name 'gpc_high' is not defined"
     ]
    }
   ],
   "source": [
    "gpc_high.kernel_"
   ]
  },
  {
   "cell_type": "code",
   "execution_count": null,
   "id": "8c24cd9a",
   "metadata": {},
   "outputs": [],
   "source": []
  }
 ],
 "metadata": {
  "kernelspec": {
   "display_name": "Python 3",
   "language": "python",
   "name": "python3"
  },
  "language_info": {
   "codemirror_mode": {
    "name": "ipython",
    "version": 3
   },
   "file_extension": ".py",
   "mimetype": "text/x-python",
   "name": "python",
   "nbconvert_exporter": "python",
   "pygments_lexer": "ipython3",
   "version": "3.6.15"
  }
 },
 "nbformat": 4,
 "nbformat_minor": 5
}
