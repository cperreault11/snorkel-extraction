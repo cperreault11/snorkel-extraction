{
 "cells": [
  {
   "cell_type": "code",
   "execution_count": 1,
   "id": "afe87e43",
   "metadata": {},
   "outputs": [],
   "source": [
    "import numpy as np\n",
    "import matplotlib.pyplot as plt\n",
    "from sklearn.gaussian_process import GaussianProcessClassifier\n",
    "from sklearn.gaussian_process.kernels import RBF,WhiteKernel,DotProduct\n",
    "import pandas as pd\n",
    "import torch"
   ]
  },
  {
   "cell_type": "code",
   "execution_count": 2,
   "id": "755a38a4",
   "metadata": {},
   "outputs": [],
   "source": [
    "from snorkel import SnorkelSession\n",
    "from snorkel.models import candidate_subclass\n",
    "from snorkel.annotations import load_gold_labels\n",
    "from snorkel.learning.pytorch import LSTM\n",
    "from scipy import vstack"
   ]
  },
  {
   "cell_type": "code",
   "execution_count": 3,
   "id": "ecd0eab2",
   "metadata": {},
   "outputs": [],
   "source": [
    "lstm_h = LSTM(n_threads=None)\n",
    "lstm_l = LSTM(n_threads=None)"
   ]
  },
  {
   "cell_type": "code",
   "execution_count": 4,
   "id": "61230160",
   "metadata": {},
   "outputs": [
    {
     "name": "stdout",
     "output_type": "stream",
     "text": [
      "[LSTM] Loaded model <small_dataset>\n",
      "[LSTM] Loaded model <weak_supervision>\n"
     ]
    }
   ],
   "source": [
    "lstm_h.load('small_dataset')\n",
    "lstm_l.load('weak_supervision')"
   ]
  },
  {
   "cell_type": "code",
   "execution_count": 5,
   "id": "ba88a90f",
   "metadata": {},
   "outputs": [],
   "source": [
    "session = SnorkelSession()"
   ]
  },
  {
   "cell_type": "code",
   "execution_count": 6,
   "id": "ac2fcf3a",
   "metadata": {},
   "outputs": [],
   "source": [
    "from snorkel.models import candidate_subclass\n",
    "\n",
    "Spouse = candidate_subclass('Spouse', ['person1', 'person2'])"
   ]
  },
  {
   "cell_type": "code",
   "execution_count": 7,
   "id": "2984e12c",
   "metadata": {},
   "outputs": [],
   "source": [
    "from snorkel.annotations import load_marginals\n",
    "\n",
    "train_marginals = load_marginals(session, split=0)"
   ]
  },
  {
   "cell_type": "code",
   "execution_count": 8,
   "id": "c150f521",
   "metadata": {},
   "outputs": [],
   "source": [
    "train_cands = session.query(Spouse).filter(Spouse.split == 0).order_by(Spouse.id).all()\n",
    "dev_cands   = session.query(Spouse).filter(Spouse.split == 1).order_by(Spouse.id).all()\n",
    "test_cands  = session.query(Spouse).filter(Spouse.split == 2).order_by(Spouse.id).all()"
   ]
  },
  {
   "cell_type": "code",
   "execution_count": 9,
   "id": "1315625c",
   "metadata": {},
   "outputs": [],
   "source": [
    "from snorkel.annotations import load_gold_labels\n",
    "\n",
    "L_gold_dev  = load_gold_labels(session, annotator_name='gold', split=1)\n",
    "L_gold_test = load_gold_labels(session, annotator_name='gold', split=2)"
   ]
  },
  {
   "cell_type": "code",
   "execution_count": 10,
   "id": "6b36c140",
   "metadata": {},
   "outputs": [
    {
     "name": "stdout",
     "output_type": "stream",
     "text": [
      "Prec: 0.307, Recall: 0.706, F1 Score: 0.428\n"
     ]
    },
    {
     "name": "stderr",
     "output_type": "stream",
     "text": [
      "/home/cperreault/anaconda3/envs/snorkel-extraction/lib/python3.6/site-packages/torch/nn/functional.py:1386: UserWarning: nn.functional.sigmoid is deprecated. Use torch.sigmoid instead.\n",
      "  warnings.warn(\"nn.functional.sigmoid is deprecated. Use torch.sigmoid instead.\")\n"
     ]
    }
   ],
   "source": [
    "p, r, f1 = lstm_l.score(test_cands, L_gold_test)\n",
    "print(\"Prec: {0:.3f}, Recall: {1:.3f}, F1 Score: {2:.3f}\".format(p, r, f1))"
   ]
  },
  {
   "cell_type": "code",
   "execution_count": 11,
   "id": "c249cb39",
   "metadata": {},
   "outputs": [
    {
     "name": "stdout",
     "output_type": "stream",
     "text": [
      "Prec: 0.157, Recall: 0.165, F1 Score: 0.161\n"
     ]
    }
   ],
   "source": [
    "p, r, f1 = lstm_h.score(test_cands, L_gold_test)\n",
    "print(\"Prec: {0:.3f}, Recall: {1:.3f}, F1 Score: {2:.3f}\".format(p, r, f1))"
   ]
  },
  {
   "cell_type": "code",
   "execution_count": 45,
   "id": "d6663cf8",
   "metadata": {},
   "outputs": [],
   "source": [
    "kernel =  RBF(1, length_scale_bounds=[.1,1]) + WhiteKernel(noise_level=.1) #first attempt at defining a kernel. Not exactly sure what will be best for this or how to tell\n",
    "gpc_high = GaussianProcessClassifier(kernel = kernel)"
   ]
  },
  {
   "cell_type": "code",
   "execution_count": 13,
   "id": "84c5efcd",
   "metadata": {},
   "outputs": [],
   "source": [
    "dev_features = lstm_h.feature_outputs(dev_cands,100)"
   ]
  },
  {
   "cell_type": "code",
   "execution_count": 14,
   "id": "b781e953",
   "metadata": {},
   "outputs": [],
   "source": [
    "dev_features = dev_features.reshape(2811,50)"
   ]
  },
  {
   "cell_type": "code",
   "execution_count": 15,
   "id": "04d9f263",
   "metadata": {},
   "outputs": [],
   "source": [
    "dev_y = L_gold_dev.toarray()\n",
    "dev_y[dev_y != 1] = 0"
   ]
  },
  {
   "cell_type": "code",
   "execution_count": 46,
   "id": "d5af234c",
   "metadata": {},
   "outputs": [
    {
     "data": {
      "text/plain": [
       "GaussianProcessClassifier(copy_X_train=True,\n",
       "                          kernel=RBF(length_scale=1) + WhiteKernel(noise_level=0.1),\n",
       "                          max_iter_predict=100, multi_class='one_vs_rest',\n",
       "                          n_jobs=None, n_restarts_optimizer=0,\n",
       "                          optimizer='fmin_l_bfgs_b', random_state=None,\n",
       "                          warm_start=False)"
      ]
     },
     "execution_count": 46,
     "metadata": {},
     "output_type": "execute_result"
    }
   ],
   "source": [
    "gpc_high.fit(dev_features.detach().numpy(),dev_y.reshape(2811,))"
   ]
  },
  {
   "cell_type": "code",
   "execution_count": 17,
   "id": "4930fc54",
   "metadata": {},
   "outputs": [],
   "source": [
    "test_features_h = lstm_h.feature_outputs(test_cands,100)"
   ]
  },
  {
   "cell_type": "code",
   "execution_count": 18,
   "id": "2e679d97",
   "metadata": {},
   "outputs": [
    {
     "data": {
      "text/plain": [
       "torch.Size([135050])"
      ]
     },
     "execution_count": 18,
     "metadata": {},
     "output_type": "execute_result"
    }
   ],
   "source": [
    "test_features_h.shape"
   ]
  },
  {
   "cell_type": "code",
   "execution_count": 19,
   "id": "a337df53",
   "metadata": {},
   "outputs": [
    {
     "data": {
      "text/plain": [
       "2701.0"
      ]
     },
     "execution_count": 19,
     "metadata": {},
     "output_type": "execute_result"
    }
   ],
   "source": [
    "135050/ 50"
   ]
  },
  {
   "cell_type": "code",
   "execution_count": 47,
   "id": "dc5aa4ab",
   "metadata": {},
   "outputs": [],
   "source": [
    "uncertainty_h = []\n",
    "pred_prob = gpc_high.predict_proba(test_features_h.detach().numpy().reshape(2701,50), uncertainty = uncertainty_h)\n",
    "uncertainty_h = uncertainty_h[0]"
   ]
  },
  {
   "cell_type": "code",
   "execution_count": 48,
   "id": "862308fc",
   "metadata": {},
   "outputs": [],
   "source": [
    "preds = []\n",
    "for x in pred_prob:\n",
    "    if x[0] > .5:\n",
    "        preds.append(1)\n",
    "    else:\n",
    "        preds.append(0)"
   ]
  },
  {
   "cell_type": "code",
   "execution_count": 49,
   "id": "903d70c4",
   "metadata": {},
   "outputs": [],
   "source": [
    "uncertainty_h = np.array(uncertainty_h)"
   ]
  },
  {
   "cell_type": "code",
   "execution_count": 58,
   "id": "22f4e0f3",
   "metadata": {},
   "outputs": [
    {
     "data": {
      "text/plain": [
       "0.049643794516626975"
      ]
     },
     "execution_count": 58,
     "metadata": {},
     "output_type": "execute_result"
    }
   ],
   "source": [
    "uncertainty_h.var()"
   ]
  },
  {
   "cell_type": "code",
   "execution_count": 54,
   "id": "3dd0433c",
   "metadata": {},
   "outputs": [],
   "source": [
    "buckets = np.linspace(0,1.1, 14)"
   ]
  },
  {
   "cell_type": "code",
   "execution_count": 55,
   "id": "d7713fec",
   "metadata": {},
   "outputs": [
    {
     "data": {
      "text/plain": [
       "array([ 0.        ,  0.08461538,  0.16923077,  0.25384615,  0.33846154,\n",
       "        0.42307692,  0.50769231,  0.59230769,  0.67692308,  0.76153846,\n",
       "        0.84615385,  0.93076923,  1.01538462,  1.1       ])"
      ]
     },
     "execution_count": 55,
     "metadata": {},
     "output_type": "execute_result"
    }
   ],
   "source": [
    "buckets"
   ]
  },
  {
   "cell_type": "code",
   "execution_count": 39,
   "id": "c1dbbb9e",
   "metadata": {},
   "outputs": [],
   "source": [
    "test_y = L_gold_test.toarray()\n",
    "test_y[test_y != 1] = 0"
   ]
  },
  {
   "cell_type": "code",
   "execution_count": 30,
   "id": "f392f4c9",
   "metadata": {},
   "outputs": [
    {
     "data": {
      "text/plain": [
       "86"
      ]
     },
     "execution_count": 30,
     "metadata": {},
     "output_type": "execute_result"
    }
   ],
   "source": [
    "sum(1 for x in test_y if x ==0)\n",
    "# for now just pass on the 0 ? not sure what that means in the gold label"
   ]
  },
  {
   "cell_type": "code",
   "execution_count": 56,
   "id": "8a5b4dab",
   "metadata": {},
   "outputs": [
    {
     "name": "stdout",
     "output_type": "stream",
     "text": [
      "Bucket 0.08461538461538462: \n",
      " Count: 0\n",
      " F1: 0\n",
      "0,0,0,0\n",
      "Bucket 0.16923076923076924: \n",
      " Count: 0\n",
      " F1: 0\n",
      "0,0,0,0\n",
      "Bucket 0.25384615384615383: \n",
      " Count: 0\n",
      " F1: 0\n",
      "0,0,0,0\n",
      "Bucket 0.3384615384615385: \n",
      " Count: 112\n",
      " F1: 0.11764705882352941\n",
      "7,105,0,0\n",
      "Bucket 0.42307692307692313: \n",
      " Count: 191\n",
      " F1: 0.08040201005025126\n",
      "8,183,0,0\n",
      "Bucket 0.5076923076923077: \n",
      " Count: 161\n",
      " F1: 0.0718562874251497\n",
      "6,155,0,0\n",
      "Bucket 0.5923076923076923: \n",
      " Count: 192\n",
      " F1: 0.11764705882352941\n",
      "12,180,0,0\n",
      "Bucket 0.676923076923077: \n",
      " Count: 182\n",
      " F1: 0.12903225806451613\n",
      "12,162,8,0\n",
      "Bucket 0.7615384615384616: \n",
      " Count: 164\n",
      " F1: 0.178343949044586\n",
      "14,127,21,2\n",
      "Bucket 0.8461538461538463: \n",
      " Count: 217\n",
      " F1: 0.13145539906103285\n",
      "14,182,18,3\n",
      "Bucket 0.9307692307692308: \n",
      " Count: 416\n",
      " F1: 0.15267175572519084\n",
      "30,326,53,7\n",
      "Bucket 1.0153846153846153: \n",
      " Count: 1066\n",
      " F1: 0.1592920353982301\n",
      "81,833,130,22\n",
      "Bucket 1.1: \n",
      " Count: 0\n",
      " F1: 0\n",
      "0,0,0,0\n"
     ]
    }
   ],
   "source": [
    "for i in range(13):\n",
    "    count = 0\n",
    "    tp,fp,tn,fn = 0,0,0,0\n",
    "    for j,p in enumerate(test_y):\n",
    "        if uncertainty_h[j] >= buckets[i] and uncertainty_h[j] < buckets[i+1]:\n",
    "            count += 1\n",
    "            if p == 0 and preds[j] == 0:\n",
    "                tn += 1\n",
    "            elif p == 0 and preds[j] == 1:\n",
    "                fp += 1\n",
    "            elif p == 1 and preds[j] == 0:\n",
    "                fn += 1\n",
    "            else: #p == 1 and preds[j] == 1:\n",
    "                tp += 1\n",
    "    try:\n",
    "        p = tp / (tp + fp)\n",
    "    except:\n",
    "        p = 0\n",
    "    try:\n",
    "        r = tp / (tp + fn)\n",
    "    except: \n",
    "        r = 0\n",
    "    try:\n",
    "        f1 = 2/(1/p + 1/r)\n",
    "    except:\n",
    "        f1 = 0\n",
    "    print (\"Bucket {}: \\n Count: {}\\n F1: {}\\n{},{},{},{}\".format(buckets[i+1], count, f1,tp,fp,tn,fn))"
   ]
  },
  {
   "cell_type": "code",
   "execution_count": 52,
   "id": "a939b906",
   "metadata": {},
   "outputs": [
    {
     "data": {
      "text/plain": [
       "0.97082888651725363"
      ]
     },
     "execution_count": 52,
     "metadata": {},
     "output_type": "execute_result"
    }
   ],
   "source": [
    "gpc_high.score(dev_features.detach().numpy(),dev_y)"
   ]
  },
  {
   "cell_type": "code",
   "execution_count": 53,
   "id": "c857770f",
   "metadata": {},
   "outputs": [
    {
     "data": {
      "text/plain": [
       "RBF(length_scale=1) + WhiteKernel(noise_level=1e-05)"
      ]
     },
     "execution_count": 53,
     "metadata": {},
     "output_type": "execute_result"
    }
   ],
   "source": [
    "gpc_high.kernel_"
   ]
  },
  {
   "cell_type": "code",
   "execution_count": null,
   "id": "8c24cd9a",
   "metadata": {},
   "outputs": [],
   "source": []
  }
 ],
 "metadata": {
  "kernelspec": {
   "display_name": "Python 3 (ipykernel)",
   "language": "python",
   "name": "python3"
  },
  "language_info": {
   "codemirror_mode": {
    "name": "ipython",
    "version": 3
   },
   "file_extension": ".py",
   "mimetype": "text/x-python",
   "name": "python",
   "nbconvert_exporter": "python",
   "pygments_lexer": "ipython3",
   "version": "3.6.13"
  }
 },
 "nbformat": 4,
 "nbformat_minor": 5
}
